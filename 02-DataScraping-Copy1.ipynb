{
 "cells": [
  {
   "cell_type": "code",
   "execution_count": 192,
   "metadata": {
    "slideshow": {
     "slide_type": "skip"
    }
   },
   "outputs": [
    {
     "name": "stdout",
     "output_type": "stream",
     "text": [
      "Requirement already satisfied: secret in c:\\users\\honza\\appdata\\local\\programs\\python\\python36-32\\lib\\site-packages\n",
      "Requirement already satisfied: boto3>=1.2.3 in c:\\users\\honza\\appdata\\local\\programs\\python\\python36-32\\lib\\site-packages (from secret)\n",
      "Requirement already satisfied: pycryptodome>=3.1 in c:\\users\\honza\\appdata\\local\\programs\\python\\python36-32\\lib\\site-packages (from secret)\n",
      "Requirement already satisfied: tabulate>=0.7.5 in c:\\users\\honza\\appdata\\local\\programs\\python\\python36-32\\lib\\site-packages (from secret)\n",
      "Requirement already satisfied: pytest>=2.8.5 in c:\\users\\honza\\appdata\\local\\programs\\python\\python36-32\\lib\\site-packages (from secret)\n",
      "Requirement already satisfied: six in c:\\users\\honza\\appdata\\local\\programs\\python\\python36-32\\lib\\site-packages (from secret)\n",
      "Requirement already satisfied: jmespath<1.0.0,>=0.7.1 in c:\\users\\honza\\appdata\\local\\programs\\python\\python36-32\\lib\\site-packages (from boto3>=1.2.3->secret)\n",
      "Requirement already satisfied: botocore<1.8.0,>=1.7.0 in c:\\users\\honza\\appdata\\local\\programs\\python\\python36-32\\lib\\site-packages (from boto3>=1.2.3->secret)\n",
      "Requirement already satisfied: s3transfer<0.2.0,>=0.1.10 in c:\\users\\honza\\appdata\\local\\programs\\python\\python36-32\\lib\\site-packages (from boto3>=1.2.3->secret)\n",
      "Requirement already satisfied: colorama; sys_platform == \"win32\" in c:\\users\\honza\\appdata\\local\\programs\\python\\python36-32\\lib\\site-packages (from pytest>=2.8.5->secret)\n",
      "Requirement already satisfied: py>=1.4.33 in c:\\users\\honza\\appdata\\local\\programs\\python\\python36-32\\lib\\site-packages (from pytest>=2.8.5->secret)\n",
      "Requirement already satisfied: setuptools in c:\\users\\honza\\appdata\\local\\programs\\python\\python36-32\\lib\\site-packages (from pytest>=2.8.5->secret)\n",
      "Requirement already satisfied: docutils>=0.10 in c:\\users\\honza\\appdata\\local\\programs\\python\\python36-32\\lib\\site-packages (from botocore<1.8.0,>=1.7.0->boto3>=1.2.3->secret)\n",
      "Requirement already satisfied: python-dateutil<3.0.0,>=2.1 in c:\\users\\honza\\appdata\\local\\programs\\python\\python36-32\\lib\\site-packages (from botocore<1.8.0,>=1.7.0->boto3>=1.2.3->secret)\n"
     ]
    }
   ],
   "source": [
    "## all imports\n",
    "!pip3 install secret\n",
    "from IPython.display import HTML\n",
    "import numpy as np\n",
    "import urllib\n",
    "import bs4 #this is beautiful soup\n",
    "import time\n",
    "import operator\n",
    "import socket\n",
    "import _pickle as cPickle\n",
    "#import cPickle\n",
    "import re # regular expressions\n",
    "\n",
    "from pandas import Series\n",
    "import pandas as pd\n",
    "from pandas import DataFrame\n",
    "\n",
    "import matplotlib\n",
    "import matplotlib.pyplot as plt\n",
    "%matplotlib inline\n",
    "\n",
    "import seaborn as sns\n",
    "sns.set_context(\"talk\")\n",
    "sns.set_style(\"white\")\n",
    "\n",
    "from secret import *"
   ]
  },
  {
   "cell_type": "markdown",
   "metadata": {
    "slideshow": {
     "slide_type": "skip"
    }
   },
   "source": [
    "API registrations\n",
    "=================\n",
    "\n",
    "If you would like to run all the examples in this notebook, you need to register for the following APIs:\n",
    "\n",
    "* Rotten Tomatoes\n",
    "\n",
    "http://developer.rottentomatoes.com/member/register\n",
    "\n",
    "* Twitter\n",
    "\n",
    "https://apps.twitter.com/app/new\n",
    "\n",
    "* Twitter instructions\n",
    "\n",
    "https://twittercommunity.com/t/how-to-get-my-api-key/7033"
   ]
  },
  {
   "cell_type": "markdown",
   "metadata": {
    "slideshow": {
     "slide_type": "slide"
    }
   },
   "source": [
    "CS109\n",
    "=====\n",
    "\n",
    "Verena Kaynig-Fittkau, Joe Blitzstein, Hanspeter Pfister\n",
    "\n",
    "* vkaynig@seas.harvard.edu\n",
    "* staff@cs109.org"
   ]
  },
  {
   "cell_type": "markdown",
   "metadata": {
    "slideshow": {
     "slide_type": "slide"
    }
   },
   "source": [
    "Announcements\n",
    "==============\n",
    "\n",
    "* Over 400 sign ups on github!\n",
    "* If you are still missing, fill out the survey, time is running out!\n",
    "* Make sure you are on Piazza!\n",
    "\n",
    "\n",
    "* More [git help](https://www.youtube.com/channel/UC0-KaiZFXBlGOFN71YsEV8g/videos)\n",
    "\n",
    "\n",
    "* HW0 is due on Thursday \n",
    "* HW1 is coming out on Thursday\n"
   ]
  },
  {
   "cell_type": "markdown",
   "metadata": {
    "slideshow": {
     "slide_type": "slide"
    }
   },
   "source": [
    "Todays lecture:\n",
    "===============\n",
    "\n",
    "* introduction to pandas\n",
    "    - read a table\n",
    "    - do some plots\n",
    "\n",
    "* all about data scraping\n",
    "* ***What is it? ***\n",
    "* How to do it:\n",
    "    - from a website\n",
    "    - with an API"
   ]
  },
  {
   "cell_type": "markdown",
   "metadata": {
    "slideshow": {
     "slide_type": "skip"
    }
   },
   "source": [
    "Answer: Data scraping is about obtaining data from webpages. There is low level scraping where you parse the data out of the html code of the webpage. There also is scraping over APIs from websites who try to make your life a bit easier."
   ]
  },
  {
   "cell_type": "markdown",
   "metadata": {
    "slideshow": {
     "slide_type": "slide"
    }
   },
   "source": [
    "IPython Notebooks:\n",
    "===================\n",
    "\n",
    "![IPython](images/ipython.png \"IPython\")"
   ]
  },
  {
   "cell_type": "markdown",
   "metadata": {
    "collapsed": true,
    "slideshow": {
     "slide_type": "slide"
    }
   },
   "source": [
    "IPython Notebooks:\n",
    "===================\n",
    "\n",
    "* These slides are an IPython notebook!\n",
    "* https://github.com/damianavila/live_reveal"
   ]
  },
  {
   "cell_type": "code",
   "execution_count": 10,
   "metadata": {},
   "outputs": [
    {
     "name": "stdout",
     "output_type": "stream",
     "text": [
      "Hello CS109\n",
      "I love IPython\n"
     ]
    }
   ],
   "source": [
    "print(\"Hello CS109\")\n",
    "\n",
    "print(\"I love IPython\")\n",
    "\n",
    "# Ipython notebook have tab completion!\n",
    "# and inbuild help\n",
    "  \n",
    "a = np.zeros(3)"
   ]
  },
  {
   "cell_type": "markdown",
   "metadata": {
    "slideshow": {
     "slide_type": "slide"
    }
   },
   "source": [
    "General advice about programming\n",
    "==================================\n",
    "\n",
    "* You will find nearly everything on google\n",
    "* Try: length of a list in python\n",
    "* A programmer is someone who can turn stack overflow snippets into running code\n",
    "* Use tab completion\n",
    "* Make your variable names meaningful\n"
   ]
  },
  {
   "cell_type": "markdown",
   "metadata": {
    "slideshow": {
     "slide_type": "slide"
    }
   },
   "source": [
    "How to load a table\n",
    "===================\n",
    "\n",
    "* we use Pandas for this\n",
    "* Pandas can do a __lot__ more\n",
    "* more about it later"
   ]
  },
  {
   "cell_type": "markdown",
   "metadata": {
    "slideshow": {
     "slide_type": "slide"
    }
   },
   "source": [
    "The MovieLens data\n",
    "===================\n",
    "\n",
    "http://grouplens.org/datasets/movielens/\n",
    "\n",
    "![Grouplens](images/grouplens.jpg \"Grouplens\")\n",
    "\n",
    "Example inspired by [Greg Reda](http://www.gregreda.com/2013/10/26/using-pandas-on-the-movielens-dataset/)"
   ]
  },
  {
   "cell_type": "markdown",
   "metadata": {
    "slideshow": {
     "slide_type": "slide"
    }
   },
   "source": [
    "Read the user data\n",
    "=================="
   ]
  },
  {
   "cell_type": "code",
   "execution_count": 11,
   "metadata": {
    "slideshow": {
     "slide_type": "-"
    }
   },
   "outputs": [
    {
     "data": {
      "text/html": [
       "<div>\n",
       "<style>\n",
       "    .dataframe thead tr:only-child th {\n",
       "        text-align: right;\n",
       "    }\n",
       "\n",
       "    .dataframe thead th {\n",
       "        text-align: left;\n",
       "    }\n",
       "\n",
       "    .dataframe tbody tr th {\n",
       "        vertical-align: top;\n",
       "    }\n",
       "</style>\n",
       "<table border=\"1\" class=\"dataframe\">\n",
       "  <thead>\n",
       "    <tr style=\"text-align: right;\">\n",
       "      <th></th>\n",
       "      <th>user_id</th>\n",
       "      <th>age</th>\n",
       "      <th>sex</th>\n",
       "      <th>occupation</th>\n",
       "      <th>zip_code</th>\n",
       "    </tr>\n",
       "  </thead>\n",
       "  <tbody>\n",
       "    <tr>\n",
       "      <th>0</th>\n",
       "      <td>1</td>\n",
       "      <td>24</td>\n",
       "      <td>M</td>\n",
       "      <td>technician</td>\n",
       "      <td>85711</td>\n",
       "    </tr>\n",
       "    <tr>\n",
       "      <th>1</th>\n",
       "      <td>2</td>\n",
       "      <td>53</td>\n",
       "      <td>F</td>\n",
       "      <td>other</td>\n",
       "      <td>94043</td>\n",
       "    </tr>\n",
       "    <tr>\n",
       "      <th>2</th>\n",
       "      <td>3</td>\n",
       "      <td>23</td>\n",
       "      <td>M</td>\n",
       "      <td>writer</td>\n",
       "      <td>32067</td>\n",
       "    </tr>\n",
       "    <tr>\n",
       "      <th>3</th>\n",
       "      <td>4</td>\n",
       "      <td>24</td>\n",
       "      <td>M</td>\n",
       "      <td>technician</td>\n",
       "      <td>43537</td>\n",
       "    </tr>\n",
       "    <tr>\n",
       "      <th>4</th>\n",
       "      <td>5</td>\n",
       "      <td>33</td>\n",
       "      <td>F</td>\n",
       "      <td>other</td>\n",
       "      <td>15213</td>\n",
       "    </tr>\n",
       "  </tbody>\n",
       "</table>\n",
       "</div>"
      ],
      "text/plain": [
       "   user_id  age sex  occupation zip_code\n",
       "0        1   24   M  technician    85711\n",
       "1        2   53   F       other    94043\n",
       "2        3   23   M      writer    32067\n",
       "3        4   24   M  technician    43537\n",
       "4        5   33   F       other    15213"
      ]
     },
     "execution_count": 11,
     "metadata": {},
     "output_type": "execute_result"
    }
   ],
   "source": [
    "# pass in column names for each CSV\n",
    "u_cols = ['user_id', 'age', 'sex', 'occupation', 'zip_code']\n",
    "\n",
    "users = pd.read_csv(\n",
    "    'http://files.grouplens.org/datasets/movielens/ml-100k/u.user', \n",
    "    sep='|', names=u_cols)\n",
    "\n",
    "users.head()"
   ]
  },
  {
   "cell_type": "markdown",
   "metadata": {
    "slideshow": {
     "slide_type": "slide"
    }
   },
   "source": [
    "Read the ratings\n",
    "============"
   ]
  },
  {
   "cell_type": "code",
   "execution_count": 12,
   "metadata": {},
   "outputs": [
    {
     "data": {
      "text/html": [
       "<div>\n",
       "<style>\n",
       "    .dataframe thead tr:only-child th {\n",
       "        text-align: right;\n",
       "    }\n",
       "\n",
       "    .dataframe thead th {\n",
       "        text-align: left;\n",
       "    }\n",
       "\n",
       "    .dataframe tbody tr th {\n",
       "        vertical-align: top;\n",
       "    }\n",
       "</style>\n",
       "<table border=\"1\" class=\"dataframe\">\n",
       "  <thead>\n",
       "    <tr style=\"text-align: right;\">\n",
       "      <th></th>\n",
       "      <th>user_id</th>\n",
       "      <th>movie_id</th>\n",
       "      <th>rating</th>\n",
       "      <th>unix_timestamp</th>\n",
       "    </tr>\n",
       "  </thead>\n",
       "  <tbody>\n",
       "    <tr>\n",
       "      <th>0</th>\n",
       "      <td>196</td>\n",
       "      <td>242</td>\n",
       "      <td>3</td>\n",
       "      <td>881250949</td>\n",
       "    </tr>\n",
       "    <tr>\n",
       "      <th>1</th>\n",
       "      <td>186</td>\n",
       "      <td>302</td>\n",
       "      <td>3</td>\n",
       "      <td>891717742</td>\n",
       "    </tr>\n",
       "    <tr>\n",
       "      <th>2</th>\n",
       "      <td>22</td>\n",
       "      <td>377</td>\n",
       "      <td>1</td>\n",
       "      <td>878887116</td>\n",
       "    </tr>\n",
       "    <tr>\n",
       "      <th>3</th>\n",
       "      <td>244</td>\n",
       "      <td>51</td>\n",
       "      <td>2</td>\n",
       "      <td>880606923</td>\n",
       "    </tr>\n",
       "    <tr>\n",
       "      <th>4</th>\n",
       "      <td>166</td>\n",
       "      <td>346</td>\n",
       "      <td>1</td>\n",
       "      <td>886397596</td>\n",
       "    </tr>\n",
       "  </tbody>\n",
       "</table>\n",
       "</div>"
      ],
      "text/plain": [
       "   user_id  movie_id  rating  unix_timestamp\n",
       "0      196       242       3       881250949\n",
       "1      186       302       3       891717742\n",
       "2       22       377       1       878887116\n",
       "3      244        51       2       880606923\n",
       "4      166       346       1       886397596"
      ]
     },
     "execution_count": 12,
     "metadata": {},
     "output_type": "execute_result"
    }
   ],
   "source": [
    "r_cols = ['user_id', 'movie_id', 'rating', 'unix_timestamp']\n",
    "ratings = pd.read_csv(\n",
    "    'http://files.grouplens.org/datasets/movielens/ml-100k/u.data', \n",
    "    sep='\\t', names=r_cols)\n",
    "\n",
    "ratings.head() "
   ]
  },
  {
   "cell_type": "markdown",
   "metadata": {
    "slideshow": {
     "slide_type": "slide"
    }
   },
   "source": [
    "Now data about the movies\n",
    "========================="
   ]
  },
  {
   "cell_type": "code",
   "execution_count": 16,
   "metadata": {},
   "outputs": [
    {
     "data": {
      "text/html": [
       "<div>\n",
       "<style>\n",
       "    .dataframe thead tr:only-child th {\n",
       "        text-align: right;\n",
       "    }\n",
       "\n",
       "    .dataframe thead th {\n",
       "        text-align: left;\n",
       "    }\n",
       "\n",
       "    .dataframe tbody tr th {\n",
       "        vertical-align: top;\n",
       "    }\n",
       "</style>\n",
       "<table border=\"1\" class=\"dataframe\">\n",
       "  <thead>\n",
       "    <tr style=\"text-align: right;\">\n",
       "      <th></th>\n",
       "      <th>movie_id</th>\n",
       "      <th>title</th>\n",
       "      <th>release_date</th>\n",
       "      <th>video_release_date</th>\n",
       "      <th>imdb_url</th>\n",
       "    </tr>\n",
       "  </thead>\n",
       "  <tbody>\n",
       "    <tr>\n",
       "      <th>0</th>\n",
       "      <td>1</td>\n",
       "      <td>Toy Story (1995)</td>\n",
       "      <td>01-Jan-1995</td>\n",
       "      <td>NaN</td>\n",
       "      <td>http://us.imdb.com/M/title-exact?Toy%20Story%2...</td>\n",
       "    </tr>\n",
       "    <tr>\n",
       "      <th>1</th>\n",
       "      <td>2</td>\n",
       "      <td>GoldenEye (1995)</td>\n",
       "      <td>01-Jan-1995</td>\n",
       "      <td>NaN</td>\n",
       "      <td>http://us.imdb.com/M/title-exact?GoldenEye%20(...</td>\n",
       "    </tr>\n",
       "    <tr>\n",
       "      <th>2</th>\n",
       "      <td>3</td>\n",
       "      <td>Four Rooms (1995)</td>\n",
       "      <td>01-Jan-1995</td>\n",
       "      <td>NaN</td>\n",
       "      <td>http://us.imdb.com/M/title-exact?Four%20Rooms%...</td>\n",
       "    </tr>\n",
       "    <tr>\n",
       "      <th>3</th>\n",
       "      <td>4</td>\n",
       "      <td>Get Shorty (1995)</td>\n",
       "      <td>01-Jan-1995</td>\n",
       "      <td>NaN</td>\n",
       "      <td>http://us.imdb.com/M/title-exact?Get%20Shorty%...</td>\n",
       "    </tr>\n",
       "    <tr>\n",
       "      <th>4</th>\n",
       "      <td>5</td>\n",
       "      <td>Copycat (1995)</td>\n",
       "      <td>01-Jan-1995</td>\n",
       "      <td>NaN</td>\n",
       "      <td>http://us.imdb.com/M/title-exact?Copycat%20(1995)</td>\n",
       "    </tr>\n",
       "  </tbody>\n",
       "</table>\n",
       "</div>"
      ],
      "text/plain": [
       "   movie_id              title release_date  video_release_date  \\\n",
       "0         1   Toy Story (1995)  01-Jan-1995                 NaN   \n",
       "1         2   GoldenEye (1995)  01-Jan-1995                 NaN   \n",
       "2         3  Four Rooms (1995)  01-Jan-1995                 NaN   \n",
       "3         4  Get Shorty (1995)  01-Jan-1995                 NaN   \n",
       "4         5     Copycat (1995)  01-Jan-1995                 NaN   \n",
       "\n",
       "                                            imdb_url  \n",
       "0  http://us.imdb.com/M/title-exact?Toy%20Story%2...  \n",
       "1  http://us.imdb.com/M/title-exact?GoldenEye%20(...  \n",
       "2  http://us.imdb.com/M/title-exact?Four%20Rooms%...  \n",
       "3  http://us.imdb.com/M/title-exact?Get%20Shorty%...  \n",
       "4  http://us.imdb.com/M/title-exact?Copycat%20(1995)  "
      ]
     },
     "execution_count": 16,
     "metadata": {},
     "output_type": "execute_result"
    }
   ],
   "source": [
    "# the movies file contains columns indicating the movie's genres\n",
    "# let's only load the first five columns of the file with usecols\n",
    "m_cols = ['movie_id', 'title', 'release_date', \n",
    "            'video_release_date', 'imdb_url']\n",
    "\n",
    "movies = pd.read_csv(\n",
    "    'http://files.grouplens.org/datasets/movielens/ml-100k/u.item', \n",
    "    sep='|', names=m_cols, usecols=range(5), encoding = \"ISO-8859-1\")\n",
    "\n",
    "movies.head()"
   ]
  },
  {
   "cell_type": "markdown",
   "metadata": {
    "slideshow": {
     "slide_type": "slide"
    }
   },
   "source": [
    "Get information about data\n",
    "======================="
   ]
  },
  {
   "cell_type": "code",
   "execution_count": 18,
   "metadata": {},
   "outputs": [
    {
     "name": "stdout",
     "output_type": "stream",
     "text": [
      "movie_id                int64\n",
      "title                  object\n",
      "release_date           object\n",
      "video_release_date    float64\n",
      "imdb_url               object\n",
      "dtype: object\n",
      "\n",
      "          movie_id  video_release_date\n",
      "count  1682.000000                 0.0\n",
      "mean    841.500000                 NaN\n",
      "std     485.695893                 NaN\n",
      "min       1.000000                 NaN\n",
      "25%     421.250000                 NaN\n",
      "50%     841.500000                 NaN\n",
      "75%    1261.750000                 NaN\n",
      "max    1682.000000                 NaN\n"
     ]
    }
   ],
   "source": [
    "print(movies.dtypes)\n",
    "print()\n",
    "print(movies.describe())\n",
    "# *** Why only those two columns? ***"
   ]
  },
  {
   "cell_type": "markdown",
   "metadata": {
    "slideshow": {
     "slide_type": "slide"
    }
   },
   "source": [
    "Selecting data\n",
    "==============\n",
    "\n",
    "* DataFrame => group of Series with shared index\n",
    "* single DataFrame column => Series"
   ]
  },
  {
   "cell_type": "code",
   "execution_count": 26,
   "metadata": {
    "slideshow": {
     "slide_type": "slide"
    }
   },
   "outputs": [
    {
     "name": "stdout",
     "output_type": "stream",
     "text": [
      "   occupation sex\n",
      "0  technician   M\n",
      "1       other   F\n",
      "2      writer   M\n",
      "3  technician   M\n",
      "4       other   F\n",
      "user_id                1\n",
      "age                   24\n",
      "sex                    M\n",
      "occupation    technician\n",
      "zip_code           85711\n",
      "Name: 0, dtype: object\n"
     ]
    }
   ],
   "source": [
    "users.head()\n",
    "users['occupation'].head()\n",
    "## *** Where did the nice design go? ***\n",
    "columns_you_want = ['occupation', 'sex'] \n",
    "print(users[columns_you_want].head())\n",
    "\n",
    "#print users.head()\n",
    "\n",
    "# Rows.\n",
    "print(users.iloc[0])"
   ]
  },
  {
   "cell_type": "markdown",
   "metadata": {
    "slideshow": {
     "slide_type": "slide"
    }
   },
   "source": [
    "Filtering data\n",
    "==============\n",
    "\n",
    "Select users older than 25"
   ]
  },
  {
   "cell_type": "code",
   "execution_count": 129,
   "metadata": {},
   "outputs": [
    {
     "name": "stdout",
     "output_type": "stream",
     "text": [
      "0      False\n",
      "1       True\n",
      "2      False\n",
      "3      False\n",
      "4       True\n",
      "5       True\n",
      "6       True\n",
      "7       True\n",
      "8       True\n",
      "9       True\n",
      "10      True\n",
      "11      True\n",
      "12      True\n",
      "13      True\n",
      "14      True\n",
      "15     False\n",
      "16      True\n",
      "17      True\n",
      "18      True\n",
      "19      True\n",
      "20      True\n",
      "21     False\n",
      "22      True\n",
      "23     False\n",
      "24      True\n",
      "25      True\n",
      "26      True\n",
      "27      True\n",
      "28      True\n",
      "29     False\n",
      "       ...  \n",
      "913     True\n",
      "914     True\n",
      "915     True\n",
      "916    False\n",
      "917     True\n",
      "918    False\n",
      "919     True\n",
      "920    False\n",
      "921     True\n",
      "922    False\n",
      "923     True\n",
      "924    False\n",
      "925     True\n",
      "926    False\n",
      "927    False\n",
      "928     True\n",
      "929     True\n",
      "930     True\n",
      "931     True\n",
      "932     True\n",
      "933     True\n",
      "934     True\n",
      "935    False\n",
      "936     True\n",
      "937     True\n",
      "938     True\n",
      "939     True\n",
      "940    False\n",
      "941     True\n",
      "942    False\n",
      "Name: age, Length: 943, dtype: bool\n"
     ]
    },
    {
     "data": {
      "text/html": [
       "<div>\n",
       "<style>\n",
       "    .dataframe thead tr:only-child th {\n",
       "        text-align: right;\n",
       "    }\n",
       "\n",
       "    .dataframe thead th {\n",
       "        text-align: left;\n",
       "    }\n",
       "\n",
       "    .dataframe tbody tr th {\n",
       "        vertical-align: top;\n",
       "    }\n",
       "</style>\n",
       "<table border=\"1\" class=\"dataframe\">\n",
       "  <thead>\n",
       "    <tr style=\"text-align: right;\">\n",
       "      <th></th>\n",
       "      <th>user_id</th>\n",
       "      <th>age</th>\n",
       "      <th>sex</th>\n",
       "      <th>occupation</th>\n",
       "      <th>zip_code</th>\n",
       "    </tr>\n",
       "  </thead>\n",
       "  <tbody>\n",
       "    <tr>\n",
       "      <th>1</th>\n",
       "      <td>2</td>\n",
       "      <td>53</td>\n",
       "      <td>F</td>\n",
       "      <td>other</td>\n",
       "      <td>94043</td>\n",
       "    </tr>\n",
       "    <tr>\n",
       "      <th>5</th>\n",
       "      <td>6</td>\n",
       "      <td>42</td>\n",
       "      <td>M</td>\n",
       "      <td>executive</td>\n",
       "      <td>98101</td>\n",
       "    </tr>\n",
       "    <tr>\n",
       "      <th>6</th>\n",
       "      <td>7</td>\n",
       "      <td>57</td>\n",
       "      <td>M</td>\n",
       "      <td>administrator</td>\n",
       "      <td>91344</td>\n",
       "    </tr>\n",
       "    <tr>\n",
       "      <th>9</th>\n",
       "      <td>10</td>\n",
       "      <td>53</td>\n",
       "      <td>M</td>\n",
       "      <td>lawyer</td>\n",
       "      <td>90703</td>\n",
       "    </tr>\n",
       "    <tr>\n",
       "      <th>12</th>\n",
       "      <td>13</td>\n",
       "      <td>47</td>\n",
       "      <td>M</td>\n",
       "      <td>educator</td>\n",
       "      <td>29206</td>\n",
       "    </tr>\n",
       "  </tbody>\n",
       "</table>\n",
       "</div>"
      ],
      "text/plain": [
       "    user_id  age sex     occupation zip_code\n",
       "1         2   53   F          other    94043\n",
       "5         6   42   M      executive    98101\n",
       "6         7   57   M  administrator    91344\n",
       "9        10   53   M         lawyer    90703\n",
       "12       13   47   M       educator    29206"
      ]
     },
     "execution_count": 129,
     "metadata": {},
     "output_type": "execute_result"
    }
   ],
   "source": [
    "# This returns boolean list\n",
    "print(users.age > 25 )\n",
    "# when we pass this boolean list into list\n",
    "# it selects only those elements for which the statement is True\n",
    "\n",
    "oldUsers = users[users.age > 40]\n",
    "oldUsers.head()"
   ]
  },
  {
   "cell_type": "markdown",
   "metadata": {
    "slideshow": {
     "slide_type": "slide"
    }
   },
   "source": [
    "Quiz:\n",
    "=====\n",
    "\n",
    "* show users aged 40 and male\n",
    "\n",
    "* show the mean age of female programmers"
   ]
  },
  {
   "cell_type": "code",
   "execution_count": 38,
   "metadata": {
    "slideshow": {
     "slide_type": "slide"
    }
   },
   "outputs": [
    {
     "name": "stdout",
     "output_type": "stream",
     "text": [
      "     user_id  age sex  occupation zip_code\n",
      "18        19   40   M   librarian    02138\n",
      "82        83   40   M       other    44133\n",
      "115      116   40   M  healthcare    97232\n",
      "199      200   40   M  programmer    93402\n",
      "283      284   40   M   executive    92629\n"
     ]
    }
   ],
   "source": [
    "# Age == 40 and is Male\n",
    "filtered = users[(users.age == 40) & (users.sex == \"M\")]\n",
    "print(filtered.head())"
   ]
  },
  {
   "cell_type": "code",
   "execution_count": 46,
   "metadata": {
    "slideshow": {
     "slide_type": "slide"
    }
   },
   "outputs": [
    {
     "name": "stdout",
     "output_type": "stream",
     "text": [
      "          user_id        age\n",
      "count    6.000000   6.000000\n",
      "mean   411.166667  32.166667\n",
      "std    149.987222   5.115336\n",
      "min    292.000000  26.000000\n",
      "25%    313.000000  28.250000\n",
      "50%    378.000000  32.000000\n",
      "75%    416.750000  36.500000\n",
      "max    698.000000  38.000000\n",
      "     user_id  age sex  occupation zip_code\n",
      "291      292   35   F  programmer    94703\n",
      "299      300   26   F  programmer    55106\n",
      "351      352   37   F  programmer    55105\n",
      "403      404   29   F  programmer    55108\n",
      "420      421   38   F  programmer    55105\n"
     ]
    },
    {
     "data": {
      "text/plain": [
       "32.166666666666664"
      ]
     },
     "execution_count": 46,
     "metadata": {},
     "output_type": "execute_result"
    }
   ],
   "source": [
    "female_programmers = users[(users.sex == \"F\") & (users.occupation == \"programmer\")]\n",
    "print(female_programmers.describe())\n",
    "print(female_programmers.head())\n",
    "\n",
    "# Alternatives for selecting only mean.\n",
    "np.mean(female_programmers[\"age\"])\n",
    "np.mean(female_programmers.age)"
   ]
  },
  {
   "cell_type": "markdown",
   "metadata": {
    "slideshow": {
     "slide_type": "slide"
    }
   },
   "source": [
    "Split-apply-combine\n",
    "===================\n",
    "\n",
    "* splitting the data into groups based on some criteria\n",
    "* applying a function to each group independently\n",
    "* combining the results into a data structure"
   ]
  },
  {
   "cell_type": "markdown",
   "metadata": {
    "slideshow": {
     "slide_type": "slide"
    }
   },
   "source": [
    "Split-apply-combine\n",
    "===================\n",
    "\n",
    "<img src=http://i.imgur.com/yjNkiwL.png></img>"
   ]
  },
  {
   "cell_type": "markdown",
   "metadata": {
    "slideshow": {
     "slide_type": "slide"
    }
   },
   "source": [
    "Find Diligent Users\n",
    "===================\n",
    "\n",
    "* split data per user ID\n",
    "* count ratings\n",
    "* combine result"
   ]
  },
  {
   "cell_type": "code",
   "execution_count": 50,
   "metadata": {
    "slideshow": {
     "slide_type": "slide"
    }
   },
   "outputs": [
    {
     "name": "stdout",
     "output_type": "stream",
     "text": [
      "   user_id  movie_id  rating  unix_timestamp\n",
      "0      196       242       3       881250949\n",
      "1      186       302       3       891717742\n",
      "2       22       377       1       878887116\n",
      "3      244        51       2       880606923\n",
      "4      166       346       1       886397596\n"
     ]
    },
    {
     "data": {
      "text/plain": [
       "user_id\n",
       "1    272\n",
       "2     62\n",
       "3     54\n",
       "4     24\n",
       "5    175\n",
       "Name: movie_id, dtype: int64"
      ]
     },
     "execution_count": 50,
     "metadata": {},
     "output_type": "execute_result"
    }
   ],
   "source": [
    "print(ratings.head())\n",
    "## split data\n",
    "#grouped_data = ratings.groupby('user_id')\n",
    "grouped_data = ratings['movie_id'].groupby(ratings['user_id'])\n",
    "\n",
    "## count and combine\n",
    "ratings_per_user = grouped_data.count()\n",
    "\n",
    "ratings_per_user.head(5)"
   ]
  },
  {
   "cell_type": "markdown",
   "metadata": {
    "slideshow": {
     "slide_type": "slide"
    }
   },
   "source": [
    "Quiz\n",
    "====\n",
    "\n",
    "* get the average rating per movie\n",
    "* advanced: get the movie titles with the highest average rating"
   ]
  },
  {
   "cell_type": "code",
   "execution_count": 100,
   "metadata": {
    "collapsed": true,
    "slideshow": {
     "slide_type": "slide"
    }
   },
   "outputs": [],
   "source": [
    "# Split data.\n",
    "grouped = ratings[\"rating\"].groupby(ratings[\"movie_id\"])\n",
    "average_ratings = grouped.mean()"
   ]
  },
  {
   "cell_type": "code",
   "execution_count": 101,
   "metadata": {
    "slideshow": {
     "slide_type": "slide"
    }
   },
   "outputs": [
    {
     "name": "stdout",
     "output_type": "stream",
     "text": [
      "Highest average rating is 5.0\n",
      "813                         Great Day in Harlem, A (1994)\n",
      "1121                       They Made Me a Criminal (1939)\n",
      "1188                                   Prefontaine (1997)\n",
      "1200           Marlene Dietrich: Shadow and Light (1996) \n",
      "1292                                      Star Kid (1997)\n",
      "1466                 Saint of Fort Washington, The (1993)\n",
      "1499                            Santa with Muscles (1996)\n",
      "1535                                 Aiqing wansui (1994)\n",
      "1598                        Someone Else's America (1995)\n",
      "1652    Entertaining Angels: The Dorothy Day Story (1996)\n",
      "Name: title, dtype: object\n"
     ]
    }
   ],
   "source": [
    "#sorted_ids = avg_rating_per_movie.sort_values(ascending = False)\n",
    "#print(sorted_ids.head(5))\n",
    "highest_avg_rating = average_ratings.max()\n",
    "print(\"Highest average rating is {}\".format(highest_avg_rating))\n",
    "top_movies_ids = average_ratings[average_ratings == highest_avg_rating].index\n",
    "#print(movies.head(5))\n",
    "top_movies_titles = movies[movies.movie_id.isin(top_movies_ids)].title\n",
    "#print(top_movies_titles.to_string(index=False))\n",
    "print(top_movies_titles)"
   ]
  },
  {
   "cell_type": "code",
   "execution_count": 102,
   "metadata": {
    "slideshow": {
     "slide_type": "slide"
    }
   },
   "outputs": [
    {
     "name": "stdout",
     "output_type": "stream",
     "text": [
      "Number of ratings per movie\n",
      "movie_id\n",
      "814     1\n",
      "1122    1\n",
      "1189    3\n",
      "1201    1\n",
      "1293    3\n",
      "1467    2\n",
      "1500    2\n",
      "1536    1\n",
      "1599    1\n",
      "1653    1\n",
      "Name: rating, dtype: int64\n"
     ]
    }
   ],
   "source": [
    "how_many_ratings = grouped.count()\n",
    "print(\"Number of ratings per movie\")\n",
    "print(how_many_ratings[average_ratings == highest_avg_rating])"
   ]
  },
  {
   "cell_type": "markdown",
   "metadata": {
    "slideshow": {
     "slide_type": "slide"
    }
   },
   "source": [
    "Passing a Function\n",
    "==================\n"
   ]
  },
  {
   "cell_type": "code",
   "execution_count": 104,
   "metadata": {},
   "outputs": [
    {
     "data": {
      "text/plain": [
       "movie_id\n",
       "1    3.878319\n",
       "2    3.206107\n",
       "3    3.033333\n",
       "4    3.550239\n",
       "5    3.302326\n",
       "Name: rating, dtype: float64"
      ]
     },
     "execution_count": 104,
     "metadata": {},
     "output_type": "execute_result"
    }
   ],
   "source": [
    "average_ratings = grouped.apply(lambda f: f.mean())\n",
    "average_ratings.head()"
   ]
  },
  {
   "cell_type": "markdown",
   "metadata": {
    "slideshow": {
     "slide_type": "slide"
    }
   },
   "source": [
    "Quiz\n",
    "====\n",
    "\n",
    "* get the average rating per user\n",
    "* advanced: list all occupations and if they are male or female dominant"
   ]
  },
  {
   "cell_type": "code",
   "execution_count": 16,
   "metadata": {
    "slideshow": {
     "slide_type": "slide"
    }
   },
   "outputs": [
    {
     "data": {
      "text/plain": [
       "user_id\n",
       "1    3.610294\n",
       "2    3.709677\n",
       "3    2.796296\n",
       "4    4.333333\n",
       "5    2.874286\n",
       "Name: rating, dtype: float64"
      ]
     },
     "execution_count": 16,
     "metadata": {},
     "output_type": "execute_result"
    }
   ],
   "source": [
    "grouped_data = ratings['rating'].groupby(ratings['user_id'])\n",
    "average_ratings = grouped_data.mean()\n",
    "average_ratings.head()"
   ]
  },
  {
   "cell_type": "code",
   "execution_count": 128,
   "metadata": {
    "slideshow": {
     "slide_type": "slide"
    }
   },
   "outputs": [
    {
     "name": "stdout",
     "output_type": "stream",
     "text": [
      "['technician' 'other' 'writer' 'executive' 'administrator' 'student'\n",
      " 'lawyer' 'educator' 'scientist' 'entertainment' 'programmer' 'artist'\n",
      " 'engineer' 'marketing' 'none' 'retired' 'salesman' 'doctor']\n"
     ]
    }
   ],
   "source": [
    "#print(users.head())\n",
    "grouped_data = users[\"sex\"].groupby(users[\"occupation\"])\n",
    "male_dominant_occupations = grouped_data.apply(lambda f: sum(f == \"M\") > sum(f == \"F\"))\n",
    "male_dominant_occupations = male_dominant_occupations[male_dominant_occupations == True].index\n",
    "print(users[users.occupation.isin(male_dominant_occupations)].occupation.unique())"
   ]
  },
  {
   "cell_type": "code",
   "execution_count": 115,
   "metadata": {
    "slideshow": {
     "slide_type": "slide"
    }
   },
   "outputs": [
    {
     "name": "stdout",
     "output_type": "stream",
     "text": [
      "number of male users: \n",
      "670\n",
      "number of female users: \n",
      "273\n"
     ]
    }
   ],
   "source": [
    "print('number of male users: ')\n",
    "print(sum(users['sex'] == 'M'))\n",
    "\n",
    "print('number of female users: ')\n",
    "print(sum(users['sex'] == 'F'))"
   ]
  },
  {
   "cell_type": "markdown",
   "metadata": {
    "slideshow": {
     "slide_type": "slide"
    }
   },
   "source": [
    "Pandas \"wrapup\"\n",
    "==========\n",
    "\n",
    "- create data frames\n",
    "- get sub-frames\n",
    "- filter data \n",
    "- use group-by\n",
    "- apply a user defined function\n",
    "\n",
    "\n",
    "![cute panda](images/cute_panda.jpg)"
   ]
  },
  {
   "cell_type": "markdown",
   "metadata": {
    "slideshow": {
     "slide_type": "slide"
    }
   },
   "source": [
    "Python data scraping\n",
    "====================\n",
    "\n",
    "* Why scrape the web?\n",
    "    - vast source of information\n",
    "    - automate tasks\n",
    "    - keep up with sites\n",
    "    - fun!\n",
    "\n",
    "** Can you think of examples ? **"
   ]
  },
  {
   "cell_type": "markdown",
   "metadata": {
    "slideshow": {
     "slide_type": "skip"
    }
   },
   "source": [
    "  \n",
    "Answer: Some examples we had were stock market monitoring, sports data, or airline prices."
   ]
  },
  {
   "cell_type": "markdown",
   "metadata": {
    "slideshow": {
     "slide_type": "slide"
    }
   },
   "source": [
    "Read and Tweet!\n",
    "=================\n",
    "\n",
    "![ReadTweet](http://developer.nytimes.com/files/readtweet.jpg)\n",
    "\n",
    "* by Justin Blinder\n",
    "* http://projects.justinblinder.com/We-Read-We-Tweet"
   ]
  },
  {
   "cell_type": "markdown",
   "metadata": {
    "slideshow": {
     "slide_type": "skip"
    }
   },
   "source": [
    "“We Read, We Tweet” geographically visualizes the dissemination of New York Times articles through Twitter. Each line connects the location of a tweet to the contextual location of the New York Times article it referenced. The lines are generated in a sequence based on the time in which a tweet occurs. The project explores digital news distribution in a temporal and spatial context through the social space of Twitter."
   ]
  },
  {
   "cell_type": "markdown",
   "metadata": {
    "slideshow": {
     "slide_type": "slide"
    }
   },
   "source": [
    "Twitter Sentiments\n",
    "=================\n",
    "\n",
    "![TwitterSentiments](http://www.csc.ncsu.edu/faculty/healey/tweet_viz/figs/tweet-viz-ex.png\n",
    " \"Twitter Sentiments\")\n",
    "\n",
    "* by Healey and Ramaswamy\n",
    "* http://www.csc.ncsu.edu/faculty/healey/tweet_viz/tweet_app/"
   ]
  },
  {
   "cell_type": "markdown",
   "metadata": {
    "slideshow": {
     "slide_type": "skip"
    }
   },
   "source": [
    "Type a keyword into the input field, then click the Query button. Recent tweets that contain your keyword are pulled from Twitter and visualized in the Sentiment tab as circles. Hover your mouse over a tweet or click on it to see its text."
   ]
  },
  {
   "cell_type": "markdown",
   "metadata": {
    "slideshow": {
     "slide_type": "slide"
    }
   },
   "source": [
    "Python data scraping\n",
    "====================\n",
    "\n",
    "* copyrights and permission:\n",
    "    - be careful and polite\n",
    "    - give credit\n",
    "    - care about media law\n",
    "    - don't be evil (no spam, overloading sites, etc.)"
   ]
  },
  {
   "cell_type": "markdown",
   "metadata": {
    "slideshow": {
     "slide_type": "slide"
    }
   },
   "source": [
    "Robots.txt\n",
    "==========\n",
    "\n",
    "![Robots.txt](images/robots_txt.jpg \"Robots.txt\")"
   ]
  },
  {
   "cell_type": "markdown",
   "metadata": {
    "slideshow": {
     "slide_type": "slide"
    }
   },
   "source": [
    "Robots.txt\n",
    "==========\n",
    "\n",
    "* specified by web site owner\n",
    "* gives instructions to web robots (aka your script)\n",
    "* is located at the top-level directory of the web server\n",
    "\n",
    "http://www.example.com/robots.txt\n",
    "\n",
    "If you want you can also have a look at\n",
    "\n",
    "http://google.com/robots.txt"
   ]
  },
  {
   "cell_type": "markdown",
   "metadata": {
    "slideshow": {
     "slide_type": "slide"
    }
   },
   "source": [
    "Robots.txt\n",
    "==========\n",
    "\n",
    "*** What does this one do? ***"
   ]
  },
  {
   "cell_type": "raw",
   "metadata": {},
   "source": [
    "\n",
    "User-agent: Google\n",
    "Disallow:\n",
    "\n",
    "User-agent: *\n",
    "Disallow: /"
   ]
  },
  {
   "cell_type": "markdown",
   "metadata": {
    "slideshow": {
     "slide_type": "skip"
    }
   },
   "source": [
    "Answer: This file allows google to search through everything on the server, while all others should stay completely away."
   ]
  },
  {
   "cell_type": "markdown",
   "metadata": {
    "slideshow": {
     "slide_type": "slide"
    }
   },
   "source": [
    "Things to consider:\n",
    "-------------------\n",
    "\n",
    "* can be just ignored\n",
    "* can be a security risk - *** Why? ***"
   ]
  },
  {
   "cell_type": "markdown",
   "metadata": {
    "slideshow": {
     "slide_type": "skip"
    }
   },
   "source": [
    "Answer: You are basically telling everybody who cares to look into the file where you have stored sensitive information."
   ]
  },
  {
   "cell_type": "markdown",
   "metadata": {
    "slideshow": {
     "slide_type": "slide"
    }
   },
   "source": [
    "Scraping with Python:\n",
    "=====================\n",
    "\n",
    "* scraping is all about HTML tags\n",
    "* bad news: \n",
    "    - need to learn about tags\n",
    "    - websites can be ugly"
   ]
  },
  {
   "cell_type": "markdown",
   "metadata": {
    "slideshow": {
     "slide_type": "slide"
    }
   },
   "source": [
    "HTML\n",
    "=====\n",
    "\n",
    "* HyperText Markup Language\n",
    "\n",
    "* standard for creating webpages\n",
    "\n",
    "* HTML tags \n",
    "    - have angle brackets\n",
    "    - typically come in pairs"
   ]
  },
  {
   "cell_type": "markdown",
   "metadata": {
    "slideshow": {
     "slide_type": "skip"
    }
   },
   "source": [
    "This is an example for a minimal webpage defined in HTML tags. The root tag is `<html>` and then you have the `<head>` tag. This part of the page typically includes the title of the page and might also have other meta information like the author or keywords that are important for search engines. The `<body>` tag marks the actual content of the page. You can play around with the `<h2>` tag trying different header levels. They range from 1 to 6. "
   ]
  },
  {
   "cell_type": "code",
   "execution_count": 130,
   "metadata": {
    "slideshow": {
     "slide_type": "slide"
    }
   },
   "outputs": [
    {
     "data": {
      "text/html": [
       "<!DOCTYPE html>\n",
       "<html>\n",
       "  <head>\n",
       "    <title>This is a title</title>\n",
       "  </head>\n",
       "  <body>\n",
       "    <h2> Test </h2>\n",
       "    <p>Hello world!</p>\n",
       "  </body>\n",
       "</html>"
      ],
      "text/plain": [
       "<IPython.core.display.HTML object>"
      ]
     },
     "execution_count": 130,
     "metadata": {},
     "output_type": "execute_result"
    }
   ],
   "source": [
    "htmlString = \"\"\"<!DOCTYPE html>\n",
    "<html>\n",
    "  <head>\n",
    "    <title>This is a title</title>\n",
    "  </head>\n",
    "  <body>\n",
    "    <h2> Test </h2>\n",
    "    <p>Hello world!</p>\n",
    "  </body>\n",
    "</html>\"\"\"\n",
    "\n",
    "htmlOutput = HTML(htmlString)\n",
    "htmlOutput"
   ]
  },
  {
   "cell_type": "markdown",
   "metadata": {
    "slideshow": {
     "slide_type": "slide"
    }
   },
   "source": [
    "Useful Tags\n",
    "===========\n",
    "\n",
    "* heading\n",
    "`<h1></h1> ... <h6></h6>`\n",
    "\n",
    "* paragraph\n",
    "`<p></p>` \n",
    "\n",
    "* line break\n",
    "`<br>` \n",
    "\n",
    "* link with attribute\n",
    "\n",
    "`<a href=\"http://www.example.com/\">An example link</a>`\n"
   ]
  },
  {
   "cell_type": "markdown",
   "metadata": {
    "slideshow": {
     "slide_type": "slide"
    }
   },
   "source": [
    "Scraping with Python:\n",
    "=====================\n",
    "\n",
    "* example of a beautifully simple webpage:\n",
    "\n",
    "http://www.crummy.com/software/BeautifulSoup"
   ]
  },
  {
   "cell_type": "markdown",
   "metadata": {
    "slideshow": {
     "slide_type": "slide"
    }
   },
   "source": [
    "Scraping with Python:\n",
    "=====================\n",
    "\n",
    "* good news: \n",
    "    - some browsers help\n",
    "    - look for: inspect element\n",
    "    - need only basic html\n",
    "    \n",
    "** Try 'Ctrl-Shift I' in Chrome **\n",
    "\n",
    "** Try 'Command-Option I' in Safari **\n"
   ]
  },
  {
   "cell_type": "markdown",
   "metadata": {
    "slideshow": {
     "slide_type": "slide"
    }
   },
   "source": [
    "Scraping with Python\n",
    "==================\n",
    "\n",
    "* different useful libraries:\n",
    "    - urllib\n",
    "    - beautifulsoup\n",
    "    - pattern\n",
    "    - soupy\n",
    "    - LXML\n",
    "    - ...\n",
    "    "
   ]
  },
  {
   "cell_type": "markdown",
   "metadata": {
    "slideshow": {
     "slide_type": "skip"
    }
   },
   "source": [
    "The following cell just defines a url as a string and then reads the data from that url using the `urllib` library. If you uncomment the print command you see that we got the whole HTML content of the page into the string variable source."
   ]
  },
  {
   "cell_type": "markdown",
   "metadata": {},
   "source": [
    "## Python3 encoding\n",
    "#### when reading url via urllib, we have to specify encoding otherwise it will be wrong data type example:\n",
    "```\n",
    " urllib.request.urlopen(url).read().decode('utf-8')\n",
    " ```"
   ]
  },
  {
   "cell_type": "code",
   "execution_count": 148,
   "metadata": {
    "slideshow": {
     "slide_type": "slide"
    }
   },
   "outputs": [
    {
     "name": "stdout",
     "output_type": "stream",
     "text": [
      "<class 'str'>\n"
     ]
    }
   ],
   "source": [
    "url = 'http://www.crummy.com/software/BeautifulSoup'\n",
    "source = urllib.request.urlopen(url).read().decode('utf-8')\n",
    "print(type(source))\n",
    "#print(source)"
   ]
  },
  {
   "cell_type": "markdown",
   "metadata": {
    "slideshow": {
     "slide_type": "slide"
    }
   },
   "source": [
    "Quiz :\n",
    "======\n",
    "\n",
    "* Is the word 'Alice' mentioned on the beautiful soup homepage?\n",
    "* How often does the word 'Soup' occur on the site?\n",
    "    - hint: use `.count()`\n",
    "* At what index occurs the substring 'alien video games' ?\n",
    "    - hint: use `.find()`"
   ]
  },
  {
   "cell_type": "code",
   "execution_count": 152,
   "metadata": {
    "slideshow": {
     "slide_type": "slide"
    }
   },
   "outputs": [
    {
     "name": "stdout",
     "output_type": "stream",
     "text": [
      "False\n",
      "43\n",
      "6621\n",
      "resolution USGS data\n",
      "resolution\n"
     ]
    }
   ],
   "source": [
    "## is 'Alice' in source?\n",
    "print('Alice' in source)\n",
    "\n",
    "## count occurences of 'Soup'\n",
    "print(source.count('Soup'))\n",
    "\n",
    "## find index of 'alien video games'\n",
    "position =  source.find('resolution')\n",
    "print(position)\n",
    "\n",
    "## quick test to see the substring in the source variable\n",
    "## you can access strings like lists\n",
    "print(source[position:position + 20])\n",
    "\n",
    "## or the tidier version:\n",
    "print(source[position:position + len('resolution')])"
   ]
  },
  {
   "cell_type": "markdown",
   "metadata": {
    "slideshow": {
     "slide_type": "slide"
    }
   },
   "source": [
    "Beautiful Soup\n",
    "==============\n",
    "\n",
    "* designed to make your life easier\n",
    "* many good functions for parsing html code"
   ]
  },
  {
   "cell_type": "markdown",
   "metadata": {
    "slideshow": {
     "slide_type": "slide"
    }
   },
   "source": [
    "Some examples\n",
    "=============\n"
   ]
  },
  {
   "cell_type": "code",
   "execution_count": 158,
   "metadata": {},
   "outputs": [
    {
     "name": "stdout",
     "output_type": "stream",
     "text": [
      "<!DOCTYPE html PUBLIC \"-//W3C//DTD HTML 4.0 Transitional//EN\" \"http://www.w3.org/TR/REC-html40/transitional.dtd\">\n",
      "<html><head>\n",
      "<meta content=\"text/html; charset=utf-8\" http-equiv=\"Content-Type\"/>\n",
      "<title>Beautiful Soup: We called him Tortoise because he taught us.</title>\n",
      "<link href=\"mailto:leonardr@segfault.org\" rev=\"made\"/>\n",
      "<link href=\"/nb/themes/Default/nb.css\" rel=\"stylesheet\" type=\"text/css\"/>\n",
      "<meta content=\"Beautiful Soup: a library designed for screen-scraping HTML and XML.\" name=\"Description\"/>\n",
      "<meta content=\"Markov Approximation 1.4 (module: leonardr)\" name=\"generator\"/>\n",
      "<meta content=\"Leonard Richardson\" name=\"author\"/>\n",
      "</head>\n",
      "<body alink=\"red\" bgcolor=\"white\" link=\"blue\" text=\"black\" vlink=\"660066\">\n",
      "<img align=\"right\" src=\"10.1.jpg\" width=\"250\"/><br/>\n",
      "\n",
      "<p>You didn't write that awful page. You're just trying to get some\n",
      "data out of it. Beautiful Soup is here to help. Since 2004, it's been\n",
      "saving programmers hours or days of work on quick-turnaround\n",
      "screen scraping projects.</p>\n",
      "\n",
      "<div align=\"center\">\n",
      "\n",
      "<a href=\"bs4/download/\"><h1>Beautiful Soup</h1></a>\n",
      "\n",
      "<p>\"A tremendous boon.\" -- Python411 Podcast</p>\n",
      "\n",
      "<p>[ <a href=\"#Download\">Download</a> | <a href=\"bs4/doc/\">Documentation</a> | <a href=\"#HallOfFame\">Hall of Fame</a> | <a href=\"https://code.launchpad.net/beautifulsoup\">Source</a> | <a href=\"https://groups.google.com/forum/?fromgroups#!forum/beautifulsoup\">Discussion group</a>  | <a href=\"zine/\">Zine</a> ]</p>\n",
      "\n",
      "<small>If Beautiful Soup has saved you a lot of time and money, one way to pay me back is to read <a href=\"zine/\"><i>Tool Safety</i></a>, a short zine I wrote about what I learned about software development from working on Beautiful Soup. Thanks!</small> </div>\n",
      "\n",
      "<p><i>If you have questions, send them to <a href=\"https://groups.google.com/forum/?fromgroups#!forum/beautifulsoup\">the discussion\n",
      "group</a>. If you find a bug, <a href=\"https://bugs.launchpad.net/beautifulsoup/\">file it</a>.</i></p>\n",
      "\n",
      "<p>Beautiful Soup is a Python library designed for quick turnaround\n",
      "projects like screen-scraping. Three features make it powerful:\n",
      "\n",
      "</p><ol>\n",
      "\n",
      "<li>Beautiful Soup provides a few simple methods and Pythonic idioms\n",
      "for navigating, searching, and modifying a parse tree: a toolkit for\n",
      "dissecting a document and extracting what you need. It doesn't take\n",
      "much code to write an application\n",
      "\n",
      "</li><li>Beautiful Soup automatically converts incoming documents to\n",
      "Unicode and outgoing documents to UTF-8. You don't have to think\n",
      "about encodings, unless the document doesn't specify an encoding and\n",
      "Beautiful Soup can't detect one. Then you just have to specify the\n",
      "original encoding.\n",
      "\n",
      "</li><li>Beautiful Soup sits on top of popular Python parsers like <a href=\"http://lxml.de/\">lxml</a> and <a href=\"http://code.google.com/p/html5lib/\">html5lib</a>, allowing you\n",
      "to try out different parsing strategies or trade speed for\n",
      "flexibility.\n",
      "\n",
      "</li></ol>\n",
      "\n",
      "<p>Beautiful Soup parses anything you give it, and does the tree\n",
      "traversal stuff for you. You can tell it \"Find all the links\", or\n",
      "\"Find all the links of class <tt>externalLink</tt>\", or \"Find all the\n",
      "links whose urls match \"foo.com\", or \"Find the table heading that's\n",
      "got bold text, then give me that text.\"\n",
      "\n",
      "</p><p>Valuable data that was once locked up in poorly-designed websites\n",
      "is now within your reach. Projects that would have taken hours take\n",
      "only minutes with Beautiful Soup.\n",
      "\n",
      "</p><p>Interested? <a href=\"bs4/doc/\">Read more.</a>\n",
      "\n",
      "<a name=\"Download\"></a></p><h2><a name=\"Download\">Download Beautiful Soup</a></h2>\n",
      "\n",
      "<p>The current release is <a href=\"bs4/download/\">Beautiful Soup\n",
      "4.6.0</a> (May 7, 2017). You can install Beautiful Soup 4 with\n",
      "<code>pip install beautifulsoup4</code>.\n",
      "\n",
      "</p><p>In Debian and Ubuntu, Beautiful Soup is available as the\n",
      "<code>python-bs4</code> package (for Python 2) or the\n",
      "<code>python3-bs4</code> package (for Python 3). In Fedora it's\n",
      "available as the <code>python-beautifulsoup4</code> package.\n",
      "\n",
      "</p><p>Beautiful Soup is licensed under the MIT license, so you can also\n",
      "download the tarball, drop the <code>bs4/</code> directory into almost\n",
      "any Python application (or into your library path) and start using it\n",
      "immediately. (If you want to do this under Python 3, you will need to\n",
      "manually convert the code using <code>2to3</code>.)\n",
      "\n",
      "</p><p>Beautiful Soup 4 works on both Python 2 (2.7+) and Python 3.\n",
      "\n",
      "</p><h3>Beautiful Soup 3</h3>\n",
      "\n",
      "<p>Beautiful Soup 3 was the official release line of Beautiful Soup\n",
      "from May 2006 to March 2012. It is considered stable, and only\n",
      "critical security bugs will be fixed. <a href=\"http://www.crummy.com/software/BeautifulSoup/bs3/documentation.html\">Here's\n",
      "the Beautiful Soup 3 documentation.</a>\n",
      "\n",
      "</p><p>Beautiful Soup 3 works only under Python 2.x. It is licensed under\n",
      "the same license as Python itself.\n",
      "\n",
      "</p><p>The current release of Beautiful Soup 3 is <a href=\"download/3.x/BeautifulSoup-3.2.1.tar.gz\">3.2.1</a> (February 16,\n",
      "2012). You can install Beautiful Soup 3 with <code>pip install\n",
      "BeautifulSoup</code>. It's also available as\n",
      "<code>python-beautifulsoup</code> in Debian and Ubuntu, and as\n",
      "<code>python-BeautifulSoup</code> in Fedora.\n",
      "\n",
      "</p><p>You can also download the tarball and use\n",
      "<code>BeautifulSoup.py</code> in your project directly.\n",
      "\n",
      "\n",
      "<a name=\"HallOfFame\"></a></p><h2><a name=\"HallOfFame\">Hall of Fame</a></h2>\n",
      "\n",
      "<p>Over the years, Beautiful Soup has been used in hundreds of\n",
      "different projects. There's no way I can list them all, but I want to\n",
      "highlight a few high-profile projects. Beautiful Soup isn't what makes\n",
      "these projects interesting, but it did make their completion easier:\n",
      "\n",
      "</p><ul>\n",
      "\n",
      "<li><a href=\"http://www.nytimes.com/2007/10/25/arts/design/25vide.html\">\"Movable\n",
      " Type\"</a>, a work of digital art on display in the lobby of the New\n",
      " York Times building, uses Beautiful Soup to scrape news feeds.\n",
      "\n",
      "</li><li>Reddit uses Beautiful Soup to <a href=\"https://github.com/reddit/reddit/blob/85f9cff3e2ab9bb8f19b96acd8da4ebacc079f04/r2/r2/lib/media.py\">parse\n",
      "a page that's been linked to and find a representative image</a>.\n",
      "\n",
      "</li><li>Alexander Harrowell uses Beautiful Soup to <a href=\"http://www.harrowell.org.uk/viktormap.html\">track the business\n",
      " activities</a> of an arms merchant.\n",
      "\n",
      "</li><li>The developers of Python itself used Beautiful Soup to <a href=\"http://svn.python.org/view/tracker/importer/\">migrate the Python\n",
      "bug tracker from Sourceforge to Roundup</a>.\n",
      "\n",
      "</li><li>The <a href=\"http://www2.ljworld.com/\">Lawrence Journal-World</a>\n",
      "uses Beautiful Soup to <a href=\"http://www.b-list.org/weblog/2010/nov/02/news-done-broke/\">gather\n",
      "statewide election results</a>.\n",
      "\n",
      "</li><li>The <a href=\"http://esrl.noaa.gov/gsd/fab/\">NOAA's Forecast\n",
      "Applications Branch</a> uses Beautiful Soup in <a href=\"http://laps.noaa.gov/topograbber/\">TopoGrabber</a>, a script for\n",
      "downloading \"high resolution USGS datasets.\"\n",
      "\n",
      "</li></ul>\n",
      "\n",
      "<p>If you've used Beautiful Soup in a project you'd like me to know\n",
      "about, please do send email to me or <a href=\"http://groups.google.com/group/beautifulsoup/\">the discussion\n",
      "group</a>.\n",
      "\n",
      "</p><h2>Development</h2>\n",
      "\n",
      "<p>Development happens at <a href=\"https://launchpad.net/beautifulsoup\">Launchpad</a>. You can <a href=\"https://code.launchpad.net/beautifulsoup/\">get the source\n",
      "code</a> or <a href=\"https://bugs.launchpad.net/beautifulsoup/\">file\n",
      "bugs</a>.</p><hr/><table><tbody><tr><td valign=\"top\">\n",
      "<p>This document (<a href=\"/source/software/BeautifulSoup/index.bhtml\">source</a>) is part of Crummy, the webspace of <a href=\"/self/\">Leonard Richardson</a> (<a href=\"/self/contact.html\">contact information</a>). It was last modified on Friday, August 11 2017, 14:19:20 Nowhere Standard Time and last built on Sunday, November 05 2017, 18:00:01 Nowhere Standard Time.</p><p><table class=\"licenseText\"><tbody><tr><td><a href=\"http://creativecommons.org/licenses/by-sa/2.0/\"><img border=\"0\" src=\"/nb//resources/img/somerights20.jpg\"/></a></td><td valign=\"top\">Crummy is © 1996-2017 Leonard Richardson. Unless otherwise noted, all text licensed under a <a href=\"http://creativecommons.org/licenses/by-sa/2.0/\">Creative Commons License</a>.</td></tr></tbody></table><!--<rdf:RDF xmlns=\"http://web.resource.org/cc/\" xmlns:dc=\"http://purl.org/dc/elements/1.1/\" xmlns:rdf=\"http://www.w3.org/1999/02/22-rdf-syntax-ns#\"><Work rdf:about=\"http://www.crummy.com/\"><dc:title>Crummy: The Site</dc:title><dc:rights><Agent><dc:title>Crummy: the Site</dc:title></Agent></dc:rights><dc:format>text/html</dc:format><license rdf:resource=http://creativecommons.org/licenses/by-sa/2.0//></Work><License rdf:about=\"http://creativecommons.org/licenses/by-sa/2.0/\"></License></rdf:RDF>--></p></td><td valign=\"top\"><p><b>Document tree:</b>\n",
      "</p><dl><dd><a href=\"http://www.crummy.com/\">http://www.crummy.com/</a><dl><dd><a href=\"http://www.crummy.com/software/\">software/</a><dl><dd><a href=\"http://www.crummy.com/software/BeautifulSoup/\">BeautifulSoup/</a></dd></dl>\n",
      "</dd></dl>\n",
      "</dd></dl>\n",
      "\n",
      "\n",
      "Site Search:\n",
      "\n",
      "<form action=\"/search/\" method=\"get\">\n",
      "        <input maxlength=\"255\" name=\"q\" type=\"text\" value=\"\"/>\n",
      "        </form>\n",
      "        </td>\n",
      "\n",
      "</tr>\n",
      "\n",
      "</tbody></table>\n",
      "\n",
      "\n",
      "</body></html>\n",
      "<!DOCTYPE html PUBLIC \"-//W3C//DTD HTML 4.0 Transitional//EN\" \"http://www.w3.org/TR/REC-html40/transitional.dtd\">\n",
      "<html>\n",
      " <head>\n",
      "  <meta content=\"text/html; charset=utf-8\" http-equiv=\"Content-Type\"/>\n",
      "  <title>\n",
      "   Beautiful Soup: We called him Tortoise because he taught us.\n",
      "  </title>\n",
      "  <link href=\"mailto:leonardr@segfault.org\" rev=\"made\"/>\n",
      "  <link href=\"/nb/themes/Default/nb.css\" rel=\"stylesheet\" type=\"text/css\"/>\n",
      "  <meta content=\"Beautiful Soup: a library designed for screen-scraping HTML and XML.\" name=\"Description\"/>\n",
      "  <meta content=\"Markov Approximation 1.4 (module: leonardr)\" name=\"generator\"/>\n",
      "  <meta content=\"Leonard Richardson\" name=\"author\"/>\n",
      " </head>\n",
      " <body alink=\"red\" bgcolor=\"white\" link=\"blue\" text=\"black\" vlink=\"660066\">\n",
      "  <img align=\"right\" src=\"10.1.jpg\" width=\"250\"/>\n",
      "  <br/>\n",
      "  <p>\n",
      "   You didn't write that awful page. You're just trying to get some\n",
      "data out of it. Beautiful Soup is here to help. Since 2004, it's been\n",
      "saving programmers hours or days of work on quick-turnaround\n",
      "screen scraping projects.\n",
      "  </p>\n",
      "  <div align=\"center\">\n",
      "   <a href=\"bs4/download/\">\n",
      "    <h1>\n",
      "     Beautiful Soup\n",
      "    </h1>\n",
      "   </a>\n",
      "   <p>\n",
      "    \"A tremendous boon.\" -- Python411 Podcast\n",
      "   </p>\n",
      "   <p>\n",
      "    [\n",
      "    <a href=\"#Download\">\n",
      "     Download\n",
      "    </a>\n",
      "    |\n",
      "    <a href=\"bs4/doc/\">\n",
      "     Documentation\n",
      "    </a>\n",
      "    |\n",
      "    <a href=\"#HallOfFame\">\n",
      "     Hall of Fame\n",
      "    </a>\n",
      "    |\n",
      "    <a href=\"https://code.launchpad.net/beautifulsoup\">\n",
      "     Source\n",
      "    </a>\n",
      "    |\n",
      "    <a href=\"https://groups.google.com/forum/?fromgroups#!forum/beautifulsoup\">\n",
      "     Discussion group\n",
      "    </a>\n",
      "    |\n",
      "    <a href=\"zine/\">\n",
      "     Zine\n",
      "    </a>\n",
      "    ]\n",
      "   </p>\n",
      "   <small>\n",
      "    If Beautiful Soup has saved you a lot of time and money, one way to pay me back is to read\n",
      "    <a href=\"zine/\">\n",
      "     <i>\n",
      "      Tool Safety\n",
      "     </i>\n",
      "    </a>\n",
      "    , a short zine I wrote about what I learned about software development from working on Beautiful Soup. Thanks!\n",
      "   </small>\n",
      "  </div>\n",
      "  <p>\n",
      "   <i>\n",
      "    If you have questions, send them to\n",
      "    <a href=\"https://groups.google.com/forum/?fromgroups#!forum/beautifulsoup\">\n",
      "     the discussion\n",
      "group\n",
      "    </a>\n",
      "    . If you find a bug,\n",
      "    <a href=\"https://bugs.launchpad.net/beautifulsoup/\">\n",
      "     file it\n",
      "    </a>\n",
      "    .\n",
      "   </i>\n",
      "  </p>\n",
      "  <p>\n",
      "   Beautiful Soup is a Python library designed for quick turnaround\n",
      "projects like screen-scraping. Three features make it powerful:\n",
      "  </p>\n",
      "  <ol>\n",
      "   <li>\n",
      "    Beautiful Soup provides a few simple methods and Pythonic idioms\n",
      "for navigating, searching, and modifying a parse tree: a toolkit for\n",
      "dissecting a document and extracting what you need. It doesn't take\n",
      "much code to write an application\n",
      "   </li>\n",
      "   <li>\n",
      "    Beautiful Soup automatically converts incoming documents to\n",
      "Unicode and outgoing documents to UTF-8. You don't have to think\n",
      "about encodings, unless the document doesn't specify an encoding and\n",
      "Beautiful Soup can't detect one. Then you just have to specify the\n",
      "original encoding.\n",
      "   </li>\n",
      "   <li>\n",
      "    Beautiful Soup sits on top of popular Python parsers like\n",
      "    <a href=\"http://lxml.de/\">\n",
      "     lxml\n",
      "    </a>\n",
      "    and\n",
      "    <a href=\"http://code.google.com/p/html5lib/\">\n",
      "     html5lib\n",
      "    </a>\n",
      "    , allowing you\n",
      "to try out different parsing strategies or trade speed for\n",
      "flexibility.\n",
      "   </li>\n",
      "  </ol>\n",
      "  <p>\n",
      "   Beautiful Soup parses anything you give it, and does the tree\n",
      "traversal stuff for you. You can tell it \"Find all the links\", or\n",
      "\"Find all the links of class\n",
      "   <tt>\n",
      "    externalLink\n",
      "   </tt>\n",
      "   \", or \"Find all the\n",
      "links whose urls match \"foo.com\", or \"Find the table heading that's\n",
      "got bold text, then give me that text.\"\n",
      "  </p>\n",
      "  <p>\n",
      "   Valuable data that was once locked up in poorly-designed websites\n",
      "is now within your reach. Projects that would have taken hours take\n",
      "only minutes with Beautiful Soup.\n",
      "  </p>\n",
      "  <p>\n",
      "   Interested?\n",
      "   <a href=\"bs4/doc/\">\n",
      "    Read more.\n",
      "   </a>\n",
      "   <a name=\"Download\">\n",
      "   </a>\n",
      "  </p>\n",
      "  <h2>\n",
      "   <a name=\"Download\">\n",
      "    Download Beautiful Soup\n",
      "   </a>\n",
      "  </h2>\n",
      "  <p>\n",
      "   The current release is\n",
      "   <a href=\"bs4/download/\">\n",
      "    Beautiful Soup\n",
      "4.6.0\n",
      "   </a>\n",
      "   (May 7, 2017). You can install Beautiful Soup 4 with\n",
      "   <code>\n",
      "    pip install beautifulsoup4\n",
      "   </code>\n",
      "   .\n",
      "  </p>\n",
      "  <p>\n",
      "   In Debian and Ubuntu, Beautiful Soup is available as the\n",
      "   <code>\n",
      "    python-bs4\n",
      "   </code>\n",
      "   package (for Python 2) or the\n",
      "   <code>\n",
      "    python3-bs4\n",
      "   </code>\n",
      "   package (for Python 3). In Fedora it's\n",
      "available as the\n",
      "   <code>\n",
      "    python-beautifulsoup4\n",
      "   </code>\n",
      "   package.\n",
      "  </p>\n",
      "  <p>\n",
      "   Beautiful Soup is licensed under the MIT license, so you can also\n",
      "download the tarball, drop the\n",
      "   <code>\n",
      "    bs4/\n",
      "   </code>\n",
      "   directory into almost\n",
      "any Python application (or into your library path) and start using it\n",
      "immediately. (If you want to do this under Python 3, you will need to\n",
      "manually convert the code using\n",
      "   <code>\n",
      "    2to3\n",
      "   </code>\n",
      "   .)\n",
      "  </p>\n",
      "  <p>\n",
      "   Beautiful Soup 4 works on both Python 2 (2.7+) and Python 3.\n",
      "  </p>\n",
      "  <h3>\n",
      "   Beautiful Soup 3\n",
      "  </h3>\n",
      "  <p>\n",
      "   Beautiful Soup 3 was the official release line of Beautiful Soup\n",
      "from May 2006 to March 2012. It is considered stable, and only\n",
      "critical security bugs will be fixed.\n",
      "   <a href=\"http://www.crummy.com/software/BeautifulSoup/bs3/documentation.html\">\n",
      "    Here's\n",
      "the Beautiful Soup 3 documentation.\n",
      "   </a>\n",
      "  </p>\n",
      "  <p>\n",
      "   Beautiful Soup 3 works only under Python 2.x. It is licensed under\n",
      "the same license as Python itself.\n",
      "  </p>\n",
      "  <p>\n",
      "   The current release of Beautiful Soup 3 is\n",
      "   <a href=\"download/3.x/BeautifulSoup-3.2.1.tar.gz\">\n",
      "    3.2.1\n",
      "   </a>\n",
      "   (February 16,\n",
      "2012). You can install Beautiful Soup 3 with\n",
      "   <code>\n",
      "    pip install\n",
      "BeautifulSoup\n",
      "   </code>\n",
      "   . It's also available as\n",
      "   <code>\n",
      "    python-beautifulsoup\n",
      "   </code>\n",
      "   in Debian and Ubuntu, and as\n",
      "   <code>\n",
      "    python-BeautifulSoup\n",
      "   </code>\n",
      "   in Fedora.\n",
      "  </p>\n",
      "  <p>\n",
      "   You can also download the tarball and use\n",
      "   <code>\n",
      "    BeautifulSoup.py\n",
      "   </code>\n",
      "   in your project directly.\n",
      "   <a name=\"HallOfFame\">\n",
      "   </a>\n",
      "  </p>\n",
      "  <h2>\n",
      "   <a name=\"HallOfFame\">\n",
      "    Hall of Fame\n",
      "   </a>\n",
      "  </h2>\n",
      "  <p>\n",
      "   Over the years, Beautiful Soup has been used in hundreds of\n",
      "different projects. There's no way I can list them all, but I want to\n",
      "highlight a few high-profile projects. Beautiful Soup isn't what makes\n",
      "these projects interesting, but it did make their completion easier:\n",
      "  </p>\n",
      "  <ul>\n",
      "   <li>\n",
      "    <a href=\"http://www.nytimes.com/2007/10/25/arts/design/25vide.html\">\n",
      "     \"Movable\n",
      " Type\"\n",
      "    </a>\n",
      "    , a work of digital art on display in the lobby of the New\n",
      " York Times building, uses Beautiful Soup to scrape news feeds.\n",
      "   </li>\n",
      "   <li>\n",
      "    Reddit uses Beautiful Soup to\n",
      "    <a href=\"https://github.com/reddit/reddit/blob/85f9cff3e2ab9bb8f19b96acd8da4ebacc079f04/r2/r2/lib/media.py\">\n",
      "     parse\n",
      "a page that's been linked to and find a representative image\n",
      "    </a>\n",
      "    .\n",
      "   </li>\n",
      "   <li>\n",
      "    Alexander Harrowell uses Beautiful Soup to\n",
      "    <a href=\"http://www.harrowell.org.uk/viktormap.html\">\n",
      "     track the business\n",
      " activities\n",
      "    </a>\n",
      "    of an arms merchant.\n",
      "   </li>\n",
      "   <li>\n",
      "    The developers of Python itself used Beautiful Soup to\n",
      "    <a href=\"http://svn.python.org/view/tracker/importer/\">\n",
      "     migrate the Python\n",
      "bug tracker from Sourceforge to Roundup\n",
      "    </a>\n",
      "    .\n",
      "   </li>\n",
      "   <li>\n",
      "    The\n",
      "    <a href=\"http://www2.ljworld.com/\">\n",
      "     Lawrence Journal-World\n",
      "    </a>\n",
      "    uses Beautiful Soup to\n",
      "    <a href=\"http://www.b-list.org/weblog/2010/nov/02/news-done-broke/\">\n",
      "     gather\n",
      "statewide election results\n",
      "    </a>\n",
      "    .\n",
      "   </li>\n",
      "   <li>\n",
      "    The\n",
      "    <a href=\"http://esrl.noaa.gov/gsd/fab/\">\n",
      "     NOAA's Forecast\n",
      "Applications Branch\n",
      "    </a>\n",
      "    uses Beautiful Soup in\n",
      "    <a href=\"http://laps.noaa.gov/topograbber/\">\n",
      "     TopoGrabber\n",
      "    </a>\n",
      "    , a script for\n",
      "downloading \"high resolution USGS datasets.\"\n",
      "   </li>\n",
      "  </ul>\n",
      "  <p>\n",
      "   If you've used Beautiful Soup in a project you'd like me to know\n",
      "about, please do send email to me or\n",
      "   <a href=\"http://groups.google.com/group/beautifulsoup/\">\n",
      "    the discussion\n",
      "group\n",
      "   </a>\n",
      "   .\n",
      "  </p>\n",
      "  <h2>\n",
      "   Development\n",
      "  </h2>\n",
      "  <p>\n",
      "   Development happens at\n",
      "   <a href=\"https://launchpad.net/beautifulsoup\">\n",
      "    Launchpad\n",
      "   </a>\n",
      "   . You can\n",
      "   <a href=\"https://code.launchpad.net/beautifulsoup/\">\n",
      "    get the source\n",
      "code\n",
      "   </a>\n",
      "   or\n",
      "   <a href=\"https://bugs.launchpad.net/beautifulsoup/\">\n",
      "    file\n",
      "bugs\n",
      "   </a>\n",
      "   .\n",
      "  </p>\n",
      "  <hr/>\n",
      "  <table>\n",
      "   <tbody>\n",
      "    <tr>\n",
      "     <td valign=\"top\">\n",
      "      <p>\n",
      "       This document (\n",
      "       <a href=\"/source/software/BeautifulSoup/index.bhtml\">\n",
      "        source\n",
      "       </a>\n",
      "       ) is part of Crummy, the webspace of\n",
      "       <a href=\"/self/\">\n",
      "        Leonard Richardson\n",
      "       </a>\n",
      "       (\n",
      "       <a href=\"/self/contact.html\">\n",
      "        contact information\n",
      "       </a>\n",
      "       ). It was last modified on Friday, August 11 2017, 14:19:20 Nowhere Standard Time and last built on Sunday, November 05 2017, 18:00:01 Nowhere Standard Time.\n",
      "      </p>\n",
      "      <p>\n",
      "       <table class=\"licenseText\">\n",
      "        <tbody>\n",
      "         <tr>\n",
      "          <td>\n",
      "           <a href=\"http://creativecommons.org/licenses/by-sa/2.0/\">\n",
      "            <img border=\"0\" src=\"/nb//resources/img/somerights20.jpg\"/>\n",
      "           </a>\n",
      "          </td>\n",
      "          <td valign=\"top\">\n",
      "           Crummy is © 1996-2017 Leonard Richardson. Unless otherwise noted, all text licensed under a\n",
      "           <a href=\"http://creativecommons.org/licenses/by-sa/2.0/\">\n",
      "            Creative Commons License\n",
      "           </a>\n",
      "           .\n",
      "          </td>\n",
      "         </tr>\n",
      "        </tbody>\n",
      "       </table>\n",
      "       <!--<rdf:RDF xmlns=\"http://web.resource.org/cc/\" xmlns:dc=\"http://purl.org/dc/elements/1.1/\" xmlns:rdf=\"http://www.w3.org/1999/02/22-rdf-syntax-ns#\"><Work rdf:about=\"http://www.crummy.com/\"><dc:title>Crummy: The Site</dc:title><dc:rights><Agent><dc:title>Crummy: the Site</dc:title></Agent></dc:rights><dc:format>text/html</dc:format><license rdf:resource=http://creativecommons.org/licenses/by-sa/2.0//></Work><License rdf:about=\"http://creativecommons.org/licenses/by-sa/2.0/\"></License></rdf:RDF>-->\n",
      "      </p>\n",
      "     </td>\n",
      "     <td valign=\"top\">\n",
      "      <p>\n",
      "       <b>\n",
      "        Document tree:\n",
      "       </b>\n",
      "      </p>\n",
      "      <dl>\n",
      "       <dd>\n",
      "        <a href=\"http://www.crummy.com/\">\n",
      "         http://www.crummy.com/\n",
      "        </a>\n",
      "        <dl>\n",
      "         <dd>\n",
      "          <a href=\"http://www.crummy.com/software/\">\n",
      "           software/\n",
      "          </a>\n",
      "          <dl>\n",
      "           <dd>\n",
      "            <a href=\"http://www.crummy.com/software/BeautifulSoup/\">\n",
      "             BeautifulSoup/\n",
      "            </a>\n",
      "           </dd>\n",
      "          </dl>\n",
      "         </dd>\n",
      "        </dl>\n",
      "       </dd>\n",
      "      </dl>\n",
      "      Site Search:\n",
      "      <form action=\"/search/\" method=\"get\">\n",
      "       <input maxlength=\"255\" name=\"q\" type=\"text\" value=\"\"/>\n",
      "      </form>\n",
      "     </td>\n",
      "    </tr>\n",
      "   </tbody>\n",
      "  </table>\n",
      " </body>\n",
      "</html>\n"
     ]
    }
   ],
   "source": [
    "## get bs4 object\n",
    "soup = bs4.BeautifulSoup(source, \"html5lib\")\n",
    " \n",
    "## compare the two print statements\n",
    "#print(soup)\n",
    "#print(soup.prettify())\n",
    "\n",
    "## show how to find all a tags\n",
    "soup.findAll('a')\n",
    "\n",
    "## ***Why does this not work? ***\n",
    "#soup.findAll('Soup')"
   ]
  },
  {
   "cell_type": "markdown",
   "metadata": {
    "slideshow": {
     "slide_type": "skip"
    }
   },
   "source": [
    "The last command only returns an empty list, because `Soup` is not an HTML tag. It is just a string that occours in the webpage."
   ]
  },
  {
   "cell_type": "markdown",
   "metadata": {
    "slideshow": {
     "slide_type": "slide"
    }
   },
   "source": [
    "Some examples\n",
    "============="
   ]
  },
  {
   "cell_type": "code",
   "execution_count": 166,
   "metadata": {},
   "outputs": [
    {
     "name": "stdout",
     "output_type": "stream",
     "text": [
      "['bs4/download/', '#Download', 'bs4/doc/', '#HallOfFame', 'https://code.launchpad.net/beautifulsoup', 'https://groups.google.com/forum/?fromgroups#!forum/beautifulsoup', 'zine/', 'zine/', 'https://groups.google.com/forum/?fromgroups#!forum/beautifulsoup', 'https://bugs.launchpad.net/beautifulsoup/', 'http://lxml.de/', 'http://code.google.com/p/html5lib/', 'bs4/doc/', None, None, 'bs4/download/', 'http://www.crummy.com/software/BeautifulSoup/bs3/documentation.html', 'download/3.x/BeautifulSoup-3.2.1.tar.gz', None, None, 'http://www.nytimes.com/2007/10/25/arts/design/25vide.html', 'https://github.com/reddit/reddit/blob/85f9cff3e2ab9bb8f19b96acd8da4ebacc079f04/r2/r2/lib/media.py', 'http://www.harrowell.org.uk/viktormap.html', 'http://svn.python.org/view/tracker/importer/', 'http://www2.ljworld.com/', 'http://www.b-list.org/weblog/2010/nov/02/news-done-broke/', 'http://esrl.noaa.gov/gsd/fab/', 'http://laps.noaa.gov/topograbber/', 'http://groups.google.com/group/beautifulsoup/', 'https://launchpad.net/beautifulsoup', 'https://code.launchpad.net/beautifulsoup/', 'https://bugs.launchpad.net/beautifulsoup/', '/source/software/BeautifulSoup/index.bhtml', '/self/', '/self/contact.html', 'http://creativecommons.org/licenses/by-sa/2.0/', 'http://creativecommons.org/licenses/by-sa/2.0/', 'http://www.crummy.com/', 'http://www.crummy.com/software/', 'http://www.crummy.com/software/BeautifulSoup/']\n"
     ]
    }
   ],
   "source": [
    "## get attribute value from an element:\n",
    "## find tag: this only returns the first occurrence, not all tags in the string\n",
    "first_tag = soup.find('a')\n",
    "#print(first_tag)\n",
    "\n",
    "## get attribute `href`\n",
    "#print(first_tag.get('href'))\n",
    "\n",
    "## get all links in the page\n",
    "ink_list = [l.get('href') for l in soup.findAll('a')]\n",
    "print(link_list)"
   ]
  },
  {
   "cell_type": "code",
   "execution_count": 167,
   "metadata": {
    "slideshow": {
     "slide_type": "slide"
    }
   },
   "outputs": [
    {
     "ename": "TypeError",
     "evalue": "'NoneType' object is not subscriptable",
     "output_type": "error",
     "traceback": [
      "\u001b[1;31m---------------------------------------------------------------------------\u001b[0m",
      "\u001b[1;31mTypeError\u001b[0m                                 Traceback (most recent call last)",
      "\u001b[1;32m<ipython-input-167-0aee102cbae1>\u001b[0m in \u001b[0;36m<module>\u001b[1;34m()\u001b[0m\n\u001b[0;32m      6\u001b[0m \u001b[1;31m# if it starts with 'http' we are happy\u001b[0m\u001b[1;33m\u001b[0m\u001b[1;33m\u001b[0m\u001b[0m\n\u001b[0;32m      7\u001b[0m \u001b[1;32mfor\u001b[0m \u001b[0ml\u001b[0m \u001b[1;32min\u001b[0m \u001b[0mlink_list\u001b[0m\u001b[1;33m:\u001b[0m\u001b[1;33m\u001b[0m\u001b[0m\n\u001b[1;32m----> 8\u001b[1;33m     \u001b[1;32mif\u001b[0m \u001b[0ml\u001b[0m\u001b[1;33m[\u001b[0m\u001b[1;33m:\u001b[0m\u001b[1;36m4\u001b[0m\u001b[1;33m]\u001b[0m \u001b[1;33m==\u001b[0m \u001b[1;34m'http'\u001b[0m\u001b[1;33m:\u001b[0m\u001b[1;33m\u001b[0m\u001b[0m\n\u001b[0m\u001b[0;32m      9\u001b[0m         \u001b[0mexternal_links\u001b[0m\u001b[1;33m.\u001b[0m\u001b[0mappend\u001b[0m\u001b[1;33m(\u001b[0m\u001b[0ml\u001b[0m\u001b[1;33m)\u001b[0m\u001b[1;33m\u001b[0m\u001b[0m\n\u001b[0;32m     10\u001b[0m \u001b[1;33m\u001b[0m\u001b[0m\n",
      "\u001b[1;31mTypeError\u001b[0m: 'NoneType' object is not subscriptable"
     ]
    }
   ],
   "source": [
    "## filter all external links\n",
    "# create an empty list to collect the valid links\n",
    "external_links = []\n",
    "\n",
    "# write a loop to filter the links\n",
    "# if it starts with 'http' we are happy\n",
    "for l in link_list:\n",
    "    if l[:4] == 'http':\n",
    "        external_links.append(l)\n",
    "\n",
    "# this throws an error! It says something about 'NoneType'"
   ]
  },
  {
   "cell_type": "code",
   "execution_count": 168,
   "metadata": {
    "slideshow": {
     "slide_type": "slide"
    }
   },
   "outputs": [
    {
     "name": "stdout",
     "output_type": "stream",
     "text": [
      "4\n"
     ]
    }
   ],
   "source": [
    "# lets investigate. Have a close look at the link_list:\n",
    "link_list\n",
    "\n",
    "# Seems that there are None elements!\n",
    "# Let's verify\n",
    "print(sum([l is None for l in link_list]))\n",
    "\n",
    "# So there are two elements in the list that are None!"
   ]
  },
  {
   "cell_type": "code",
   "execution_count": 169,
   "metadata": {
    "slideshow": {
     "slide_type": "slide"
    }
   },
   "outputs": [
    {
     "data": {
      "text/plain": [
       "['https://code.launchpad.net/beautifulsoup',\n",
       " 'https://groups.google.com/forum/?fromgroups#!forum/beautifulsoup',\n",
       " 'https://groups.google.com/forum/?fromgroups#!forum/beautifulsoup',\n",
       " 'https://bugs.launchpad.net/beautifulsoup/',\n",
       " 'http://lxml.de/',\n",
       " 'http://code.google.com/p/html5lib/',\n",
       " 'http://www.crummy.com/software/BeautifulSoup/bs3/documentation.html',\n",
       " 'http://www.nytimes.com/2007/10/25/arts/design/25vide.html',\n",
       " 'https://github.com/reddit/reddit/blob/85f9cff3e2ab9bb8f19b96acd8da4ebacc079f04/r2/r2/lib/media.py',\n",
       " 'http://www.harrowell.org.uk/viktormap.html',\n",
       " 'http://svn.python.org/view/tracker/importer/',\n",
       " 'http://www2.ljworld.com/',\n",
       " 'http://www.b-list.org/weblog/2010/nov/02/news-done-broke/',\n",
       " 'http://esrl.noaa.gov/gsd/fab/',\n",
       " 'http://laps.noaa.gov/topograbber/',\n",
       " 'http://groups.google.com/group/beautifulsoup/',\n",
       " 'https://launchpad.net/beautifulsoup',\n",
       " 'https://code.launchpad.net/beautifulsoup/',\n",
       " 'https://bugs.launchpad.net/beautifulsoup/',\n",
       " 'http://creativecommons.org/licenses/by-sa/2.0/',\n",
       " 'http://creativecommons.org/licenses/by-sa/2.0/',\n",
       " 'http://www.crummy.com/',\n",
       " 'http://www.crummy.com/software/',\n",
       " 'http://www.crummy.com/software/BeautifulSoup/']"
      ]
     },
     "execution_count": 169,
     "metadata": {},
     "output_type": "execute_result"
    }
   ],
   "source": [
    "# Let's filter those objects out in the for loop\n",
    "external_links = []\n",
    "\n",
    "# write a loop to filter the links\n",
    "# if it is not None and starts with 'http' we are happy\n",
    "for l in link_list:\n",
    "    if l is not None and l[:4] == 'http':\n",
    "        external_links.append(l)\n",
    "        \n",
    "external_links"
   ]
  },
  {
   "cell_type": "markdown",
   "metadata": {
    "slideshow": {
     "slide_type": "skip"
    }
   },
   "source": [
    "Note: The above `if` condition works because of lazy evaluation in Python. The `and` statement becomes `False` if the first part is `False`, so there is no need to ever evaluate the second part. Thus a `None` entry in the list gets never asked about its first four characters. "
   ]
  },
  {
   "cell_type": "code",
   "execution_count": 170,
   "metadata": {
    "slideshow": {
     "slide_type": "slide"
    }
   },
   "outputs": [
    {
     "data": {
      "text/plain": [
       "['https://code.launchpad.net/beautifulsoup',\n",
       " 'https://groups.google.com/forum/?fromgroups#!forum/beautifulsoup',\n",
       " 'https://groups.google.com/forum/?fromgroups#!forum/beautifulsoup',\n",
       " 'https://bugs.launchpad.net/beautifulsoup/',\n",
       " 'http://lxml.de/',\n",
       " 'http://code.google.com/p/html5lib/',\n",
       " 'http://www.crummy.com/software/BeautifulSoup/bs3/documentation.html',\n",
       " 'http://www.nytimes.com/2007/10/25/arts/design/25vide.html',\n",
       " 'https://github.com/reddit/reddit/blob/85f9cff3e2ab9bb8f19b96acd8da4ebacc079f04/r2/r2/lib/media.py',\n",
       " 'http://www.harrowell.org.uk/viktormap.html',\n",
       " 'http://svn.python.org/view/tracker/importer/',\n",
       " 'http://www2.ljworld.com/',\n",
       " 'http://www.b-list.org/weblog/2010/nov/02/news-done-broke/',\n",
       " 'http://esrl.noaa.gov/gsd/fab/',\n",
       " 'http://laps.noaa.gov/topograbber/',\n",
       " 'http://groups.google.com/group/beautifulsoup/',\n",
       " 'https://launchpad.net/beautifulsoup',\n",
       " 'https://code.launchpad.net/beautifulsoup/',\n",
       " 'https://bugs.launchpad.net/beautifulsoup/',\n",
       " 'http://creativecommons.org/licenses/by-sa/2.0/',\n",
       " 'http://creativecommons.org/licenses/by-sa/2.0/',\n",
       " 'http://www.crummy.com/',\n",
       " 'http://www.crummy.com/software/',\n",
       " 'http://www.crummy.com/software/BeautifulSoup/']"
      ]
     },
     "execution_count": 170,
     "metadata": {},
     "output_type": "execute_result"
    }
   ],
   "source": [
    "# and we can put this in a list comprehension as well, it almost reads like \n",
    "# a sentence.\n",
    "\n",
    "[l for l in link_list if l is not None and l.startswith('http')]"
   ]
  },
  {
   "cell_type": "markdown",
   "metadata": {
    "slideshow": {
     "slide_type": "slide"
    }
   },
   "source": [
    "Parsing the Tree\n",
    "================\n",
    "\n"
   ]
  },
  {
   "cell_type": "code",
   "execution_count": 172,
   "metadata": {},
   "outputs": [
    {
     "data": {
      "text/plain": [
       "<body><h3> Test </h3><p>Hello world!</p></body>"
      ]
     },
     "execution_count": 172,
     "metadata": {},
     "output_type": "execute_result"
    }
   ],
   "source": [
    "# redifining `s` without any line breaks\n",
    "s = \"\"\"<!DOCTYPE html><html><head><title>This is a title</title></head><body><h3> Test </h3><p>Hello world!</p></body></html>\"\"\"\n",
    "## get bs4 object\n",
    "tree = bs4.BeautifulSoup(s, \"html5lib\")\n",
    "\n",
    "## get html root node\n",
    "root_node = tree.html\n",
    "\n",
    "## get head from root using contents\n",
    "head = root_node.contents[0]\n",
    "\n",
    "## get body from root\n",
    "body = root_node.contents[1]\n",
    "\n",
    "## could directly access body\n",
    "tree.body"
   ]
  },
  {
   "cell_type": "markdown",
   "metadata": {
    "slideshow": {
     "slide_type": "slide"
    }
   },
   "source": [
    "Quiz:\n",
    "=====\n",
    "\n",
    "* Find the `h3` tag by parsing the tree starting at `body`\n",
    "* Create a list of all __Hall of Fame__ entries listed on the Beautiful Soup webpage\n",
    "    - hint: it is the only unordered list in the page (tag `ul`)\n"
   ]
  },
  {
   "cell_type": "code",
   "execution_count": 173,
   "metadata": {
    "slideshow": {
     "slide_type": "slide"
    }
   },
   "outputs": [
    {
     "data": {
      "text/plain": [
       "<h3> Test </h3>"
      ]
     },
     "execution_count": 173,
     "metadata": {},
     "output_type": "execute_result"
    }
   ],
   "source": [
    "## get h3 tag from body\n",
    "body.contents[0]"
   ]
  },
  {
   "cell_type": "code",
   "execution_count": 179,
   "metadata": {
    "collapsed": true,
    "slideshow": {
     "slide_type": "slide"
    }
   },
   "outputs": [],
   "source": [
    "## use ul as entry point\n",
    "entry_point = soup.find('ul')\n",
    "\n",
    "## get hall of fame list from entry point\n",
    "## skip the first entry \n",
    "hall_of_fame_list = entry_point.contents[1:]\n",
    "\n",
    "## reformat into a list containing strings\n",
    "tmp = []\n",
    "for li in hall_of_fame_list:\n",
    "    tmp.append(li.contents)"
   ]
  },
  {
   "cell_type": "markdown",
   "metadata": {
    "slideshow": {
     "slide_type": "slide"
    }
   },
   "source": [
    "`tmp` now is actually a list of lists containing the hall of fame entries. \n",
    "Here is some advanced Python on how to print really just one entry per list item.\n",
    "\n",
    "The cool things about this are: \n",
    "* The use of `\"\"` to just access the `join` function of strings.\n",
    "* The `join` function itself\n",
    "* that you can actually have two nested for loops in a list comprehension"
   ]
  },
  {
   "cell_type": "code",
   "execution_count": 176,
   "metadata": {
    "slideshow": {
     "slide_type": "-"
    }
   },
   "outputs": [
    {
     "name": "stdout",
     "output_type": "stream",
     "text": [
      "<a href=\"http://www.nytimes.com/2007/10/25/arts/design/25vide.html\">\"Movable\n",
      " Type\"</a>, a work of digital art on display in the lobby of the New\n",
      " York Times building, uses Beautiful Soup to scrape news feeds.\n",
      "\n",
      "\n",
      "Reddit uses Beautiful Soup to <a href=\"https://github.com/reddit/reddit/blob/85f9cff3e2ab9bb8f19b96acd8da4ebacc079f04/r2/r2/lib/media.py\">parse\n",
      "a page that's been linked to and find a representative image</a>.\n",
      "\n",
      "\n",
      "Alexander Harrowell uses Beautiful Soup to <a href=\"http://www.harrowell.org.uk/viktormap.html\">track the business\n",
      " activities</a> of an arms merchant.\n",
      "\n",
      "\n",
      "The developers of Python itself used Beautiful Soup to <a href=\"http://svn.python.org/view/tracker/importer/\">migrate the Python\n",
      "bug tracker from Sourceforge to Roundup</a>.\n",
      "\n",
      "\n",
      "The <a href=\"http://www2.ljworld.com/\">Lawrence Journal-World</a>\n",
      "uses Beautiful Soup to <a href=\"http://www.b-list.org/weblog/2010/nov/02/news-done-broke/\">gather\n",
      "statewide election results</a>.\n",
      "\n",
      "\n",
      "The <a href=\"http://esrl.noaa.gov/gsd/fab/\">NOAA's Forecast\n",
      "Applications Branch</a> uses Beautiful Soup in <a href=\"http://laps.noaa.gov/topograbber/\">TopoGrabber</a>, a script for\n",
      "downloading \"high resolution USGS datasets.\"\n",
      "\n",
      "\n"
     ]
    }
   ],
   "source": [
    "test =  [\"\".join(str(a) for a in sublist) for sublist in tmp]\n",
    "print('\\n'.join(test))"
   ]
  },
  {
   "cell_type": "markdown",
   "metadata": {
    "slideshow": {
     "slide_type": "slide"
    }
   },
   "source": [
    "Advanced Example\n",
    "===============\n",
    "\n",
    "Idea by [Jesse Steinweg-Woods](https://jessesw.com/Data-Science-Skills/)\n",
    "--------------------------------------------------------------------------------"
   ]
  },
  {
   "cell_type": "markdown",
   "metadata": {
    "slideshow": {
     "slide_type": "slide"
    }
   },
   "source": [
    "Scraping data science skills\n",
    "=============================\n",
    "\n",
    "- What skills are in demand for data scientists?\n",
    "- Should we have a lecture on Spark or only on MapReduce?\n",
    "\n",
    "We want to scrape the information from job advertisements for data scientists from indeed.com\n",
    "Let's scrape and find out!"
   ]
  },
  {
   "cell_type": "code",
   "execution_count": 227,
   "metadata": {
    "slideshow": {
     "slide_type": "slide"
    }
   },
   "outputs": [
    {
     "name": "stdout",
     "output_type": "stream",
     "text": [
      "<!DOCTYPE html>\n",
      "<html lang=\"en\"><head>\n",
      "<meta content=\"text/html;charset=utf-8\" http-equiv=\"content-type\"/>\n",
      "<!-- pll --><script src=\"/s/83f0ccd/en_US.js\" type=\"text/javascript\"></script>\n",
      "<link href=\"/s/c7945bf/jobsearch_all.css\" rel=\"stylesheet\" type=\"text/css\"/>\n",
      "<link href=\"http://rss.indeed.com/rss?q=data+scientist\" rel=\"alternate\" title=\"Data Scientist Jobs, Employment\" type=\"application/rss+xml\"/>\n",
      "<link href=\"/m/jobs?q=data+scientist\" media=\"only screen and (max-width: 640px)\" rel=\"alternate\"/>\n",
      "<link href=\"/m/jobs?q=data+scientist\" media=\"handheld\" rel=\"alternate\"/>\n",
      "<script type=\"text/javascript\">\n",
      "\n",
      "if (typeof window['closureReadyCallbacks'] == 'undefined') {\n",
      "window['closureReadyCallbacks'] = [];\n",
      "}\n",
      "\n",
      "function call_when_jsall_loaded(cb) {\n",
      "if (window['closureReady']) {\n",
      "cb();\n",
      "} else {\n",
      "window['closureReadyCallbacks'].push(cb);\n",
      "}\n",
      "}\n",
      "</script>\n",
      "<meta content=\"1\" name=\"ppstriptst\"/>\n",
      "\n",
      "<script src=\"/s/5174de1/jobsearch-all-compiled.js\" type=\"text/javascript\"></script>\n",
      "<script type=\"text/javascript\">\n",
      "\n",
      "var searchUID = '1bu6rar4q0k4o3iu';\n",
      "var tk = '1bu6rar4q0k4o3iu';\n",
      "\n",
      "var loggedIn = false;\n",
      "var dcmPayload = 'jobse0;jobal0;viewj0;savej0';\n",
      "var myindeed = true;\n",
      "var userEmail = '';\n",
      "var tellFriendEmail = '';\n",
      "var globalLoginURL = 'https:\\/\\/www.indeed.com\\/account\\/login?dest=%2Fq-data-scientist-jobs.html';\n",
      "var globalRegisterURL = 'https:\\/\\/www.indeed.com\\/account\\/register?dest=%2Fq-data-scientist-jobs.html';\n",
      "var searchKey = 'bebb41335ed80f2a';\n",
      "var searchState = 'q=data+scientist&amp;';\n",
      "var searchQS = 'q=data+scientist';\n",
      "var eventType = 'jobsearch';\n",
      "var locale = 'en_US';\n",
      "function clk(id) { var a = document.getElementById(id); var hr = a.href; var si = a.href.indexOf('&jsa='); if (si > 0) return; var jsh = hr + '&tk=1bu6rar4q0k4o3iu&jsa=8170'; a.href = jsh; }\n",
      "function sjomd(id) { var a = document.getElementById(id); var hr = a.href; var ocs = hr.indexOf('&oc=1'); if (ocs < 0) return; var oce = ocs + 5; a.href = hr.substring(0, ocs) + hr.substring(oce); }\n",
      "function sjoc(id, sal) { var a = document.getElementById(id); a.href = a.href + '&oc=1&sal='+sal; }\n",
      "function ptk(st,p) {document.cookie = 'PTK=\"tk=1bu6rar4q0k4o3iu&type=jobsearch&subtype='+st+(p?'&'+p:'')+'\"; path=/';}\n",
      "function rbptk(st, c, p) { ptk(st, 'cat='+c+(p?'&p='+p:''));}\n",
      "</script>\n",
      "<script type=\"text/javascript\">\n",
      "function loadJSAsync( ) {\n",
      "for ( var i = 0; i < arguments.length; i++ ) {\n",
      "var url = arguments[i];\n",
      "(function() {\n",
      "var s = document.createElement(\"script\"), el = document.getElementsByTagName(\"script\")[0];\n",
      "s.async = true;\n",
      "s.src = url;\n",
      "el.parentNode.insertBefore(s, el);\n",
      "})();\n",
      "}\n",
      "}\n",
      "</script>\n",
      "<meta content=\"Search 23,612 Data Scientist jobs now hiring on Indeed.com, the world's largest job site.\" name=\"description\"/>\n",
      "<meta content=\"Data Scientist Jobs, Employment,  careers,  employment,  job listings,  job search,  search engine, work in \" name=\"keywords\"/>\n",
      "<meta content=\"origin\" name=\"referrer\"/>\n",
      "\n",
      "<link href=\"/q-Data-Scientist-jobs.html\" rel=\"canonical\"/>\n",
      "<link href=\"/jobs?q=data+scientist&amp;start=10\" rel=\"next\"/><script type=\"text/javascript\">\n",
      "var dcmPayload = 'jobse0;jobal0;viewj0;savej0';\n",
      "var indeedCsrfToken = 'qhPJvey2d0Ecp5BrF2ExyHZCYBIaT7P1';\n",
      "var hashedCsrfToken = '7ca425bc97a332cad97ebe5c6a8334ce';\n",
      "</script>\n",
      "\n",
      "<style type=\"text/css\">\n",
      ".jasxcustomfonttst-useCustomHostedFontFullPage *{font-family:\"Open Sans\", sans-serif !important}.jasxcustomfonttst-useLato *{font-family:\"Lato\", sans-serif !important}.jasxcustomfonttst-useFira *{font-family:\"Fira Sans\", sans-serif !important}.jasxcustomfonttst-useGibson *{font-family:\"Gibson\", sans-serif !important}.jasxcustomfonttst-useAvenir *{font-family:\"Avenir Next\", sans-serif !important}#accessibilityBanner{position:absolute;left:-10000%;height:50px;width:100%;color:#000;font-size:13px;font-family:Arial;background-color:#F2F2F2;border-width:1px;border-color:#E6E6E6;line-height:50px}#accessibilityText{position:relative;left:12px;white-space:nowrap}#accessibilityClose{position:absolute;right:12px}\n",
      "</style>\n",
      "\n",
      "<style type=\"text/css\">\n",
      "#resultsCol { padding-top: 0; }\n",
      ".searchCount { margin-top: 6px; }\n",
      ".showing { padding-top: 9px; padding-bottom: 9px; }\n",
      "\n",
      ".brdr { height: 1px; overflow: hidden; background-color: #ccc; }\n",
      "\n",
      "/* Tall window sizes */\n",
      "@media only screen and (min-height:780px){\n",
      ".showing { padding-bottom: 0; }\n",
      "}\n",
      "\n",
      "/* Wide window sizes */\n",
      "@media only screen and (min-width:1125px){\n",
      ".brdr  { margin-left: 12px; margin-right: 12px; }\n",
      "}\n",
      "\n",
      "a,a:link,.link,.btn,.btn:hover{text-decoration:none}a:hover,.link:hover{text-decoration:underline}.dya-container a{text-decoration:underline !important}</style>\n",
      "\n",
      "<script>\n",
      "function onLoadHandler() {\n",
      "\n",
      "document.js.reset();\n",
      "jobSeenInit('1bu6rar4q0k4o3iu', [{\n",
      "'jobClassName': 'result',\n",
      "'scanIta': true,\n",
      "'containsSponsored': true,\n",
      "'context': ''\n",
      "}]);\n",
      "\n",
      "if ( document.radius_update ) { document.radius_update.reset(); }\n",
      "\n",
      "}\n",
      "\n",
      "initLogInitialUserInteraction('1bu6rar4q0k4o3iu', 'serp');\n",
      "\n",
      "window.onload = onLoadHandler;\n",
      "</script>\n",
      "<link href=\"android-app://com.indeed.android.jobsearch/https/www.indeed.com/m/jobs?q=data+scientist\" rel=\"alternate\"/>\n",
      "<title>Data Scientist Jobs, Employment | Indeed.com</title>\n",
      "<style>\n",
      "/* Crashtest 18: smaller header */\n",
      "body *, body.jasxcustomfonttst-useAvenir * { font-family: \"Helvetica Neue\", Helvetica, Arial, sans-serif !important; -webkit-font-smoothing: antialiased; -moz-osx-font-smoothing: grayscale; }\n",
      "\n",
      "a, a:link { color: #2164F3; }\n",
      "\n",
      "div#g_nav { border-bottom: 2px solid #F6F6F6 !important; margin-bottom: 0; }\n",
      "\n",
      "div#g_nav a { cursor: pointer; color: #4B4B4B !important; font-weight: 400; }\n",
      "\n",
      "div#g_nav .navBi a { font-weight: 500; position: relative; padding: 22px 0; text-decoration: none; }\n",
      "\n",
      "div#g_nav .navBi a:after { content: ''; border-bottom: 2px solid transparent; position: absolute; bottom: -1px; left: 0; right: 0; }\n",
      "\n",
      "div#g_nav .navBi a#userOptionsLabel { color: #2164F3 !important; }\n",
      "\n",
      "div#g_nav .navBi a:hover:after { border-color: #1497ff; }\n",
      "\n",
      "div#g_nav .navBi a.selected { color: #000 !important; font-weight: 700; }\n",
      "\n",
      "div#g_nav .navBi a.selected:after { border-color: #2164F3; }\n",
      "\n",
      "div#g_nav #user_actions .navBi .resume-promo, div#g_nav #user_actions a#userOptionsLabel { text-transform: capitalize; }\n",
      "\n",
      "div#g_nav #userOptionsLabel { border-radius: 15px 15px 0 0; border: 2px solid transparent; margin-bottom: 0 !important; }\n",
      "\n",
      "div#g_nav #userOptionsLabel b { text-decoration: none; }\n",
      "\n",
      "div#g_nav #userOptionsLabel.active { border-color: #F6F6F6; padding: 9px 12px !important; }\n",
      "\n",
      "div#g_nav #userOptions { border: 2px solid #F6F6F6; border-radius: 15px 0 15px 15px; box-shadow: 2px 3px 8px 0 rgba(0, 0, 0, 0.08); padding: 4px 0; margin-top: -1px; }\n",
      "\n",
      "div#g_nav #userOptions .userOptionGroupHeader, div#g_nav #userOptions .userOptionItem a, div#g_nav #userOptions .userNameRepeat { display: block; min-width: 220px; padding: 2px 16px; }\n",
      "\n",
      "div#g_nav #userOptions .userOptionGroup { border-top: 2px solid #F6F6F6; }\n",
      "\n",
      "div#g_nav table { height: 55px; }\n",
      "\n",
      "div#g_nav td { padding: 5px 0 7px; }\n",
      "\n",
      ".inwrapBorder { border: 0 !important; }\n",
      "\n",
      ".inwrapBorder .inwrapBorderTop { background-image: none !important; border: 0 !important; }\n",
      "\n",
      ".inwrapBorder .input_submit { background-color: #195FF7; border: 2px solid #195FF7; color: #FFF; border-radius: 25px !important; min-width: 95px; font-weight: 500; box-sizing: border-box; }\n",
      "\n",
      ".inwrapBorder .input_submit:hover { background-color: #1497FF; border-color: #1497FF; }\n",
      "\n",
      ".inwrapBorder input.input_text { border: 2px solid #EBEBEB !important; box-sizing: border-box; background-color: #EBEBEB; }\n",
      "\n",
      ".inwrap { border: 0 !important; }\n",
      "\n",
      "#jobsearch .sl { margin-left: 10px; color: #767676; }\n",
      "\n",
      "#jobsearch td.npl { padding: 0 !important; }\n",
      "\n",
      "#jobsearch #what_label_top, #jobsearch #where_label_top { color: #767676; font-weight: 500 !important; padding: 0 14px 7px !important; display: block; text-transform: uppercase; font-size: 11px; letter-spacing: .5px; }\n",
      "\n",
      "#jobsearch #what_label_bot, #jobsearch #where_label_bot, #jobsearch #what_label, #jobsearch #where_label { padding: 9px 12px 0 !important; display: block; text-transform: capitalize; color: #767676; font-size: 11px; white-space: normal !important; max-width: 220px !important; }\n",
      "\n",
      "#jobsearch .inwrapBorder .input_submit { background-color: #195FF7; border: 2px solid #195FF7; color: #FFF; border-radius: 25px !important; min-width: 110px; padding: 9px 14px !important; }\n",
      "\n",
      "#jobsearch .inwrapBorder .input_submit:hover { background-color: #1497FF; border-color: #1497FF; }\n",
      "\n",
      "#jobsearch .inwrapBorder .inwrapBorderTop { box-shadow: none !important; text-shadow: none !important; border-radius: 0 !important; border: 0 !important; font-weight: normal !important; margin-left: 10px; border: 0 !important; }\n",
      "\n",
      "#jobsearch .inwrap #what, #jobsearch .inwrap #where { padding: 3px 14px !important; width: 264px !important; height: 40px !important; border: 2px solid #EBEBEB !important; background-color: #EBEBEB; }\n",
      "\n",
      "#viewport #jobsearch .inwrap #what, #viewport #jobsearch .inwrap #where { width: 280px !important; }\n",
      "\n",
      "#jobsearch .inwrap #what:focus, #jobsearch .inwrap #where:focus { background-color: #FFF; border-color: #1497FF !important; outline: 0 !important; }\n",
      "\n",
      "#jobsearch .inwrap #what { border-radius: 25px 0 0 25px !important; margin-right: 2px !important; }\n",
      "\n",
      "#jobsearch .inwrap #where { border-radius: 0 25px 25px 0 !important; }\n",
      "\n",
      "#jobsearch .auxColPad .input_submit { background-color: #FFF !important; background-image: none !important; border: 2px solid #EBEBEB !important; color: #195FF7 !important; border-radius: 25px !important; }\n",
      "\n",
      "#jobsearch .auxColPad .input_submit:hover { color: #1497FF !important; background-color: #FFF !important; border-color: #1497FF !important; }\n",
      "\n",
      "#jobsearch .headerTipBubble { max-width: 500px !important; }\n",
      "\n",
      "[dir] .icl-LegalConsentBanner-action .icl-Button { background: #FFF; background-image: none !important; border: 1px solid transparent; box-shadow: none !important; box-sizing: border-box; color: #195FF7; max-width: 100% !important; text-shadow: none !important; border-radius: 25px !important; }\n",
      "\n",
      "[dir] .icl-LegalConsentBanner-action .icl-Button--primary { background-color: #195FF7 !important; border: 2px solid #195FF7 !important; color: #FFF !important; border-radius: 25px !important; }\n",
      "\n",
      "[dir] .icl-LegalConsentBanner-action .icl-Button--primary:hover { background-color: #1497FF !important; border-color: #1497FF !important; box-shadow: none !important; background-image: none !important; }\n",
      "\n",
      ".footerCta.greyBar { background-color: #F6F6F6 !important; border-top: 2px solid #F6F6F6; font-size: 20px; font-weight: bold; padding: 16px 0; }\n",
      "\n",
      ".footerCta.greyBar > span { display: block; }\n",
      "\n",
      ".footerCta.greyBar [dir] .icl-Button.cta_button.blue { background: #FFF; background-image: none !important; border: 1px solid transparent; box-shadow: none !important; box-sizing: border-box; color: #195FF7; max-width: 100% !important; text-shadow: none !important; border-radius: 25px !important; background-color: #195FF7 !important; border: 2px solid #195FF7 !important; color: #FFF; border-radius: 25px !important; font-weight: 500; font-size: 14px; padding: 5px 24px !important; }\n",
      "\n",
      ".footerCta.greyBar [dir] .icl-Button.cta_button.blue:hover { background-color: #1497FF !important; border-color: #1497FF !important; box-shadow: none !important; }\n",
      "\n",
      "#resumeCtaFooter { height: auto !important; }\n",
      "\n",
      "#resumeCtaFooter > div { position: static !important; }\n",
      "\n",
      "#what_acdiv.acd { width: calc(100% - 126px); }\n",
      "\n",
      ".content #what_acdiv.acd { width: calc(100% - 145px); }\n",
      "\n",
      ".content #acdiv.acd { width: calc(100% - 28px); }\n",
      "\n",
      "#what_acdiv.acd, #acdiv.acd { border: 2px solid #1497FF !important; border-radius: 15px; box-shadow: 2px 3px 8px 0 rgba(0, 0, 0, 0.08); }\n",
      "\n",
      "#what_acdiv.acd .aci, #acdiv.acd .aci { padding: 2px 12px; }\n",
      "\n",
      "#what_acdiv.acd .aci:first-child, #acdiv.acd .aci:first-child { border-radius: 13px 13px 0 0; }\n",
      "\n",
      "#what_acdiv.acd .aci:last-child, #acdiv.acd .aci:last-child { border-radius: 0 0 13px 13px; }\n",
      "\n",
      "#what_acdiv.acd .acis, #acdiv.acd .acis { background-color: #1497FF; }\n",
      "\n",
      "#footer { margin-top: 0 !important; }\n",
      "\n",
      "body[data-tn-originlogtype=jobsearch] { background-color: #F6F6F6; }\n",
      "\n",
      "div#g_nav #p_nav { margin-left: 20px; }\n",
      "\n",
      "div#g_nav #u_nav { margin-right: 18px; }\n",
      "\n",
      "body #resultsCol { padding-bottom: 0 !important; }\n",
      "\n",
      "#refineresultscol, #resultsCol, #g_nav, #footerWrapper, #footer { background-color: #FFF; }\n",
      "\n",
      "#refineresultscol .rsList { margin: 0 !important; }\n",
      "\n",
      "#refineresultscol .rsList .nji { color: #F60 !important; font-weight: 400 !important; }\n",
      "\n",
      "#refineresults { box-sizing: border-box; padding-left: 0; padding-right: 0; }\n",
      "\n",
      "#refineresults #recPromoDisplay, #refineresults > div { color: #2D2D2D; padding-left: 20px; padding-right: 17px; }\n",
      "\n",
      "#refineresults #radius_update { padding-left: 20px; padding-right: 17px; }\n",
      "\n",
      "#refineresults > div.rbSection { margin-left: 4px; }\n",
      "\n",
      "#refineresults > div.rbSection, #refineresults #radius_update, #refineresults #recPromoDisplay { margin-bottom: 24px; margin-left: 3px; }\n",
      "\n",
      "#refineresults span[role=\"heading\"] + div { font-size: 12px; font-weight: 500; text-transform: uppercase; color: #767676; white-space: nowrap; margin-left: 3px !important; }\n",
      "\n",
      "#refineresults span[role=\"heading\"] + div .no-wrap { display: block; font-size: 12px; margin-top: 4px; margin-bottom: 24px; text-transform: capitalize; }\n",
      "\n",
      "#refineresults span[role=\"heading\"] + div .no-wrap b, #refineresults span[role=\"heading\"] + div .no-wrap a { font-weight: 500 !important; }\n",
      "\n",
      "#refineresults span[role=\"heading\"] + div .no-wrap b { color: #2D2D2D !important; }\n",
      "\n",
      "#refineresults span[role=\"heading\"] + div .no-wrap a:visited { color: #2164F3; }\n",
      "\n",
      "#refineresults h1 { padding: 0 16px; }\n",
      "\n",
      "#refineresults h1 font { font-size: 10px !important; font-weight: normal !important; color: #767676; }\n",
      "\n",
      "#footer { margin: 0; padding: 1em 24px; }\n",
      "\n",
      "#footerWrapper { width: 100%; position: absolute; left: 0; right: 0; }\n",
      "\n",
      "#resultsCol #bjobalerts { margin-bottom: 0 !important; }\n",
      "\n",
      ".footerJaPromoBubble, #bjobalertswrapper .jaPromoUi { margin-left: 16px; margin-right: 16px; }\n",
      "\n",
      "#resultsCol #bjobalerts.jaPromoUi { margin-bottom: 24px !important; }\n",
      "\n",
      "#branding-td { width: 253px !important; }\n",
      "\n",
      "table[role=banner] { width: 100%; background-color: #FFF; padding-top: 24px; padding-bottom: 16px; border-bottom: 2px solid #F6F6F6; }\n",
      "\n",
      "#refineresultscol, #resultsCol { border-right: 2px solid #F6F6F6; }\n",
      "\n",
      "#resultsCol .row, #resultsCol .related_searches, #resultsCol .dupetext, #footer { border-top: 2px solid #F6F6F6; }\n",
      "\n",
      ".rbOpen .more_link { margin-left: 2px; margin-top: 0 !important; }\n",
      "\n",
      "#refineresultscol #recentsearches { margin-left: 0 !important; margin-bottom: 24px; padding-left: 24px; }\n",
      "\n",
      "#refineresultscol { position: relative; }\n",
      "\n",
      "#refineresultscol #refineresults { padding-top: 8px; }\n",
      "\n",
      "#refineresultscol .no-wrap a { color: #2164F3; }\n",
      "\n",
      "#refineresultscol .more_link span { text-transform: capitalize; }\n",
      "\n",
      "#refineresultscol .clearRSControl { margin-bottom: 24px; }\n",
      "\n",
      "#radius_update select { padding: 4px; width: 100%; font-size: 12px !important; margin-top: 4px; }\n",
      "\n",
      "#resultsCol .row { padding: 24px 16px; position: relative; margin-bottom: 0; }\n",
      "\n",
      "#resultsCol .row .sjcl, #resultsCol .row .snip .summary { margin-right: 50px; }\n",
      "\n",
      "#resultsCol .row .snip .summary, #resultsCol .row .ita-snippet { display: block; margin-top: 4px !important; margin-bottom: 16px; }\n",
      "\n",
      "#resultsCol .row .company, #resultsCol .row .location, #resultsCol .row .slNoUnderline, #resultsCol .row .snip .summary, #resultsCol .row .ita-snippet, .result div.row table tr td.snip { font-size: 14px; }\n",
      "\n",
      ".div.row table tr td.snip { line-height: 1.5 !important; }\n",
      "\n",
      "#resultsCol .jobtitle { margin-bottom: 2px; font-weight: 700; }\n",
      "\n",
      "#resultsCol h2.jobtitle { color: transparent !important; margin-right: 50px; white-space: nowrap; overflow: hidden; text-overflow: ellipsis; }\n",
      "\n",
      "#resultsCol .jobtitle a, #resultsCol .jobtitle { color: #2164F3 !important; }\n",
      "\n",
      "#resultsCol .jobtitle a:visited, #resultsCol .jobtitle:visited { color: #767676 !important; }\n",
      "\n",
      ".row .iaP .iaLabel { font-weight: 500; color: #f60 !important; }\n",
      "\n",
      ".result .company, [data-tn-element=reviewStars]:link, [data-tn-element=reviewStars] .slNoUnderline, .result .snip, .result .summary, #resultsCol #bjobalerts, #resultsCol #primePromo, .rbOpen .more_link span { color: #4B4B4B !important; }\n",
      "\n",
      ".result .company a, .result .turnstileLink .slNoUnderline { color: #2D2D2D !important; font-weight: 500; }\n",
      "\n",
      ".result .company a { color: #000 !important; font-weight: 500; }\n",
      "\n",
      ".result .turnstileLink .slNoUnderline { font-weight: 400 !important; }\n",
      "\n",
      ".result .more-link, .result .more_loc { font-size: 11px; color: #2164F3; }\n",
      "\n",
      "#resultsCol .related_searches, #resultsCol .ws_content, #resultsCol .more_actions, #resultsCol .dupetext, #resultsCol .showing { font-size: 12px; }\n",
      "\n",
      "#resultsCol .related_searches { padding: 24px 16px 15px; margin-bottom: 0; }\n",
      "\n",
      "#resultsCol .related_searches b { font-weight: bold; }\n",
      "\n",
      "#resultsCol .related_searches a { color: #000; border-right: 0; }\n",
      "\n",
      "#resultsCol .related_searches .rightBorder { border-right: 0; margin-right: 0; padding-right: 0; }\n",
      "\n",
      "#resultsCol .related_searches .rightBorder:after { content: '-'; margin-left: 3px; margin-right: 3px; }\n",
      "\n",
      "#resultsCol #resumePromo { color: #4B4B4B; margin: 0; padding: 24px 16px; padding-top: 0 !important; margin-top: 12px !important; position: relative; font-weight: bold; }\n",
      "\n",
      "#resultsCol #resumePromo .new-ico { display: none; }\n",
      "\n",
      "#resultsCol #resumePromo .resume-promo-link { color: #2164F3; }\n",
      "\n",
      "#resultsCol #resumePromo .resume-promo-link b { font-weight: bold; }\n",
      "\n",
      "#resultsCol .ws_content, #resultsCol .more_actions { background: #F6F6F6; border: 0 !important; margin-top: 16px; }\n",
      "\n",
      "#resultsCol .ws_content a, #resultsCol .more_actions a { color: #2164F3; }\n",
      "\n",
      "#resultsCol .dupetext { color: #4B4B4B; margin-bottom: 0; margin-top: 0 !important; padding: 16px; }\n",
      "\n",
      "#resultsCol .dupetext a { color: #2164F3; font-weight: bold; }\n",
      "\n",
      "#resultsCol #recPromoDisplayPageLast { padding: 0 12px; margin: 0; }\n",
      "\n",
      "#resultsCol #recPromoDisplayPageLast a { margin-left: 4px; color: #2164F3 !important; }\n",
      "\n",
      "#resultsCol .jaui { background-color: #FFF; border-top: 2px solid #F6F6F6; border-bottom: 2px solid #F6F6F6; padding: 16px; }\n",
      "\n",
      "#resultsCol .jaui .ico { display: none; }\n",
      "\n",
      "#resultsCol .showing { border-top: 2px solid #F6F6F6; color: #2D2D2D; margin-bottom: 0 !important; padding-left: 16px; padding-right: 17px; font-weight: 500; }\n",
      "\n",
      "#resultsCol .showing b, #resultsCol .showing a { font-weight: 500 !important; text-transform: capitalize; }\n",
      "\n",
      "#resultsCol .showing b { color: #2D2D2D !important; }\n",
      "\n",
      "#resultsCol .showing a { color: #2164F3; }\n",
      "\n",
      "#resultsCol .showing a:visited { color: #2164F3; }\n",
      "\n",
      "#resultsCol #searchCount { margin: 0 !important; color: #767676; font-size: 12px; }\n",
      "\n",
      "#resultsCol .resultsTop { padding: 0; margin-bottom: -2px; }\n",
      "\n",
      "#resultsCol .pagination { border-bottom: 2px solid #F6F6F6 !important; margin-top: -2px !important; margin-bottom: 0 !important; padding: 24px 16px 32px; text-transform: capitalize; color: #767676; font-size: 12px; font-weight: 500; text-align: left; margin-right: -28px; }\n",
      "\n",
      "#resultsCol .pagination .pn, #resultsCol .pagination .np, #resultsCol .pagination b { font-size: 16px; font-weight: bold; text-transform: none; }\n",
      "\n",
      "#resultsCol .pagination a { margin-left: 4px; }\n",
      "\n",
      "#resultsCol .pagination b { color: #000; }\n",
      "\n",
      "#resultsCol .pagination a, #resultsCol .pagination a .pn { color: #2164F3 !important; }\n",
      "\n",
      ".lastRow + div + div { margin-bottom: 0 !important; }\n",
      "\n",
      "#footer #secondary_nav .gaj_heading { margin-left: -1em; font-weight: bold; }\n",
      "\n",
      "#footer #secondary_nav a { color: #000; }\n",
      "\n",
      "#footer #secondary_nav, #footer #footer-legal { text-align: left; font-size: 11px; }\n",
      "\n",
      "#resultsCol .footerJaPromoBubble { margin-top: 0 !important; }\n",
      "\n",
      "#resultsCol #primePromo, #resultsCol #searchCount, #resultsCol .messageContainer { padding-left: 16px; padding-right: 16px; }\n",
      "\n",
      "#resultsCol #primePromo a { color: #2164F3; }\n",
      "\n",
      "#resultsCol .messageContainer .message { color: #000; margin: 0; padding: 8px 0; }\n",
      "\n",
      "#resultsCol { position: relative; margin-top: 8px !important; }\n",
      "\n",
      "#resultsCol .messageContainer { border-bottom: 2px solid #F6F6F6; margin-top: -2px; }\n",
      "\n",
      "#resultsCol .no_results { padding-left: 0; width: auto !important; }\n",
      "\n",
      "#resultsCol .bad_query > h2, #resultsCol #suggested_queries, #resultsCol #search_suggestions { padding: 12px 16px; }\n",
      "\n",
      ".no_results { padding-left: 0; width: auto !important; }\n",
      "\n",
      ".no_results .bad_query div { width: auto !important; }\n",
      "\n",
      ".no_results #suggested_queries { border-bottom: 2px solid #F6F6F6; }\n",
      "\n",
      ".no_results hr { display: none; }\n",
      "\n",
      ".no_results #recommendations { font-size: 14px; font-weight: bold; padding: 16px 16px 10px; text-transform: capitalize; }\n",
      "\n",
      ".no_results #recommendations .row { margin-left: -16px; margin-right: -16px; font-weight: normal; text-transform: none; }\n",
      "\n",
      ".no_results #recommendations .row.lastRow { border-bottom: 2px solid #F6F6F6; }\n",
      "\n",
      ".no_results #recommendations #bviewmorerecs a { color: #000 !important; }\n",
      "\n",
      "#auxCol { padding-top: 24px; padding-left: 24px; }\n",
      "\n",
      "#auxCol .jaui, #auxCol #femp_list, #univsrch-salary-v3 #univsrch-salary-info, .cmp_display .cmp_info, .rezcta_display .rezcta_info, .rightRail { border: 0 !important; border-top: 6px solid #FFCA4F !important; background-color: #FFF; box-shadow: none !important; font-size: 12px; color: #767676; font-weight: bold; }\n",
      "\n",
      "#auxCol .ja_rec_confirm_ui_tst { border: 0; border-top: 6px solid #FFCA4F !important; }\n",
      "\n",
      "#auxCol #tjobalerts, #auxCol #jobalerts { border-radius: 0 !important; }\n",
      "\n",
      "#auxCol .ja_rec_confirm_ui_tst, #tjobalerts .jobalertlabel, #jobalerts .jobalertlabel, #femp_list .femp_header, #univsrch-salary-v3 #univsrch-salary-title { padding: 12px 16px !important; border-bottom: 2px solid #F6F6F6; background-color: #FFF; font-size: 12px; color: #4B4B4B; font-weight: 500; }\n",
      "\n",
      "#auxCol .ja_rec_confirm_ui_tst h4, #auxCol .ja_rec_action_text { font-size: 12px; color: #4B4B4B; }\n",
      "\n",
      "#tjobalerts.jaui .member, #jobalerts.jaui .member, #femp_list .femp_header, #univsrch-salary-v3 #univsrch-salary-title { color: #4B4B4B !important; font-weight: 500; }\n",
      "\n",
      "#tjobalerts .jobalertlabel, #jobalerts .jobalertlabel, #auxCol .ja_rec_confirm_ui_tst h4, #univsrch-salary-v3 #univsrch-salary-eval, #femp_list .femp_header, #univsrch-salary-v3 #univsrch-salary-title { margin: 0; }\n",
      "\n",
      "#auxCol .jaui { padding: 0; }\n",
      "\n",
      "#ja_active_check, #tjobalerts .jobalertlabel .ico, #jobalerts .jobalertlabel .ico { display: none; }\n",
      "\n",
      "#jobalerts #jobalertmessage, #tjobalerts #tjobalertmessage { padding-top: 0 !important; }\n",
      "\n",
      "#tjobalerts #tjobalertmessage, #jobalerts #jobalertmessage, #femp_list .femp_item, #tjobalertswrapper .ja_rec_ui_tst_box, #jobalertswrapper .ja_rec_ui_tst_box, #univsrch-salary-v3 #univsrch-salary-eval { background-color: #FFF; border: 0; color: #767676; font-size: 12px; font-weight: 400; padding: 16px 16px 24px; line-height: 1.5; }\n",
      "\n",
      "#tjobalerts #tjobalertmessage a, #tjobalerts #tjobalertmessage a.jobtitle, #jobalerts #jobalertmessage a, #jobalerts #jobalertmessage a.jobtitle, #femp_list .femp_item a, #femp_list .femp_item a.jobtitle, #tjobalertswrapper .ja_rec_ui_tst_box a, #tjobalertswrapper .ja_rec_ui_tst_box a.jobtitle, #jobalertswrapper .ja_rec_ui_tst_box a, #jobalertswrapper .ja_rec_ui_tst_box a.jobtitle, #univsrch-salary-v3 #univsrch-salary-eval a, #univsrch-salary-v3 #univsrch-salary-eval a.jobtitle { color: #2164F3 !important; font-weight: 500; font-size: 12px; }\n",
      "\n",
      "#jobalerts #jobalerttext:not(:empty), #tjobalerts #tjobalerttext:not(:empty) { padding-top: 16px; padding-left: 16px; padding-right: 16px; display: block; }\n",
      "\n",
      "#univsrch-salary-v3 #univsrch-salary-rates > #univsrch-salary-currentsalary.v3 { color: #000; font-size: 16px; }\n",
      "\n",
      "#jobalerts #jobalertsending, #tjobalerts #tjobalertsending { margin: 16px; display: block; }\n",
      "\n",
      ".jaui .ws_label, .jaui .ws_label_open, .jaui .member { color: #2164F3; }\n",
      "\n",
      "#jobsearch { padding-left: 24px !important; }\n",
      "\n",
      "#jobsearch .label, #jobsearch .label label, .lav .jsf .label, .result .location, #resultsCol .more_actions ul li .mat { color: #767676; }\n",
      "\n",
      ".footer { height: 50px; border-top-width: 2px; padding: 9px 0; }\n",
      "\n",
      "#footerMainLinks { margin: 10px 0 -5px; }\n",
      "\n",
      "#resultsBody .indeed-apply-button { background-color: #FFF !important; background-image: none !important; border: 2px solid #EBEBEB !important; color: #195FF7 !important; border-radius: 25px !important; background-image: none !important; padding: 0 !important; box-shadow: none !important; height: auto !important; border-color: #EBEBEB !important; }\n",
      "\n",
      "#resultsBody .indeed-apply-button:hover { color: #1497FF !important; background-color: #FFF !important; border-color: #1497FF !important; }\n",
      "\n",
      "#resultsBody .indeed-apply-button .indeed-apply-button-inner { background: #FFF; background-image: none !important; border: 1px solid transparent; box-shadow: none !important; box-sizing: border-box; color: #195FF7; max-width: 100% !important; text-shadow: none !important; border-radius: 25px !important; }\n",
      "\n",
      "#resultsBody .indeed-apply-button:hover { border-color: #1497FF !important; background-color: none !important; background-image: none !important; }\n",
      "\n",
      "#resultsBody .indeed-apply-button:hover .indeed-apply-button-inner { background-image: none !important; }\n",
      "\n",
      "#resultsBody .indeed-apply-button:hover .indeed-apply-button-label { color: #1497FF; }\n",
      "\n",
      "#resultsBody .indeed-apply-button .indeed-apply-button-label { color: #195FF7; line-height: 25px; padding: 3px 14px; border-radius: 0 !important; }\n",
      "\n",
      "#alertemail, #talertemail, #balertemail { border: 2px solid #EBEBEB; border-radius: 25px; padding: 6px 15px; min-height: 35px; box-sizing: border-box; }\n",
      "\n",
      "#alertemail:focus, #talertemail:focus, #balertemail:focus { border-color: #2164F3; outline: 0; }\n",
      "\n",
      "#resultsCol #balertemail { border-radius: 25px 0 0 25px; margin-right: -5px; }\n",
      "\n",
      "#resultsCol #balertsubmit { border-radius: 0 25px 25px 0 !important; position: relative; top: 0 !important; left: -2px; }\n",
      "\n",
      "#balertsubmit, #talertsubmit, #alertsubmit { background-color: #FFF !important; background-image: none !important; border: 2px solid #EBEBEB !important; color: #195FF7 !important; border-radius: 25px !important; min-height: 35px; min-width: 100px; font-size: 12px; font-weight: 500; }\n",
      "\n",
      "#balertsubmit:hover, #talertsubmit:hover, #alertsubmit:hover { color: #1497FF !important; background-color: #FFF !important; border-color: #1497FF !important; }\n",
      "\n",
      "#jobalertmessage .indeed-serp-button, #tjobalertmessage .indeed-serp-button, #balertsubmit .indeed-serp-button, #tjobalertmessage span, #jobalertmessage span, #bjobalertmessage span { box-shadow: none !important; text-shadow: none !important; border-radius: 0 !important; border: 0 !important; font-weight: normal !important; background: none !important; height: auto !important; }\n",
      "\n",
      ".jobalertform-terms-outer-wrapper .jobalertform-terms-inner-wrapper { background: #FFF !important; height: auto !important; }\n",
      "\n",
      "#bjobalertmessage .indeed-serp-button { margin-left: 4px; margin-top: -1px; }\n",
      "\n",
      "#pageContent .relatedQuerySpacing { border: 0; border-bottom: 2px solid #F6F6F6; padding: 16px; margin: 0; }\n",
      "\n",
      "#pageContent .relatedQuerySpacing .grayText { color: #4B4B4B; font-size: 12px; margin-bottom: 2px; }\n",
      "\n",
      "#jobalertswrapper { width: 100% !important; }\n",
      "\n",
      "#jobalertswrapper.float { z-index: 1; width: 332px !important; }\n",
      "\n",
      ".rbOpen .rbHeader { padding-left: 2px !important; }\n",
      "\n",
      ".rsList li { color: #767676; margin: 9px 0 !important; }\n",
      "\n",
      ".rsList li a { color: #2164F3 !important; font-size: 12px; }\n",
      "\n",
      ".rbList { margin-left: 2px !important; margin-bottom: 16px; }\n",
      "\n",
      ".rbList li { text-align: right; position: relative; color: #4B4B4B !important; margin: 8px 0 !important; color: #6f6f6f !important; }\n",
      "\n",
      ".rbList li a { overflow: hidden; text-overflow: ellipsis; color: #2D2D2D !important; font-weight: normal; float: left; font-size: 12px; max-width: 75%; padding-right: 12px; text-align: left; }\n",
      "\n",
      "#bviewrecs, #bviewmorerecs { position: relative; }\n",
      "\n",
      "#bviewrecs .recDecoration, #bviewmorerecs .recDecoration { display: none; }\n",
      "\n",
      "#bviewrecs a, #bviewmorerecs a { position: absolute; top: 0; bottom: 0; left: 0; right: 0; }\n",
      "\n",
      "#serpRecommendations { border-top: 2px solid #F6F6F6; }\n",
      "\n",
      "#serpRecommendations .brdr { display: none; }\n",
      "\n",
      "#serpRecommendations #bviewmorerecs { border-top: 2px solid #F6F6F6; padding: 16px 16px 2px; }\n",
      "\n",
      "#serpRecommendations #bviewmorerecs a { color: #000 !important; font-size: 16px; font-weight: 500 !important; padding: 16px; background-position: 98% bottom; }\n",
      "\n",
      "#serpRecommendations #bviewmorerecs .nji.recDecoration { margin-right: 16px; }\n",
      "\n",
      "#serpRecommendations .recTitle { font-size: 16px; font-weight: 500; padding: 0 16px; }\n",
      "\n",
      "#bviewrecs { margin-top: 0 !important; }\n",
      "\n",
      "#popover-foreground { border-top: 6px solid #FFCA4F; }\n",
      "\n",
      "#popover-foreground #popover-form-container { padding-top: 0; }\n",
      "\n",
      "#popover-foreground .popover-heading-container { border-bottom: 2px solid #F6F6F6; margin: -10px -25px 25px; padding-bottom: 15px; }\n",
      "\n",
      "#popover-foreground .popover-heading-container .envelope { display: none; }\n",
      "\n",
      "#popover-foreground #popover-x { margin-top: -18px; }\n",
      "\n",
      "#popover-foreground .popover-heading { margin-left: 25px; margin-right: 25px; font-size: 14px; }\n",
      "\n",
      "#popover-foreground .popover-input { border: 2px solid #EBEBEB; border-radius: 25px; padding: 6px 15px; font-size: 14px; box-sizing: border-box; height: 37px; width: 100%; }\n",
      "\n",
      "#popover-foreground .popover-small.caption { font-size: 12px; color: #767676; padding-bottom: 4px; display: block; }\n",
      "\n",
      "#popover-foreground .cleanuptst-indeed-serp-button { box-shadow: none !important; text-shadow: none !important; border-radius: 0 !important; border: 0 !important; font-weight: normal !important; background-image: none !important; background-color: #195FF7 !important; border: 2px solid #195FF7; border-radius: 25px !important; color: #FFF; font-weight: 500 !important; padding: 2px 24px; font-size: 14px; }\n",
      "\n",
      "#popover-foreground .cleanuptst-indeed-serp-button:hover { background-color: #1497FF !important; border-color: #1497FF !important; }\n",
      "\n",
      "#popover-foreground #popover-close-link { font-weight: normal !important; }\n",
      "\n",
      ".rbHeader .ws_bold, #radius_update label, .rbHeader, #recentsearches .rsh, #recPromoDisplay a, #refineresults span[role=\"heading\"] + div { font-size: 14px; font-weight: 500; color: #000 !important; text-transform: capitalize; }\n",
      "\n",
      "#recPromoDisplay a { color: #2164F3 !important; }\n",
      "\n",
      ".content #recPromoDisplay { margin-bottom: 2em !important; }\n",
      "\n",
      ".rbOpen .more_link { margin-top: -8px; margin-bottom: 24px; }\n",
      "\n",
      "#refineresults .more_link, #recentsearches .clearRSControl .sl, .result-link-bar-container .sl, .sl.ws_label { font-size: 12px; color: #2164F3; font-weight: normal; }\n",
      "\n",
      ".row .new { color: #F60 !important; text-transform: capitalize !important; }\n",
      "\n",
      ".nji.recDecoration, .rsList .nji, .rsi .nji, .row .new, .content #recPromoDisplay .nji.recDecoration, #recPromoDisplayPageLast .nji.recDecoration, #serpRecommendations #bviewmorerecs .nji.recDecoration, #resultsCol #bviewrecs .nji.recDecoration, #resultsCol #bviewmorerecs .nji.recDecoration, #job-content #bviewmorerecs .nji.recDecoration { color: #195FF7; display: inline-block; font-size: 12px; line-height: 1; }\n",
      "\n",
      ".result-link-bar-container .result-link-bar .save-job-link { color: #2164F3 !important; font-size: 12px; line-height: 1.2; }\n",
      "\n",
      ".result-link-bar-container { display: inline-block; color: transparent; }\n",
      "\n",
      ".result .more-link, .result .notes-link, .result .sl { text-transform: capitalize; }\n",
      "\n",
      ".result-link-bar .date, .row .result-link-source, .row .sponsoredGray, .row .myjobs-serp-link, .result-link-bar a[href*='/myjobs?from=serp'], .row .sdn, .row .iaP .iaLabel, .result .more-link, .result-link-bar-container .sl { border-bottom: 0 !important; color: #767676 !important; display: inline-block; font-size: 12px; line-height: 1.167 !important; }\n",
      "\n",
      ".row .iaP .iaLabel { color: #F60 !important; }\n",
      "\n",
      ".result-link-bar a[href*='/myjobs?from=serp'] { margin-left: 4px; }\n",
      "\n",
      ".iaP { display: inline-block; font-weight: 400; margin-right: 10px; }\n",
      "\n",
      "#resultsCol #bviewrecs .nji.recDecoration, #resultsCol #bviewmorerecs .nji.recDecoration { float: right; margin-right: 24px; display: block; margin-top: 3px; font-weight: normal; }\n",
      "\n",
      "#refineresultscol #recPromoDisplay .nji.recDecoration { color: #F60 !important; display: inline-block; font-weight: normal !important; line-height: 1 !important; padding: 0 4px 1px; position: relative; }\n",
      "\n",
      ".recJobs .viewJobRec a:after { background-position: left center; background-repeat: no-repeat; background-size: contain; content: ''; display: block; position: absolute; }\n",
      "\n",
      "#bviewrecs a, #bviewmorerecs a, .content #recPromoDisplay a, .recJobs .viewJobRec a:after, #jobsearch .sl, #gajui a, .srchlst_wrap .srchlst .rsi a, #promo_link a, #refineresultscol #recPromoDisplay:after, #populartable td a { background-image: url(\"data:image/svg+xml,%3Csvg xmlns='http://www.w3.org/2000/svg' viewBox='3 3 19 19' width='16' height='16'%3E%3Cg%3E%3Cpath fill='#CCC' d='M10 6L8.59 7.41 13.17 12 8.59 16.59 10 18l6-6Z'/%3E%3C/g%3E%3C/svg%3E\"); background-repeat: no-repeat; }\n",
      "\n",
      "#bviewrecs a, #bviewmorerecs a, .content #recPromoDisplay a { background-position: calc(101% - 1px) center; }\n",
      "\n",
      "#promo_link a, .srchlst_wrap .srchlst .rsi a { background-position: 98% center; }\n",
      "\n",
      "#populartable td a { background-position: 98% 52%; background-size: 14px 14px; }\n",
      "\n",
      ".recJobs .viewJobRec a:after { background-position: right center; width: 18px; height: 100%; top: 0; right: 8px; bottom: 0; }\n",
      "\n",
      "#jobsearch .sl { padding-right: 20px; background-position: right bottom; background-size: auto 80%; }\n",
      "\n",
      "#refineresultscol #recPromoDisplay { position: relative; }\n",
      "\n",
      "#refineresultscol #recPromoDisplay:after { background-position: right center; top: 2px; right: 100px; bottom: 0; width: 14px; }\n",
      "\n",
      ".close-link.closeLink { background-image: url(\"data:image/svg+xml;base64,PHN2ZyB4bWxucz0iaHR0cDovL3d3dy53My5vcmcvMjAwMC9zdmciIHdpZHRoPSIxMiIgaGVpZ2h0PSIxMiI+PGcgZmlsbD0ibm9uZSIgZmlsbC1ydWxlPSJldmVub2RkIiBzdHJva2U9IiMwMDAiIHN0cm9rZS13aWR0aD0iMiI+PHBhdGggZD0iTTEwLjUxIDFMMSAxMC41MU0xIDFsOS41MSA5LjUxIi8+PC9nPjwvc3ZnPg==\"); background-position: center; height: 12px; width: 12px; margin-right: 12px; margin-top: 12px; }\n",
      "\n",
      "#jobsearch .inwrap #where, #jobsearch .inwrap #what { padding-right: 34px !important; }\n",
      "\n",
      "#jobsearch td.npl .inwrap { position: relative; }\n",
      "\n",
      "#jobsearch td.npl:nth-child(1) .inwrap:after, #jobsearch td.npl:nth-child(2) .inwrap:after { background-position: left center; background-repeat: no-repeat; background-size: contain; content: ''; display: block; position: absolute; }\n",
      "\n",
      "#jobsearch td.npl:nth-child(1) .inwrap:after { background-image: url(\"data:image/svg+xml;base64,PHN2ZyB4bWxucz0iaHR0cDovL3d3dy53My5vcmcvMjAwMC9zdmciIHZpZXdCb3g9IjAgMCAyMSAyMCI+PHRpdGxlPkFzc2V0IDE8L3RpdGxlPjxwYXRoIGQ9Ik0yMSAxOC42MmwtNC41Ni00LjU2YTkuMSA5LjEgMCAxIDAtMS4yOCAxLjQ4TDE5LjYyIDIwek05IDE2YTcgNyAwIDEgMSA3LTcgNyA3IDAgMCAxLTcgN3oiIGRhdGEtbmFtZT0iTGF5ZXIgMSIvPjwvc3ZnPg==\"); width: 16px; height: 16px; margin: 10px 0 0 10px; right: 12px; top: 0; }\n",
      "\n",
      "#jobsearch td.npl:nth-child(2) .inwrap:after { background-image: url(\"data:image/svg+xml;base64,PHN2ZyB4bWxucz0iaHR0cDovL3d3dy53My5vcmcvMjAwMC9zdmciIHdpZHRoPSIxOCIgaGVpZ2h0PSIyNyIgdmlld0JveD0iMCAwIDE4IDI3Ij48ZyBmaWxsPSJub25lIiBmaWxsLXJ1bGU9ImV2ZW5vZGQiPjxwYXRoIHN0cm9rZT0iIzAwMCIgc3Ryb2tlLXdpZHRoPSIyIiBkPSJNOSAyNC43MmM1LjMzLTcuNTQgOC0xMi44NCA4LTE1LjcyIDAtNC40Mi0zLjU4LTgtOC04UzEgNC41OCAxIDljMCAyLjg4IDIuNjYgOC4xOCA4IDE1LjcyeiIvPjxjaXJjbGUgY3g9IjkiIGN5PSI5IiByPSIzIiBmaWxsPSIjMDAwIi8+PC9nPjwvc3ZnPg==\"); width: 18px; height: 18px; margin: 10px 0 0 12px; right: 12px; top: 0; }\n",
      "\n",
      "#resultsCol #resumePromo { padding-left: 16px !important; }\n",
      "\n",
      "#serpRecommendations .recTitle { position: relative; padding-left: 42px !important; }\n",
      "\n",
      "#serpRecommendations .recTitle:before { background-position: left center; background-repeat: no-repeat; background-size: contain; content: ''; display: block; position: absolute; background-image: url(\"data:image/svg+xml;base64,PHN2ZyB4bWxucz0naHR0cDovL3d3dy53My5vcmcvMjAwMC9zdmcnIHdpZHRoPScyNCcgaGVpZ2h0PScyMicgdmlld0JveD0nMCAwIDI0IDIyJz48ZyBmaWxsPSdub25lJz48ZyB0cmFuc2Zvcm09J3RyYW5zbGF0ZSgtMzMwIC0xNzU4KXRyYW5zbGF0ZSgzMzAgMTc1OCknPjxwYXRoIGQ9J00xNy43IDE5LjlMMTYuNiAxMy41IDIxLjMgOSAxNC45IDguMSAxMiAyLjMgOS4xIDguMSAyLjcgOSA3LjQgMTMuNSA2LjMgMTkuOSAxMiAxNi45IDE3LjcgMTkuOVonIHN0eWxlPSdzdHJva2Utd2lkdGg6MjtzdHJva2U6IzAwMCcvPjxwb2x5Z29uIHBvaW50cz0nMTIgMTQuNSA5LjEgMTYgOS42IDEyLjggNy4yIDEwLjUgMTAuNSAxMCAxMiA3IDEzLjUgMTAgMTYuOCAxMC41IDE0LjQgMTIuOCAxNC45IDE2JyBmaWxsPScjRkZDQTRGJy8+PC9nPjwvZz48L3N2Zz4K\") !important; width: 18px; height: 18px; left: 16px; }\n",
      "\n",
      "#serpRecommendations #bviewmorerecs a { padding: 16px 42px !important; }\n",
      "\n",
      "#refineresultscol .more_link span { display: inline-block; padding-left: 24px; overflow: hidden; width: 28px; white-space: nowrap; }\n",
      "\n",
      "#refineresultscol .more_link span:before { background-position: left center; background-repeat: no-repeat; background-size: contain; content: ''; display: block; position: absolute; background-image: url(\"data:image/svg+xml;base64,PHN2ZyB4bWxucz0iaHR0cDovL3d3dy53My5vcmcvMjAwMC9zdmciIHdpZHRoPSIyMCIgaGVpZ2h0PSIyMCI+PGcgZmlsbD0ibm9uZSIgZmlsbC1ydWxlPSJldmVub2RkIj48cGF0aCBmaWxsPSIjMTk1RkY3IiBkPSJNNSA5aDEwdjJINXoiLz48cGF0aCBmaWxsPSIjMTk1RkY3IiBkPSJNOSAxNVY1aDJ2MTB6Ii8+PGNpcmNsZSBjeD0iMTAiIGN5PSIxMCIgcj0iOSIgc3Ryb2tlPSIjRUNFQ0VDIiBzdHJva2Utd2lkdGg9IjIiLz48L2c+PC9zdmc+\"); height: 20px; width: 20px; margin-top: -3px; margin-left: -24px; }\n",
      "\n",
      "div#g_nav { height: 46px !important; }\n",
      "\n",
      "div#g_nav table { margin-top: -8px; }\n",
      "\n",
      "div#g_nav td { padding: 0 !important; }\n",
      "\n",
      "div#g_nav .navBi a, div#g_nav #userOptionsLabel { font-size: 12px; padding: 12px 0; }\n",
      "\n",
      ".lnav td { padding-bottom: 0; }\n",
      "\n",
      ".ltr #branding img { margin-left: 32px !important; margin-bottom: 0 !important; margin-top: 10px !important; }\n",
      "\n",
      "div#g_nav table { margin-top: -8px; }\n",
      "\n",
      "table[role=\"banner\"] { padding-bottom: 7px !important; padding-top: 8px !important; }\n",
      "\n",
      "#jobsearch #what_label_top, #jobsearch #where_label_top { color: #4B4B4B !important; font-size: 12px !important; font-weight: 500 !important; line-height: 16px !important; padding-bottom: 4px !important; text-transform: capitalize !important; }\n",
      "\n",
      "#jobsearch .inwrap #where, #jobsearch .inwrap #what { background-color: #fff; height: 36px !important; }\n",
      "\n",
      "#jobsearch .inwrapBorder .input_submit { padding: 7px 14px !important; }\n",
      "\n",
      "#jobsearch #what_label_bot, #jobsearch #where_label_bot, #jobsearch #what_label, #jobsearch #where_label { padding-top: 4px !important; }\n",
      "\n",
      "#resultsCol #primePromo, #resultsCol #resumePromo { margin-bottom: 0 !important; margin-top: 8px !important; padding: 8px 16px !important; padding-top: 0 !important; }\n",
      "\n",
      "#refineresultscol #refineresults { padding-left: 10px !important; }\n",
      "\n",
      ".ltr #resultsCol .showing { padding: 12px 16px !important; }\n",
      "\n",
      "#resultsCol .row { border-top: 0 !important; padding: 8px 16px !important; }\n",
      "\n",
      "#resultsCol .row .snip .summary { margin-bottom: 2px !important; }\n",
      "\n",
      "#resultsCol .jobtitle a:visited, #resultsCol .jobtitle:visited { color: #5a38d6 !important; }\n",
      "\n",
      "#resultsCol .row .snip .summary { font-size: 12px !important; }\n",
      "\n",
      ".result .iaP { display: block; margin-bottom: 4px; }\n",
      "\n",
      ".result .iaP .iaLabel { font-weight: normal !important; }\n",
      "\n",
      "#resultsCol .pagination, #resultsCol .related_searches { border-top: 0; }\n",
      "\n",
      "#resultsCol .jobtitle a, #resultsCol .jobtitle { color: #2D2D2D !important; text-decoration: underline !important; }\n",
      "\n",
      "#resultsCol .jobtitle a:hover, #resultsCol .jobtitle:hover { color: #000 !important; }\n",
      "\n",
      ".lnav #branding-td { position: absolute; top: 0; }\n",
      "\n",
      ".lnav #branding-td img { width: 80px; height: 22px; background-size: 77px 21px; margin-left: 25px !important; margin-top: 4px !important; }\n",
      "\n",
      ".lnav #branding-td + td { padding-left: 8px !important; }\n",
      "\n",
      "div#g_nav td:first-child { padding-left: 120px !important; }\n",
      "\n",
      "body #refineresultscol #refineresults { padding-left: 8px !important; margin-left: 0px !important; }\n",
      "\n",
      "body #resultsCol { border-right: 0 !important; }\n",
      "\n",
      "body #resultsCol .messageContainer { border: 0 !important; }\n",
      "\n",
      "body .vjs-highlight:after, body .vjs-highlight:before { display: none !important; }\n",
      "\n",
      "body #footer { border-top: 0 !important; }\n",
      "\n",
      "body #footerWrapper { border-color: #F6F6F6 !important; }\n",
      "\n",
      "body #resultsCol .row.result { margin-right: -28px !important; border-left: 4px solid transparent !important; padding-left: 12px !important; box-sizing: border-box !important; overflow: hidden !important; }\n",
      "\n",
      "body #resultsCol .row.result .jobtitle { margin-right: 0 !important; }\n",
      "\n",
      "body #resultsCol .row.result .jobtitle a { display: inline-block !important; text-overflow: ellipsis; }\n",
      "\n",
      "body #resultsCol .row.result .sjcl, body #resultsCol .row.result .summary { margin-right: 24px !important; }\n",
      "\n",
      "body #resultsCol .row.result.vjs-highlight { border-color: #ffca4f !important; border-bottom-color: transparent !important; border-right-color: transparent !important; }\n",
      "\n",
      "body #resultsCol .row.result:hover { border-bottom-color: transparent !important; border-right-color: transparent !important; border-top-color: transparent !important; }\n",
      "\n",
      "body #resultsCol .row.result:hover .jobtitle { text-decoration: underline !important; }\n",
      "\n",
      "body #resultsCol .row.result.clickcard:hover { background-color: #f9f9f9 !important; }\n",
      "\n",
      "body #vjs-container { margin-top: 24px !important; margin-bottom: 24px !important; margin-left: 0 !important; border: none !important; /* State Picket Drop Down Menu */ }\n",
      "\n",
      "body #vjs-container #vjs-header { border-top: 8px solid #ffca4f !important; box-shadow: 0 5px 6px -6px black; }\n",
      "\n",
      "body #vjs-container .job-footer-button-row { margin-bottom: 24px; }\n",
      "\n",
      "body #vjs-container .indeed-apply-button { border: none !important; padding: 0 !important; margin: 9px 0 0 !important; background: transparent !important; }\n",
      "\n",
      "body #vjs-container .indeed-apply-button .indeed-apply-button-inner { border: none !important; padding: 0 !important; margin: 0 !important; background: transparent !important; }\n",
      "\n",
      "body #vjs-container .indeed-apply-button .indeed-apply-button-inner .indeed-apply-button-label { background-image: none !important; box-shadow: none !important; box-sizing: border-box; max-width: 100% !important; text-shadow: none !important; border-radius: 100px !important; background-color: #195FF7 !important; border: 2px solid #195FF7 !important; color: #FFF !important; font-weight: 700 !important; font-size: 14px !important; padding: 12px 24px 11px !important; line-height: 20px !important; }\n",
      "\n",
      "body #vjs-container .indeed-apply-button .indeed-apply-button-inner .indeed-apply-button-label:hover { background-color: #1497FF !important; border-color: #1497FF !important; box-shadow: none !important; }\n",
      "\n",
      "body #vjs-container .blue-button { background-image: none !important; box-shadow: none !important; box-sizing: border-box; max-width: 100% !important; text-shadow: none !important; border-radius: 100px !important; background-color: #195FF7 !important; border: 2px solid #195FF7 !important; color: #fff !important; font-weight: 700 !important; font-size: 14px !important; padding: 11px 24px 9px !important; line-height: 20px !important; margin: 0 !important; }\n",
      "\n",
      "body #vjs-container .blue-button:hover { background-color: #1497FF !important; border-color: #1497FF !important; color: #fff !important; box-shadow: none !important; }\n",
      "\n",
      "body #vjs-container .state-picker-button { margin-left: 16px !important; background-color: #fff !important; border: 2px solid #ebebeb !important; color: #195FF7 !important; }\n",
      "\n",
      "body #vjs-container .state-picker-button:hover { background-color: #fff !important; border-color: #1497FF !important; color: #1497FF !important; }\n",
      "\n",
      "body #vjs-container #indeed_apply .state-picker-button.dd-target, body #vjs-container #apply-state-picker-container .state-picker-button.dd-target { background-color: #FFF !important; background-image: none !important; border: 2px solid #EBEBEB !important; color: #195FF7 !important; border-radius: 25px !important; border-radius: 25px; background-color: #FFF !important; background-image: none !important; border: 2px solid #EBEBEB !important; box-shadow: none !important; font-size: 14px; font-weight: 500; padding: 4px 21px; line-height: 32px; min-width: 100%; margin-top: 2px; }\n",
      "\n",
      "body #vjs-container #indeed_apply .state-picker-button.dd-target:hover, body #vjs-container #apply-state-picker-container .state-picker-button.dd-target:hover { color: #1497FF !important; background-color: #FFF !important; border-color: #1497FF !important; }\n",
      "\n",
      "body #vjs-container #state-picker-info-container .state-picker-info-body { background: #F6F6F6; }\n",
      "\n",
      "body #vjs-container #state-picker-container .state-picker-info-arrow { border-bottom: 10px solid #F6F6F6 !important; }\n",
      "\n",
      "body #vjs-container #state-picker-container .dd-menu { border: 2px solid #EBEBEB; border-radius: 15px; background-color: #FFF; box-shadow: 2px 3px 8px 0 rgba(0, 0, 0, 0.08); color: #4B4B4B; margin-left: 15px; margin-top: 2px; width: 100% !important; margin-bottom: 48px; }\n",
      "\n",
      "body #vjs-container #state-picker-container .dd-menu .dd-menu-option { background-color: #FFF; border: 0; }\n",
      "\n",
      "body #vjs-container #state-picker-container .dd-menu .dd-menu-option:not(:last-of-type) { border-bottom: 2px solid #F6F6F6; }\n",
      "\n",
      "body #vjs-container #state-picker-container .dd-menu .dd-menu-option:first-child { border-radius: 13px 13px 0 0; }\n",
      "\n",
      "body #vjs-container #state-picker-container .dd-menu .dd-menu-option:last-child { border-radius: 0 0 13px 13px; }\n",
      "\n",
      "body #vjs-container #state-picker-container .dd-menu .dd-menu-option:hover { background-color: #F6F6F6 !important; }\n",
      "\n",
      "body #auxCol { padding-left: 24px !important; }\n",
      "\n",
      "body #auxCol #femp_list, body #univsrch-salary-v3 { margin-left: 0 !important; }\n",
      "</style>\n",
      "<style type=\"text/css\">\n",
      ".btn,.sg-btn{display:inline-block;padding:9px 15px;border:1px solid #9a99ac;border-bottom-color:#a2a2a2;-webkit-border-radius:6px;-moz-border-radius:6px;-ms-border-radius:6px;-o-border-radius:6px;border-radius:6px;background-color:#D9D9E2;background-image:-moz-linear-gradient(top, #f8f8f9, #D9D9E2);background-image:-webkit-gradient(linear, 0 0, 0 100%, from(#f8f8f9), to(#D9D9E2));background-image:-webkit-linear-gradient(top, #f8f8f9, #D9D9E2);background-image:linear-gradient(to bottom, #f8f8f9, #D9D9E2);background-repeat:repeat-x;-webkit-box-shadow:0 1px 5px rgba(0,0,0,0.2);-moz-box-shadow:0 1px 5px rgba(0,0,0,0.2);-ms-box-shadow:0 1px 5px rgba(0,0,0,0.2);-o-box-shadow:0 1px 5px rgba(0,0,0,0.2);box-shadow:0 1px 5px rgba(0,0,0,0.2);color:#333;vertical-align:middle;text-align:center;text-decoration:none;text-shadow:0 1px #fff;font-weight:700;font-size:16px;font-family:\"Helvetica Neue\",Helvetica,Arial,\"Lucida Grande\",sans-serif;line-height:22px;filter:progid:DXImageTransform.Microsoft.gradient(startColorstr='#fff8f8f9', endColorstr='#ffe6e6e6', GradientType=0);cursor:pointer;-webkit-user-select:none;-moz-user-select:none;-ms-user-select:none;-o-user-select:none;user-select:none;-webkit-touch-callout:none;-webkit-highlight:none;-webkit-tap-highlight-color:transparent;text-overflow:ellipsis;white-space:nowrap;overflow:hidden}.btn.active,.btn.sg-active,.btn:active,.btn.disabled,.btn.sg-disabled,.btn[disabled],.sg-btn.active,.sg-btn.sg-active,.sg-btn:active,.sg-btn.disabled,.sg-btn.sg-disabled,.sg-btn[disabled]{outline:none;background-color:#f8f8f9;color:#333}.btn:focus,.sg-btn:focus{outline:0;box-shadow:0 0 1px 0 #1642bb;-webkit-transition:box-shadow 0.2s linear;-moz-transition:box-shadow 0.2s linear;transition:box-shadow 0.2s linear}.btn.active,.btn.sg-active,.btn:active,.sg-btn.active,.sg-btn.sg-active,.sg-btn:active{background-color:#f8f8f9;background-image:none;-webkit-box-shadow:inset 0 2px 4px rgba(0,0,0,0.15),0 1px 2px rgba(0,0,0,0.05);-moz-box-shadow:inset 0 2px 4px rgba(0,0,0,0.15),0 1px 2px rgba(0,0,0,0.05);box-shadow:inset 0 2px 4px rgba(0,0,0,0.15),0 1px 2px rgba(0,0,0,0.05)}.btn.disabled,.btn.sg-disabled,.btn[disabled],.sg-btn.disabled,.sg-btn.sg-disabled,.sg-btn[disabled]{background-color:#f8f8f9;background-image:none;-webkit-box-shadow:none;-moz-box-shadow:none;box-shadow:none;opacity:.65;filter:alpha(opacity=65);cursor:default}.btn-primary,.sg-btn-primary{border-color:#1642bb;background-color:#5585f2;background-image:-moz-linear-gradient(top, #6598ff, #2e5ad7);background-image:-webkit-gradient(linear, 0 0, 0 100%, from(#6598ff), to(#2e5ad7));background-image:-webkit-linear-gradient(top, #6598ff, #2e5ad7);background-image:linear-gradient(to bottom, #6598ff, #2e5ad7);background-repeat:repeat-x;color:#F8F8F9;text-shadow:0 -1px #0f2299;-ms-filter:progid:DXImageTransform.Microsoft.dropshadow(OffX=0, OffY=-1, Color=#e80f2299, Positive=true);filter:progid:DXImageTransform.Microsoft.dropshadow(OffX=0, OffY=-1, Color=#e80f2299, Positive=true);filter:progid:DXImageTransform.Microsoft.gradient(startColorstr='#ff6598fe', endColorstr='#ff3c69e0', GradientType=0);zoom:1}.btn-primary.active,.btn-primary.sg-active,.btn-primary:active,.btn-primary.disabled,.btn-primary.sg-disabled,.btn-primary[disabled],.sg-btn-primary.active,.sg-btn-primary.sg-active,.sg-btn-primary:active,.sg-btn-primary.disabled,.sg-btn-primary.sg-disabled,.sg-btn-primary[disabled]{background-color:#2e5ad7;color:#F8F8F9}.btn-primary:focus,.sg-btn-primary:focus{box-shadow:0 0 1px 0 #000}.btn-special,.sg-btn-special{border-color:#ba3200;background-color:#5585f2;background-image:-moz-linear-gradient(top, #f60, #f14200);background-image:-webkit-gradient(linear, 0 0, 0 100%, from(#f60), to(#f14200));background-image:-webkit-linear-gradient(top, #f60, #f14200);background-image:linear-gradient(to bottom, #f60, #f14200);background-repeat:repeat-x;color:#F8F8F9;text-shadow:0 -1px #000;-ms-filter:progid:DXImageTransform.Microsoft.dropshadow(OffX=0, OffY=-1, Color=#e80f2299, Positive=true);filter:progid:DXImageTransform.Microsoft.dropshadow(OffX=0, OffY=-1, Color=#e80f2299, Positive=true);filter:progid:DXImageTransform.Microsoft.gradient(startColorstr='#ff6598fe', endColorstr='#ff3c69e0', GradientType=0);zoom:1}.btn-special.active,.btn-special.sg-active,.btn-special:active,.btn-special.disabled,.btn-special.sg-disabled,.btn-special[disabled],.sg-btn-special.active,.sg-btn-special.sg-active,.sg-btn-special:active,.sg-btn-special.disabled,.sg-btn-special.sg-disabled,.sg-btn-special[disabled]{background-color:#f14200;color:#F8F8F9}.btn-special:focus,.sg-btn-special:focus{box-shadow:0 0 1px 0 #000}.btn-danger,.sg-btn-danger{border-color:#83121b;background-color:#5585f2;background-image:-moz-linear-gradient(top, #d1787f, #b01825);background-image:-webkit-gradient(linear, 0 0, 0 100%, from(#d1787f), to(#b01825));background-image:-webkit-linear-gradient(top, #d1787f, #b01825);background-image:linear-gradient(to bottom, #d1787f, #b01825);background-repeat:repeat-x;color:#F8F8F9;text-shadow:0 -1px #000;-ms-filter:progid:DXImageTransform.Microsoft.dropshadow(OffX=0, OffY=-1, Color=#e80f2299, Positive=true);filter:progid:DXImageTransform.Microsoft.dropshadow(OffX=0, OffY=-1, Color=#e80f2299, Positive=true);filter:progid:DXImageTransform.Microsoft.gradient(startColorstr='#ff6598fe', endColorstr='#ff3c69e0', GradientType=0);zoom:1}.btn-danger.active,.btn-danger.sg-active,.btn-danger:active,.btn-danger.disabled,.btn-danger.sg-disabled,.btn-danger[disabled],.sg-btn-danger.active,.sg-btn-danger.sg-active,.sg-btn-danger:active,.sg-btn-danger.disabled,.sg-btn-danger.sg-disabled,.sg-btn-danger[disabled]{background-color:#b01825;color:#F8F8F9}.btn-danger:focus,.sg-btn-danger:focus{box-shadow:0 0 1px 0 #000}input.btn,input.sg-btn{-webkit-appearance:none}button.btn::-moz-focus-inner,button.sg-btn::-moz-focus-inner{border:0}.btn-sm,.sg-btn-sm,.btn-xs,.sg-bt-xs{padding:6px 12px}.btn-xs,.sg-btn-xs{padding:3px 6px;line-height:15px}.btn-md,.sg-btn-md{padding:6px 6px}.btn-lg,.sg-btn-lg{padding:9px 18px;border-radius:6px;font-size:18px}.btn-block,.sg-btn-block{display:block;margin:9px auto;-webkit-box-sizing:border-box !important;-moz-box-sizing:border-box !important;box-sizing:border-box !important;max-width:352px}.btn-block-compact,.sg-btn-block-compact{margin:2px auto}input.btn-block,input.sg-btn-block,button.btn-block,button.sg-btn-block{width:100%;max-width:351px}.btn-block+.btn-block,.sg-btn-block+.sg-btn-block{margin-top:5px}#buttonContainer .btn,#buttonContainer .sg-btn{margin:0}.btn-icon .cssImage{margin-bottom:-40px;position:relative;top:-27px}.btn-pair{-webkit-box-sizing:border-box !important;-moz-box-sizing:border-box !important;box-sizing:border-box !important;width:49%}#refineresultscol{width:184px}#refineresults{width:180px}#branding-td{width:186px;text-align:center}.ltr #searchCount{margin-right:4px;margin-left:4px}.ltr #resultsCol .sorting{padding-right:4px}.ltr #resultsCol .showing{padding-left:4px}.ltr #jobsearch{padding-left:4px}.rtl #searchCount{margin-left:4px;margin-right:4px}.rtl #resultsCol .sorting{padding-left:4px}.rtl #resultsCol .showing{padding-right:4px}.rtl #jobsearch{padding-right:4px}.jaui,.hasu .gasc,.row,.message,.oocs{padding-left:4px;padding-right:4px}#resumePromo{padding-left:4px;padding-right:4px}#primePromo{padding-left:4px;padding-right:4px}@media only screen and (min-width: 1125px){.ltr #refineresults{padding-left:15px}.ltr #branding img{margin-left:16px;margin-right:28px}.rtl #refineresults{padding-right:15px}.rtl #branding img{margin-right:16px;margin-left:28px}.ltr #searchCount{margin-right:12px;margin-left:12px}.ltr #resultsCol .sorting{padding-right:12px}.ltr #resultsCol .showing{padding-left:12px}.ltr #jobsearch{padding-left:12px}.rtl #searchCount{margin-left:12px;margin-right:12px}.rtl #resultsCol .sorting{padding-left:12px}.rtl #resultsCol .showing{padding-right:12px}.rtl #jobsearch{padding-right:12px}.jaui,.hasu .gasc,.row,.message,.oocs{padding-left:12px;padding-right:12px}#resumePromo{padding-left:12px;padding-right:12px}#primePromo{padding-left:12px;padding-right:12px}#resultsBody{width:1125px}#refineresultscol,#branding-td{width:225px}#refineresults{width:210px}}@media only screen and (min-width: 1250px){#resultsBody{width:1250px}#auxCol{width:315px}#refineresultscol,#branding-td{width:275px}#refineresults{width:260px}.ltr #refineresults{padding-left:15px}.ltr #branding img{margin-left:16px;margin-right:28px}.rtl #refineresults{padding-right:15px}.rtl #branding img{margin-right:16px;margin-left:28px}.ltr #searchCount{margin-right:12px;margin-left:12px}.ltr #resultsCol .sorting{padding-right:12px}.ltr #resultsCol .showing{padding-left:12px}.ltr #jobsearch{padding-left:12px}.rtl #searchCount{margin-left:12px;margin-right:12px}.rtl #resultsCol .sorting{padding-left:12px}.rtl #resultsCol .showing{padding-right:12px}.rtl #jobsearch{padding-right:12px}.jaui,.hasu .gasc,.row,.message,.oocs{padding-left:12px;padding-right:12px}#resumePromo{padding-left:12px;padding-right:12px}#primePromo{padding-left:12px;padding-right:12px}}#branding-td{padding:5px 0 5px 0px}.resultsTop{padding-top:9px}\n",
      "</style>\n",
      "</head>\n",
      "\n",
      "<body class=\"ltr jasxcustomfonttst-inactive\" data-tn-application=\"jasx\" data-tn-olth=\"41be357fa1c7dc26c5ee98836f8950b3\" data-tn-originlogid=\"1bu6rar4q0k4o3iu\" data-tn-originlogtype=\"jobsearch\">\n",
      "<div id=\"accessibilityBanner\"><span id=\"accessibilityText\">Skip to <!-- This is translated before reaching this state --><a class=\"accessibilityMenu\" href=\"#jobPostingsAnchor\" id=\"skipToJobs\">Job Postings</a>, <!-- This is translated before reaching this state --><a class=\"accessibilityMenu\" href=\"#what\" id=\"skipToSearch\">Search</a></span><a id=\"accessibilityClose\">Close</a></div><script type=\"text/javascript\">\n",
      "createTabBar('1bu6rar4q0k4o3iu');\n",
      "</script>\n",
      "<script type=\"text/javascript\">\n",
      "var normalVjOnSerp = false  && window.innerWidth >= 1280;\n",
      "var clickCardVjOnSerp = false  && window.innerWidth >= 1280;\n",
      "var viewJobOnSerp = new indeed.vjs('1bu6rar4q0k4o3iu', clickCardVjOnSerp);\n",
      "var vjk = viewJobOnSerp.getVJK();\n",
      "var vjUrl = viewJobOnSerp.vjUrl(vjk);\n",
      "var showVjOnSerp = normalVjOnSerp || clickCardVjOnSerp;\n",
      "var zrp = false;\n",
      "if ((zrp || !showVjOnSerp) && vjUrl) {\n",
      "window.location.replace(vjUrl);\n",
      "} else if (showVjOnSerp) {\n",
      "var jobKeysWithInfo = {};\n",
      "\n",
      "if (vjk && !jobKeysWithInfo.hasOwnProperty(vjk)) {\n",
      "jobKeysWithInfo[vjk] = true;\n",
      "}\n",
      "viewJobOnSerp.preloadDescs(jobKeysWithInfo);\n",
      "}\n",
      "</script>\n",
      "\n",
      "<style type=\"text/css\">\n",
      "body { margin-top: 0; margin-left: 0; margin-right: 0; padding-top: 0; padding-right: 0; padding-left: 0; }\n",
      "\n",
      "#g_nav { border-bottom:1px solid #ccc; margin-bottom:9px; }\n",
      "\n",
      "#g_nav a,\n",
      "#g_nav a:visited { color: #00c; }\n",
      "\n",
      ".navBi { display: -moz-inline-box; display: inline-block; padding: 9px 12px; margin: 0; list-style-type: none; }\n",
      "</style>\n",
      "<div class=\"left\" data-tn-section=\"globalNav\" id=\"g_nav\" role=\"navigation\">\n",
      "<table cellpadding=\"0\" cellspacing=\"0\" width=\"100%\">\n",
      "<tbody><tr>\n",
      "<td nowrap=\"\"><style type=\"text/css\">\n",
      "#p_nav a.selected { font-weight: bold; text-decoration:none; color: #000 !important; }\n",
      "</style>\n",
      "\n",
      "<div id=\"p_nav\"><span class=\"navBi\"><a class=\"selected\" href=\"/\" id=\"jobsLink\" title=\"Jobs\">Find Jobs</a></span><span class=\"navBi\"><a href=\"/companies\" onmousedown=\"this.href = appendParamsOnce(this.href, '?from=headercmplink&amp;attributionid=jobsearch')\">Company Reviews</a></span><span class=\"navBi\"><a href=\"/salaries\" onmousedown=\"this.href = appendParamsOnce(this.href, '?from=headercmplink&amp;attributionid=jobsearch')\">Find Salaries</a></span><span class=\"navBi\"><a href=\"/resumes?isid=find-resumes&amp;ikw=SERPtop&amp;co=US&amp;hl=en\" id=\"rezLink\">Find Resumes</a></span><span class=\"navBi\"><a href=\"/hire?hl=en&amp;cc=US\" id=\"empLink\" onclick=\"if ( this.href.match('&amp;isid=employerlink-US-control&amp;ikw=SERPtop') == null ) { this.href += '&amp;isid=employerlink-US-control&amp;ikw=SERPtop' };\">Employers / Post Job</a></span></div>\n",
      "</td>\n",
      "<td align=\"right\" nowrap=\"\"><style type=\"text/css\">\n",
      "\n",
      "\n",
      "#navpromo a,\n",
      "#navpromo a:visited {\n",
      "color: #f60;\n",
      "}\n",
      "\n",
      "\n",
      "#u_nav .login_unconfirmed,\n",
      "#u_nav .login_unconfirmed a,\n",
      "#u_nav .login_unconfirmed a:visited {\n",
      "color: #c00\n",
      "}\n",
      "\n",
      "#u_nav .resume_pending,\n",
      "#u_nav .resume_pending a,\n",
      "#u_nav .resume_pending a:visited {\n",
      "color: #c00\n",
      "}\n",
      "\n",
      "#userOptionsLabel {\n",
      "position: relative;\n",
      "z-index: 5;\n",
      "}\n",
      "\n",
      "#userOptionsLabel b {\n",
      "cursor: pointer;\n",
      "text-decoration: underline;\n",
      "position: relative;\n",
      "z-index: 5;\n",
      "}\n",
      "\n",
      "#userOptionsLabel:active {\n",
      "outline: none;\n",
      "}\n",
      "\n",
      "#userOptionsLabel.active {\n",
      "padding: 9px 11px;\n",
      "margin-bottom: -1px;\n",
      "_margin-bottom: 0px;\n",
      "border: 1px solid #ccc;\n",
      "border-top: 0;\n",
      "}\n",
      "\n",
      "#userOptionsLabel.active .arrowStub {\n",
      "border-width: 0 3px 3px;\n",
      "_border-width: 0px 3px 4px;\n",
      "border-color: transparent;\n",
      "border-bottom-color: #666;\n",
      "top: -2px;\n",
      "border-style: dashed dashed solid;\n",
      "}\n",
      "\n",
      "#userOptionsLabel.active .halfPxlFix {\n",
      "background: #fff;\n",
      "bottom: -3px;\n",
      "height: 6px;\n",
      "left: 0;\n",
      "position: absolute;\n",
      "right: 0;\n",
      "border: 1px solid #fff;\n",
      "}\n",
      "\n",
      ".arrowStub {\n",
      "position: relative;\n",
      "border-style: solid dashed dashed;\n",
      "border-color: transparent;\n",
      "border-top-color: #666;\n",
      "display: -moz-inline-box;\n",
      "display: inline-block;\n",
      "font-size: 0;\n",
      "height: 0;\n",
      "line-height: 0;\n",
      "width: 0;\n",
      "left: 4px;\n",
      "border-top-width: 3px;\n",
      "border-bottom-width: 0;\n",
      "border-right-width: 3px;\n",
      "padding-top: 1px;\n",
      "top: -1px;\n",
      "}\n",
      "\n",
      "#userOptions {\n",
      "z-index: 2;\n",
      "visibility: hidden;\n",
      "position: absolute;\n",
      "right: 0;\n",
      "x_right: -1px;\n",
      "top: 100%;\n",
      "padding: 9px 15px;\n",
      "border: 1px solid #ccc;\n",
      "background: #fff;\n",
      "min-width: 150px;\n",
      "_width: 150px;\n",
      "text-align: left;\n",
      "}\n",
      "\n",
      "#userOptions.open {\n",
      "visibility: visible;\n",
      "}\n",
      "\n",
      ".userOptionItem {\n",
      "margin: 6px 0;\n",
      "}\n",
      "\n",
      ".userOptionItem a {\n",
      "white-space: nowrap;\n",
      "}\n",
      "\n",
      ".userOptionGroup {\n",
      "border-top: 1px solid #e8e8e8;\n",
      "margin-top: 12px;\n",
      "}\n",
      "\n",
      ".userNameRepeat {\n",
      "color: #a8a8a8;\n",
      "padding-right: 48px;\n",
      "font-weight: bold;\n",
      "}\n",
      "\n",
      ".userOptionGroupHeader {\n",
      "font-weight: bold;\n",
      "margin: 6px 0;\n",
      "}\n",
      "\n",
      "</style>\n",
      "<div id=\"u_nav\">\n",
      "<script>\n",
      "\n",
      "function regExpEscape(s) {\n",
      "return String(s).replace(/([-()\\[\\]{}+?*.$\\^|,:#<!\\\\])/g, '\\\\$1').\n",
      "replace(/\\x08/g, '\\\\x08');\n",
      "}\n",
      "\n",
      "\n",
      "function appendParamsOnce(url, params) {\n",
      "var useParams = params.replace(/^(\\?|\\&)/, '');\n",
      "if (url.match(new RegExp('[\\\\?|\\\\&]' + regExpEscape(useParams))) == null) {\n",
      "return url += (url.indexOf('?') > 0 ? '&' : '?' ) + useParams;\n",
      "}\n",
      "return url;\n",
      "}\n",
      "\n",
      "</script>\n",
      "<div id=\"user_actions\">\n",
      "<span class=\"navBi resumeCTAWhiteOutline\">\n",
      "<span class=\"resume-promo\" id=\"navpromo\">\n",
      "<a href=\"/promo/resume\" onclick=\"window.location=this.href + '?from=nav&amp;subfrom=rezprmstd&amp;trk.origin=jobsearch&amp;trk.variant=rezprmstd&amp;trk.pos=nav&amp;trk.tk=1bu6rar4q0k4o3iu'; return false;\">Upload your resume</a>\n",
      "</span>\n",
      "</span>\n",
      "<span class=\"navBi\"><a href=\"https://www.indeed.com/account/login?dest=%2Fjobs%3Fq%3Ddata%2Bscientist\" id=\"userOptionsLabel\" rel=\"nofollow\">Sign in</a></span>\n",
      "</div>\n",
      "</div>\n",
      "</td>\n",
      "</tr>\n",
      "</tbody></table>\n",
      "</div>\n",
      "<style type=\"text/css\">\n",
      ".indeedLogo {\n",
      "margin: 8px 0 0 9px;\n",
      "border: 0;\n",
      "width: 166px;\n",
      "height: 64px;\n",
      "}\n",
      "\n",
      ".indeedLogo {\n",
      "background: url(\"data:image/svg+xml,%3Csvg xmlns='http://www.w3.org/2000/svg' viewBox='0 0 155 43'%3E%3Cstyle%3E.st0%7Bfill:%232164F3;%7D%3C/style%3E%3Cpath class='st0' d='M147.2 34.1c-.6 1.2-1.3 2.1-2.2 2.6-.9.6-2 .8-3.1.8s-2.2-.3-3.1-.9c-.9-.6-1.7-1.5-2.2-2.7-.5-1.2-.8-2.7-.8-4.4 0-1.6.3-3.1.8-4.3.5-1.2 1.2-2.2 2.2-2.8.9-.7 2-1 3.2-1h.1c1.1 0 2.1.3 3.1 1 .9.6 1.7 1.6 2.3 2.7.6 1.2.8 2.7.8 4.3-.3 2-.5 3.5-1.1 4.7m6.5-25.7c-.5-.6-1.3-.9-2.3-.9-1 0-1.7.3-2.3 1-.5.7-.8 1.6-.8 2.9v9.4c-1.2-1.3-2.5-2.3-3.7-2.9-.8-.4-1.7-.7-2.8-.8-.6-.1-1.2-.1-1.9-.1-3.2 0-5.8 1.1-7.8 3.3-2 2.2-3 5.3-3 9.2 0 1.9.3 3.6.8 5.2s1.2 3 2.2 4.2 2.1 2.1 3.4 2.7c1.3.6 2.7 1 4.3 1 .7 0 1.4-.1 2-.2l1.2-.3c1-.3 1.9-.8 2.7-1.4.8-.6 1.7-1.4 2.6-2.4v.6c0 1.2.3 2 .8 2.7.6.6 1.3.9 2.2.9s1.6-.3 2.2-.9c.6-.6.8-1.5.8-2.7V11.1c.2-1.2-.1-2.1-.6-2.7m-41.5 14.4c1-1.1 2.3-1.6 3.9-1.6 1.7 0 3 .5 4.1 1.6 1 1.1 1.6 2.6 1.8 4.8h-11.7c.2-2.1.8-3.7 1.9-4.8m15 11.6c-.4-.4-.9-.5-1.6-.5-.6 0-1.1.1-1.4.4-.8.7-1.5 1.3-2 1.8-.5.4-1.1.8-1.7 1.2-.6.4-1.2.7-1.8.8-.7.2-1.3.3-2.1.3h-.5c-1-.1-1.9-.3-2.7-.8-1-.5-1.7-1.4-2.3-2.4-.6-1.1-.8-2.5-.9-3.9h12.6c1.7 0 3-.1 3.9-.6.9-.5 1.4-1.5 1.4-3.1 0-1.7-.5-3.4-1.4-5.1-.9-1.6-2.2-3-4.1-4-1.8-1-3.9-1.6-6.5-1.6h-.2c-1.9 0-3.6.3-5.1.9-1.6.6-2.9 1.5-4 2.6-1.1 1.2-1.9 2.5-2.5 4.1-.6 1.6-.9 3.3-.9 5.2 0 4 1.2 7.1 3.5 9.4 2.2 2.2 5.2 3.3 9 3.5h.7c1.8 0 3.4-.2 4.8-.7 1.4-.5 2.6-1 3.5-1.7.9-.7 1.6-1.5 2.1-2.2.5-.8.7-1.4.7-2 .1-.8-.1-1.3-.5-1.6M86.3 22.8c1-1.1 2.3-1.6 3.9-1.6 1.7 0 3 .5 4.1 1.6 1 1.1 1.6 2.6 1.8 4.8H84.4c.3-2.1.9-3.7 1.9-4.8m13.5 11c-.6 0-1.1.1-1.4.4-.8.7-1.5 1.3-2 1.8-.5.4-1 .8-1.6 1.2-.6.4-1.2.7-1.9.8-.6.2-1.3.3-2.1.3h-.5c-1-.1-1.9-.3-2.7-.8-.9-.5-1.7-1.4-2.3-2.4-.6-1.1-.9-2.5-.9-3.9H97c1.7 0 3-.1 3.9-.6.9-.5 1.4-1.5 1.4-3.1 0-1.7-.4-3.4-1.3-5.1-.9-1.6-2.3-3-4.1-4-1.8-1-4-1.6-6.5-1.6h-.2c-1.9 0-3.5.3-5.1.9-1.6.6-2.9 1.5-4 2.6-1.1 1.2-1.9 2.5-2.5 4.1s-.9 3.3-.9 5.2c0 4 1.2 7.1 3.5 9.4 2.2 2.2 5.2 3.3 9 3.5h.7c1.8 0 3.4-.2 4.8-.7 1.4-.5 2.6-1 3.5-1.7.9-.7 1.6-1.5 2.1-2.2.5-.8.7-1.4.7-2 0-.6-.2-1.2-.6-1.5-.4-.4-1-.6-1.6-.6M14 38.3c0 1.4.3 2.4 1 3.1.7.7 1.5 1.1 2.5 1.1 1.1 0 1.9-.4 2.6-1 .7-.7 1-1.7 1-3.1V21.8c-1.7 1-3.6 1.5-5.7 1.5-.4 0-.9 0-1.3-.1L14 38.3m54.2-4.2c-.6 1.2-1.3 2.1-2.3 2.6-.9.6-2 .8-3.1.8s-2.2-.3-3.1-.9c-1-.6-1.7-1.5-2.2-2.7s-.8-2.7-.8-4.4c0-1.6.3-3.1.8-4.3.5-1.2 1.2-2.2 2.2-2.8.9-.7 2-1 3.1-1h.1c1.1 0 2.1.3 3.1 1 1 .6 1.7 1.6 2.3 2.7.5 1.2.8 2.7.8 4.3 0 2-.3 3.5-.9 4.7m6.5-25.7c-.5-.6-1.3-.9-2.2-.9-1 0-1.7.3-2.3 1-.5.7-.8 1.6-.8 2.9v9.3c-1.2-1.3-2.5-2.3-3.8-2.9-.8-.4-1.7-.7-2.8-.8-.6-.1-1.2-.1-1.9-.1-3.2 0-5.8 1.1-7.8 3.3-2 2.2-3 5.3-3 9.2 0 1.9.3 3.6.7 5.2.5 1.6 1.2 3 2.2 4.2 1 1.2 2.1 2.1 3.4 2.7 1.3.6 2.7 1 4.3 1 .7 0 1.4-.1 2-.2l1.2-.3c1-.3 1.9-.8 2.7-1.4.8-.6 1.7-1.4 2.6-2.4v.6c0 1.2.3 2 .9 2.7.6.6 1.3.9 2.2.9.8 0 1.6-.3 2.2-.9.6-.6.8-1.5.8-2.7V11.1c.2-1.2 0-2.1-.6-2.7M31.3 20.3c0-.7-.1-1.4-.4-1.9-.3-.5-.7-.9-1.1-1.2-.5-.3-1-.4-1.5-.4-.9 0-1.7.3-2.2.9-.5.6-.8 1.5-.8 2.7v18.2c0 1.2.3 2.2.8 2.8.6.7 1.4 1 2.3 1 1 0 1.7-.3 2.3-1 .6-.7.8-1.6.8-2.9v-7.9c0-2.6.2-4.3.5-5.3.4-1.2 1.2-2.1 2.1-2.8.9-.7 2-1 3.1-1 1.8 0 3 .6 3.5 1.6.6 1.1.8 2.7.8 4.8v10.5c0 1.2.4 2.2 1 2.8.6.7 1.4 1 2.3 1 .9 0 1.7-.3 2.3-1 .6-.6.9-1.6.9-2.9V26.9c0-1.4-.1-2.5-.2-3.4-.1-.9-.4-1.7-.8-2.5-.7-1.3-1.6-2.3-3-3.1s-2.9-1.1-4.6-1.1c-1.8 0-3.3.4-4.7 1-1.3.7-2.6 1.8-3.7 3.2M14 2.2c-6.3 2.6-10.7 8.2-12.7 15C1 18.5.7 19.7.5 21c0 0-.1 1.3.1 1 .2-.3.3-.8.4-1.1 1-3.2 2.1-6 3.9-8.8 4.3-6.2 11.2-10.2 18.6-8 1.3.5 2.5 1.2 3.8 1.9.2.2 1.9 1.5 1.6.3-.3-.9-1.1-1.7-1.8-2.4C23.3.8 18.3.7 14 2.2M19.6 19c2.6-1.3 3.7-4.4 2.3-7-1.3-2.6-4.5-3.6-7.1-2.3-2.6 1.3-3.6 4.4-2.3 7 1.3 2.6 4.5 3.6 7.1 2.3'/%3E%3C/svg%3E\") no-repeat;\n",
      "background-size: 155px 43px;\n",
      "}\n",
      "\n",
      "#branding img { border: 0; }\n",
      "#jobsearch { margin: 0 }\n",
      ".inwrap { border-right: 1px solid #e8e8e8;border-bottom: 1px solid #e8e8e8;display:inline-block; }\n",
      ".inwrap input { box-sizing: border-box; margin:0; height: 30px; font-family:Arial,sans-serif;border:1px solid #ccc; border-bottom-color:#aaa;border-right-color:#aaa; -webkit-border-radius: 0; -webkit-appearance: none; }\n",
      ".inwrap .input_text { font-size:18px;padding:3px 6px;_margin: -1px 0; }\n",
      ".inwrap .input_submit {color:#614041;font-size:15px;height:30px;background: #e8e8e8; padding:3px 9px;cursor:pointer;_padding:3px;}\n",
      ".inwrap .input_submit:active { background: #ccc; }\n",
      ".lnav  {width:100%;line-height:1;;font-size:10pt;}\n",
      ".jsf .label {font-size:12px; line-height:1.2;padding-top:0;color:#aaa;font-weight:normal;white-space:nowrap;padding-right:1.5em}\n",
      ".jsf .label label {font-weight:normal}\n",
      ".jsf .sl { font-size: 11px; color: #77c; white-space: nowrap; }\n",
      ".npb { padding-bottom: 0; color: #f60; text-transform: lowercase;font-weight:bold; }\n",
      ".npl { padding-left: 0 }\n",
      "iframe { display:block; }\n",
      "\n",
      ".acd { border: 1px solid #333; background: #fff; position:absolute; width:100%; z-index: 1; }\n",
      ".aci { font-size: 18px; padding:1px 6px; cursor:pointer; }\n",
      ".acis { background:#36c; color:#fff; }\n",
      "\n",
      "#jobalerts .ws_label,\n",
      "#jobalerts .member { z-index: 1; }\n",
      "#acr td { padding-top:0; padding-bottom:0; }\n",
      "#acr td .h { display:none; }\n",
      "\n",
      "#what { width: 280px; }\n",
      "#where { width: 260px; }\n",
      ".inwrapBorder{border:1px solid #1c4ed9;border-top-color:#2f62f1;border-bottom-color:#133fbb;display:inline-block;width:auto}.inwrapBorderTop{border-top:1px solid #69F;display:inline-block;background-color:#3163f2;filter:progid:DXImageTransform.Microsoft.gradient(startColorstr='#3163F2',endColorstr='#2B57D5');background:-webkit-gradient(linear,left top,left bottom,from(#3163f2),to(#2b57d5));background:-moz-linear-gradient(top,#3163f2,#2b57d5);background:linear-gradient(top,#3163f2,#2b57d5)}.inwrapBorder .input_submit{background:transparent;border:0;color:#fff;font-family:Arial;font-size:15px;margin:0;padding:4px 9px;cursor:pointer;_padding:3px}.inwrapBorder a.input_submit{text-decoration:none;display:block}.inwrapBorder:hover{border-color:#235af6;border-top-color:#4072ff;border-bottom-color:#1e4fd9}.inwrapBorderTop:hover{border-top-color:#7ba7ff;background-color:#4273ff;filter:progid:DXImageTransform.Microsoft.gradient(startColorstr='#4273ff',endColorstr='#3364f1');background:-webkit-gradient(linear,left top,left bottom,from(#4273ff),to(#3364f1));background:-moz-linear-gradient(top,#4273ff,#3364f1);background:linear-gradient(top,#4273ff,#3364f1)}.inwrapBorder:active{border-color:#536db7;border-top-color:#4b69c1;border-bottom-color:#3753a6}.inwrapBorder:active .inwrapBorderTop{border-top-color:#6c82c1;background-color:#4b69c1;filter:progid:DXImageTransform.Microsoft.gradient(startColorstr='#4b69c1',endColorstr='#3753a6');background:-webkit-gradient(linear,left top,left bottom,from(#4b69c1),to(#3753a6));background:-moz-linear-gradient(top,#4b69c1,#3753a6);background:linear-gradient(top,#4b69c1,#3753a6)}.roundedCorner{display:inline-block;zoom:1;*display:inline;vertical-align:baseline;margin:0 2px;outline:0;cursor:pointer;text-align:center;text-decoration:none;font:15px/100% Arial,Helvetica,sans-serif;padding:.5em 2em .55em;text-shadow:0 1px 1px rgba(0,0,0,.3);-webkit-border-radius:.5em;-moz-border-radius:.5em;border-radius:.5em;-webkit-box-shadow:0 1px 2px rgba(0,0,0,.2);-moz-box-shadow:0 1px 2px rgba(0,0,0,.2);box-shadow:0 1px 2px rgba(0,0,0,.2)}.roundedCorner:hover{text-decoration:none}.roundedCorner:active{position:relative;top:1px}.bigrounded{-webkit-border-radius:2em;-moz-border-radius:2em;border-radius:2em}.medium{font-size:12px;padding:.4em 1.5em .42em}.small{font-size:11px;padding:.2em 1em .275em}.indeedblue{color:#d9eef7;border:solid 1px #1c4ed9;background:#3163f2;background:-webkit-gradient(linear,left top,left bottom,from(#2f62f1),to(#133fbb));background:-moz-linear-gradient(top,#2f62f1,#133fbb);filter:progid:DXImageTransform.Microsoft.gradient(startColorstr='#2F62F1',endColorstr='#133FBB')}.indeedblue:hover,.indeedblue:focus{background:#235af6;background:-webkit-gradient(linear,left top,left bottom,from(#4072ff),to(#1e4fd9));background:-moz-linear-gradient(top,#4072ff,#1e4fd9);filter:progid:DXImageTransform.Microsoft.gradient(startColorstr='#4072ff',endColorstr='#1e4fd9')}.indeedblue:active{color:#d9eef7;background:-webkit-gradient(linear,left top,left bottom,from(#4b69c1),to(#3753a6));background:-moz-linear-gradient(top,#4b69c1,#3753a6);filter:progid:DXImageTransform.Microsoft.gradient(startColorstr='#4b69c1',endColorstr='#3753a6')}</style>\n",
      "<span id=\"hidden_colon\" style=\"display:none\">:</span>\n",
      "<table border=\"0\" cellpadding=\"0\" cellspacing=\"0\" role=\"banner\"><tbody><tr><td width=\"1125\"><table cellpadding=\"0\" cellspacing=\"0\" class=\"lnav\">\n",
      "<tbody><tr>\n",
      "<td id=\"branding-td\" style=\"vertical-align:top;\"><a href=\"/\" id=\"branding\" onmousedown=\"ptk('logo');\"><img alt=\"one search. all jobs. Indeed\" class=\"indeedLogo\" src=\"data:image/gif;base64,R0lGODlhAQABAJEAAAAAAP///////wAAACH5BAEHAAIALAAAAAABAAEAAAICVAEAOw==\" style=\"margin-bottom:6px;display:block;\" title=\"one search. all jobs. Indeed\"/></a></td>\n",
      "<td style=\"padding-top:3px;\" valign=\"top\">\n",
      "<form action=\"/jobs\" class=\"jsf\" id=\"jobsearch\" method=\"get\" name=\"js\" onsubmit=\"formptk('topsearch','where_ac','',['where_ac','what_ac'], ptk);formptk('topsearch','what_ac','w',['where_ac','what_ac'], ptk);\">\n",
      "<table align=\"left\" cellpadding=\"3\" cellspacing=\"0\">\n",
      "<tbody><tr>\n",
      "<td class=\"npb\"><label for=\"what\" id=\"what_label_top\">What</label></td>\n",
      "<td class=\"npb\" colspan=\"3\"><label for=\"where\" id=\"where_label_top\">Where</label></td>\n",
      "</tr>\n",
      "<tr role=\"search\">\n",
      "<td class=\"npl epr\"><span class=\"inwrap\"><input aria-labelledby=\"what_label_top hidden_colon what_label\" class=\"input_text\" id=\"what\" maxlength=\"512\" name=\"q\" size=\"31\" value=\"data scientist\"/></span><div style=\"width:250px\"><!-- --></div></td>\n",
      "<td class=\"npl epr\"><span class=\"inwrap\"><input aria-labelledby=\"where_label_top hidden_colon where_label\" class=\"input_text\" id=\"where\" maxlength=\"45\" name=\"l\" size=\"27\" value=\"\"/></span><div style=\"width:200px\"><!-- --></div></td>\n",
      "<td class=\"npl\" style=\"width:1px\"><span class=\"inwrapBorder\" style=\"width:auto;padding-right:0;\"><span class=\"inwrapBorderTop\"><input class=\"input_submit\" id=\"fj\" type=\"submit\" value=\"Find Jobs\"/></span></span></td>\n",
      "<td class=\"npl advanced-search\" style=\"width:240px;\"><div style=\"margin-left:12px; display:flex;\"><a class=\"sl\" href=\"/advanced_search?q=data+scientist\">Advanced Job Search</a></div></td>\n",
      "</tr>\n",
      "<tr id=\"acr\">\n",
      "<td><span class=\"h\"> </span></td>\n",
      "<td class=\"npl\" colspan=\"2\"><div style=\"position:relative;z-index:2\"><div class=\"acd\" id=\"acdiv\" style=\"display:none;\"></div></div></td>\n",
      "<td><span class=\"h\"> </span></td>\n",
      "</tr>\n",
      "<tr id=\"acr\">\n",
      "<td class=\"npl\" colspan=\"3\"><div style=\"position:relative;z-index:2\"><div class=\"acd\" id=\"what_acdiv\" style=\"display:none;\"></div></div></td>\n",
      "<td><span class=\"h\"> </span></td>\n",
      "</tr>\n",
      "<tr valign=\"baseline\">\n",
      "<td class=\"label\" id=\"what_label_cell\">\n",
      "<label aria-hidden=\"true\" for=\"what\" id=\"what_label\">job title, keywords or company</label>\n",
      "</td>\n",
      "<td class=\"label\" colspan=\"3\" id=\"where_label_cell\">\n",
      "<label aria-hidden=\"true\" for=\"where\" id=\"where_label\">city, state, or zip</label>\n",
      "</td>\n",
      "</tr>\n",
      "</tbody></table>\n",
      "</form>\n",
      "</td>\n",
      "</tr>\n",
      "</tbody></table>\n",
      "</td></tr></tbody></table>\n",
      "\n",
      "<script type=\"text/javascript\">\n",
      "\n",
      "initAutocomplete('where_ac', gbid('where'), gbid('acdiv'), '/rpc/suggest?from=serp&tk=1bu6rar4q0k4o3iu', function() { formptk('topsearch','where_ac', '', ['where_ac','what_ac'], ptk); }, gbid('where'));\n",
      "\n",
      "initAutocomplete('what_ac', gbid('what'), gbid('what_acdiv'), '/rpc/suggest?what=true&tk=1bu6rar4q0k4o3iu', function () {formptk('topsearch', 'what_ac', 'w', ['where_ac','what_ac'], ptk);}, gbid('what'));\n",
      "</script>\n",
      "<script type=\"text/javascript\">\n",
      "function rclk(el,jobdata,oc,sal) { var ocstr = oc ? '&onclick=1' : ''; document.cookie='RCLK=\"jk='+jobdata.jk+'&tk=1bu6rar4q0k4o3iu&from=web&rd='+jobdata.rd+'&qd=7tdTJLF8oc4dPpT7T_zGvGA3XpPBAN42oEhBbwa0-XP0q_5iKGXhGepJfZBzu_OoodgFIRZ-sIFyyql3Nftj6QbCR2MnwC5IRlWuwcJVEccJj34NliZXZdbFwY5-EMVp&ts=1509910998170&sal='+sal+ocstr+'\"; path=/'; return true;}\n",
      "\n",
      "function vjrclk(jk, qd, rd, oc, vjk, vjtk) {\n",
      "var ocstr = oc ? '&onclick=1' : '';\n",
      "document.cookie = 'RCLK=\"jk=' + jk + '&vjtk=' + vjtk + '&rd=' + rd + '&qd=' + qd + '&ts=' + new Date().getTime() + ocstr + '\"; path=/';\n",
      "return true;\n",
      "}\n",
      "function zrprclk(el,jobdata,oc) { var ocstr = oc ? '&onclick=1' : ''; document.cookie='RCLK=\"jk='+jobdata.jk+'&tk=1bu6rar4q0k4o3iu&from=reconzrp&rd='+jobdata.rd+'&qd=7tdTJLF8oc4dPpT7T_zGvGA3XpPBAN42oEhBbwa0-XP0q_5iKGXhGepJfZBzu_OoodgFIRZ-sIFyyql3Nftj6QbCR2MnwC5IRlWuwcJVEccJj34NliZXZdbFwY5-EMVp&ts=1509910998170'+ocstr+'\"; path=/'; return true;}\n",
      "function prjbottomclk(el,jobdata,oc) { var ocstr = oc ? '&onclick=1' : ''; document.cookie='RCLK=\"jk='+jobdata.jk+'&tk=1bu6rar4q0k4o3iu&from=reconserp&rd='+jobdata.rd+'&qd=7tdTJLF8oc4dPpT7T_zGvGA3XpPBAN42oEhBbwa0-XP0q_5iKGXhGepJfZBzu_OoodgFIRZ-sIFyyql3Nftj6QbCR2MnwC5IRlWuwcJVEccJj34NliZXZdbFwY5-EMVp&ts=1509910998170'+ocstr+'\"; path=/'; return true;}\n",
      "\n",
      "\n",
      "var jobmap = {};\n",
      "\n",
      "jobmap[0]= {jk:'976f8a7281298612',efccid: '0e8f6471708e1c31',srcid:'1e1cb71586a975d6',cmpid:'3dbdf5d56a18edfe',num:'0',srcname:'Indeed',cmp:'Numerdox',cmpesc:'Numerdox',cmplnk:'/q-Numerdox-jobs.html',loc:'Work at Home',country:'US',zip:'',city:'Work at Home',title:'Data Science Trainee',locid:'4fd055e7a281deaa',rd:'2WKP5Dncumetl6uQHWBI3wfmkRX_hXv5vdGF0Dj9Cb8'};\n",
      "\n",
      "jobmap[1]= {jk:'646d06b64af288c3',efccid: '6e7b40121fbb5e2f',srcid:'d52c7a354b0111bb',cmpid:'c1099851e9794854',num:'1',srcname:'Apple',cmp:'Apple',cmpesc:'Apple',cmplnk:'/q-Apple-jobs.html',loc:'Santa Clara Valley, CA',country:'US',zip:'',city:'Santa Clara Valley',title:'Operations Research Data Scientist',locid:'5dda947cc2f297aa',rd:'KMmgpPP_N8Ma8_Z5coeA6vEjTYFBCydOHIJo0jSLt2uuIEyVEsFa1GnfHxCZMExg'};\n",
      "\n",
      "jobmap[2]= {jk:'f66c5be2eeade208',efccid: 'fc795989ca54f422',srcid:'efe5e2d22a1d29e5',cmpid:'de71a49b535e21cb',num:'2',srcname:'IBM',cmp:'IBM',cmpesc:'IBM',cmplnk:'/q-IBM-jobs.html',loc:'United States',country:'US',zip:'',city:'',title:'Entry Level Data Scientist',locid:'e3da0a390617907b',rd:'0nbXxlm8yujnNeH6qUX3_PEjTYFBCydOHIJo0jSLt2v45dE2Xc7f0LxoyV9j6I_6'};\n",
      "\n",
      "jobmap[3]= {jk:'e04a2cbd4f48d2fe',efccid: '75d20f654efb9834',srcid:'9013e8f74f3b97ea',cmpid:'cba01270e96bb012',num:'3',srcname:'Tiger Analytics',cmp:'Tiger Analytics',cmpesc:'Tiger Analytics',cmplnk:'/q-Tiger-Analytics-jobs.html',loc:'Santa Clara, CA',country:'US',zip:'',city:'Santa Clara',title:'Data Scientist (US)',locid:'762b6cb1bed18908',rd:'b51lnbclQQLZ1hYs6VDb6vEjTYFBCydOHIJo0jSLt2vhZQCZZPRCz0hxOGFCekI-'};\n",
      "\n",
      "jobmap[4]= {jk:'b1fec370ddb59a8b',efccid: 'f667c2492274f59a',srcid:'b1646e6093012952',cmpid:'ad49423ccbcc9b48',num:'4',srcname:'Crossover',cmp:'Crossover',cmpesc:'Crossover',cmplnk:'/q-Crossover-jobs.html',loc:'Remote',country:'US',zip:'',city:'Remote',title:'Data Scientist',locid:'aaa2b906602aa8f5',rd:'UoSLGNYeoaCEbrc4zUQx7_EjTYFBCydOHIJo0jSLt2u4LVgvpGJEGr2CUtnE4q8D'};\n",
      "\n",
      "jobmap[5]= {jk:'ea7de274698e2a3a',efccid: '4a5cb69c1158737c',srcid:'752e0790c73bbf4a',cmpid:'6bb4fc4a8a4cb4d9',num:'5',srcname:'The Coca-Cola Company',cmp:'The Coca-Cola Company',cmpesc:'The Coca-Cola Company',cmplnk:'/jobs?q=The+Coca-Cola+Company',loc:'Atlanta, GA 30301',country:'US',zip:'30301',city:'Atlanta',title:'Data Scientist',locid:'966e6327a98f7e81',rd:'ypQSWt1Kpk7SEQoWpXENyvEjTYFBCydOHIJo0jSLt2tC0Xa0m5LB2W65CWONpXaZ'};\n",
      "\n",
      "jobmap[6]= {jk:'02ecc871f377f959',efccid: '6a4f92264916b111',srcid:'f813117a1e1a48f8',cmpid:'11ba90543b779766',num:'6',srcname:'JPMorgan Chase',cmp:'JP Morgan Chase',cmpesc:'JP Morgan Chase',cmplnk:'/q-JP-Morgan-Chase-jobs.html',loc:'Columbus, OH 43240',country:'US',zip:'43240',city:'Columbus',title:'Data Scientist',locid:'8ddf8cac9ee9aa9d',rd:'A1kmjcdO9UbIpSbViw6K6vEjTYFBCydOHIJo0jSLt2tC0Xa0m5LB2W65CWONpXaZ'};\n",
      "\n",
      "jobmap[7]= {jk:'7bab775ed55be722',efccid: 'aacc7ab7e77fae54',srcid:'4fe346d4b740ed05',cmpid:'5bd99dfa21c8a490',num:'7',srcname:'Bank of America',cmp:'Bank of America',cmpesc:'Bank of America',cmplnk:'/q-Bank-of-America-jobs.html',loc:'Charlotte, NC 28255',country:'US',zip:'28255',city:'Charlotte',title:'Data Scientist',locid:'578fa8376f4eec04',rd:'gIBhyxjX88CBheNzlvzgWPEjTYFBCydOHIJo0jSLt2tC0Xa0m5LB2W65CWONpXaZ'};\n",
      "\n",
      "jobmap[8]= {jk:'75ce0371d05696de',efccid: '7742c109cbf2990f',srcid:'b015d12f075f7dcd',cmpid:'1dec991c3c01c67d',num:'8',srcname:'Tumblr',cmp:'Tumblr',cmpesc:'Tumblr',cmplnk:'/q-Tumblr-jobs.html',loc:'New York, NY',country:'US',zip:'',city:'New York',title:'Data Scientist',locid:'45f6c4ded55c00bf',rd:'4END045ptKKmHngt72SuiPEjTYFBCydOHIJo0jSLt2v45dE2Xc7f0LxoyV9j6I_6'};\n",
      "\n",
      "jobmap[9]= {jk:'eda999e73ffa9bf2',efccid: 'c9c008dec2a73be9',srcid:'9c30036b89c8a0b1',cmpid:'0c39fb2c91742dcf',num:'9',srcname:'Morgan Stanley',cmp:'Morgan Stanley',cmpesc:'Morgan Stanley',cmplnk:'/q-Morgan-Stanley-jobs.html',loc:'New York, NY 10032',country:'US',zip:'',city:'New York',title:'Associate, Data Scientist',locid:'45f6c4ded55c00bf',rd:'HgqJEbKk5cQW1h3qe3-fi_EjTYFBCydOHIJo0jSLt2tC0Xa0m5LB2W65CWONpXaZ'};\n",
      "</script>\n",
      "\n",
      "<style type=\"text/css\">\n",
      ".jobtitle {\n",
      "font-weight: bold;\n",
      "}\n",
      "td.snip b, span.company b, #femp_list .jobtitle, #cmpinfo_list .jobtitle, .jobtitle .new {\n",
      "font-weight: normal;\n",
      "}\n",
      "div.result-link-bar b {\n",
      "font-weight: bold;\n",
      "}\n",
      "</style>\n",
      "<style type=\"text/css\">\n",
      "div.row table tr td.snip { line-height: 1.4; }\n",
      "</style>\n",
      "\n",
      "<table border=\"0\" cellpadding=\"0\" cellspacing=\"0\" id=\"resultsBody\" role=\"main\"><tbody><tr><td>\n",
      "<script type=\"text/javascript\">\n",
      "    window['ree'] = \"pdsssps\";\n",
      "    window['jas'] = \"LwtrrlWC72S\";\n",
      "</script>\n",
      "\n",
      "<style type=\"text/css\">\n",
      "    .basePromo{margin-top:8px;margin-bottom:13px;padding-left:12px;padding-right:12px}.redText{color:red}.bold{font-weight:bold}.basePromo.resume{font-size:14px;margin-top:5px}.basePromo.resume>img{height:20px;margin-right:5px;margin-bottom:3px;width:16px}</style>\n",
      "\n",
      "<table border=\"0\" cellpadding=\"0\" cellspacing=\"0\" id=\"pageContent\" width=\"100%\">\n",
      "  <tbody><tr valign=\"top\">\n",
      "\n",
      "<td data-tn-section=\"refineBy\" id=\"refineresultscol\">\n",
      "        <div id=\"refineresults\">\n",
      "\n",
      "<h1><font size=\"+1\">data scientist jobs</font></h1>\n",
      "\n",
      "<span aria-level=\"2\" role=\"heading\" style=\"height: 0; overflow: hidden; position: absolute;\">Filter results by:</span>\n",
      "<div style=\"margin-left: 6px; margin-bottom: 1em;\">Sort by: <span class=\"no-wrap\"><b>relevance</b> -\n",
      "<a href=\"/jobs?q=data+scientist&amp;sort=date\" rel=\"nofollow\">date</a></span></div>\n",
      "<div class=\"rbSection rbOpen\" id=\"rb_Salary Estimate\">\n",
      "<div class=\"rbHeader\">\n",
      "<span aria-level=\"3\" class=\"ws_bold\" role=\"heading\">\n",
      "Salary Estimate</span>\n",
      "</div>\n",
      "<div class=\"rbsrbo\" id=\"SALARY_rbo\">\n",
      "<ul class=\"rbList\">\n",
      "<li onmousedown=\"rbptk('rb', 'salest', '1');\">\n",
      "<a href=\"/q-data-scientist-$50,000-jobs.html\" rel=\"nofollow\" title=\"$50,000 (19510)\">$50,000</a> (19510)</li>\n",
      "<li onmousedown=\"rbptk('rb', 'salest', '2');\">\n",
      "<a href=\"/q-data-scientist-$70,000-jobs.html\" rel=\"nofollow\" title=\"$70,000 (14962)\">$70,000</a> (14962)</li>\n",
      "<li onmousedown=\"rbptk('rb', 'salest', '3');\">\n",
      "<a href=\"/q-data-scientist-$80,000-jobs.html\" rel=\"nofollow\" title=\"$80,000 (12294)\">$80,000</a> (12294)</li>\n",
      "<li onmousedown=\"rbptk('rb', 'salest', '4');\">\n",
      "<a href=\"/q-data-scientist-$100,000-jobs.html\" rel=\"nofollow\" title=\"$100,000 (7614)\">$100,000</a> (7614)</li>\n",
      "<li onmousedown=\"rbptk('rb', 'salest', '5');\">\n",
      "<a href=\"/q-data-scientist-$115,000-jobs.html\" rel=\"nofollow\" title=\"$115,000 (4191)\">$115,000</a> (4191)</li>\n",
      "</ul>\n",
      "</div>\n",
      "</div>\n",
      "<div class=\"rbSection rbOpen\" id=\"rb_Job Type\">\n",
      "<div class=\"rbHeader\">\n",
      "<span aria-level=\"3\" class=\"ws_bold\" role=\"heading\">\n",
      "Job Type</span>\n",
      "</div>\n",
      "<div class=\"rbsrbo\" id=\"JOB_TYPE_rbo\">\n",
      "<ul class=\"rbList\">\n",
      "<li onmousedown=\"rbptk('rb', 'jobtype', '1');\">\n",
      "<a href=\"/jobs?q=data+scientist&amp;jt=fulltime\" rel=\"nofollow\" title=\"Full-time (21860)\">Full-time</a> (21860)</li>\n",
      "<li onmousedown=\"rbptk('rb', 'jobtype', '2');\">\n",
      "<a href=\"/jobs?q=data+scientist&amp;jt=contract\" rel=\"nofollow\" title=\"Contract (1204)\">Contract</a> (1204)</li>\n",
      "<li onmousedown=\"rbptk('rb', 'jobtype', '3');\">\n",
      "<a href=\"/jobs?q=data+scientist&amp;jt=parttime\" rel=\"nofollow\" title=\"Part-time (726)\">Part-time</a> (726)</li>\n",
      "<li onmousedown=\"rbptk('rb', 'jobtype', '4');\">\n",
      "<a href=\"/jobs?q=data+scientist&amp;jt=internship\" rel=\"nofollow\" title=\"Internship (634)\">Internship</a> (634)</li>\n",
      "<li onmousedown=\"rbptk('rb', 'jobtype', '5');\">\n",
      "<a href=\"/jobs?q=data+scientist&amp;jt=temporary\" rel=\"nofollow\" title=\"Temporary (530)\">Temporary</a> (530)</li>\n",
      "<li onmousedown=\"rbptk('rb', 'jobtype', '6');\">\n",
      "<a href=\"/jobs?q=data+scientist&amp;jt=commission\" rel=\"nofollow\" title=\"Commission (46)\">Commission</a> (46)</li>\n",
      "</ul>\n",
      "</div>\n",
      "</div>\n",
      "<div class=\"rbSection rbOpen\" id=\"rb_Location\">\n",
      "<div class=\"rbHeader\">\n",
      "<span aria-level=\"3\" class=\"ws_bold\" role=\"heading\">\n",
      "Location</span>\n",
      "</div>\n",
      "<div class=\"rbsrbo\" id=\"LOCATION_rbo\">\n",
      "<ul class=\"rbList\">\n",
      "<li onmousedown=\"rbptk('rb', 'loc', '1');\">\n",
      "<a href=\"/jobs?q=data+scientist&amp;rbl=New+York,+NY&amp;jlid=45f6c4ded55c00bf\" rel=\"nofollow\" title=\"New York, NY (2052)\">New York, NY</a> (2052)</li>\n",
      "<li onmousedown=\"rbptk('rb', 'loc', '2');\">\n",
      "<a href=\"/jobs?q=data+scientist&amp;rbl=San+Francisco,+CA&amp;jlid=6cf5e6d389fd6d6b\" rel=\"nofollow\" title=\"San Francisco, CA (858)\">San Francisco, CA</a> (858)</li>\n",
      "<li onmousedown=\"rbptk('rb', 'loc', '3');\">\n",
      "<a href=\"/jobs?q=data+scientist&amp;rbl=Seattle,+WA&amp;jlid=1e8a7dce52945215\" rel=\"nofollow\" title=\"Seattle, WA (782)\">Seattle, WA</a> (782)</li>\n",
      "<li onmousedown=\"rbptk('rb', 'loc', '4');\">\n",
      "<a href=\"/jobs?q=data+scientist&amp;rbl=Cambridge,+MA&amp;jlid=28b85bba6e466386\" rel=\"nofollow\" title=\"Cambridge, MA (719)\">Cambridge, MA</a> (719)</li>\n",
      "<li onmousedown=\"rbptk('rb', 'loc', '5');\">\n",
      "<a href=\"/jobs?q=data+scientist&amp;rbl=Boston,+MA&amp;jlid=e167aeb8a259bcac\" rel=\"nofollow\" title=\"Boston, MA (514)\">Boston, MA</a> (514)</li>\n",
      "<li class=\"moreLi\" onmousedown=\"rbptk('rb', 'loc', '6');\">\n",
      "<a href=\"/jobs?q=data+scientist&amp;rbl=Chicago,+IL&amp;jlid=402d6ad50e16c894\" rel=\"nofollow\" title=\"Chicago, IL (492)\">Chicago, IL</a> (492)</li>\n",
      "<li class=\"moreLi\" onmousedown=\"rbptk('rb', 'loc', '7');\">\n",
      "<a href=\"/jobs?q=data+scientist&amp;rbl=Washington,+DC&amp;jlid=c08ec92d8c031faa\" rel=\"nofollow\" title=\"Washington, DC (375)\">Washington, DC</a> (375)</li>\n",
      "<li class=\"moreLi\" onmousedown=\"rbptk('rb', 'loc', '8');\">\n",
      "<a href=\"/jobs?q=data+scientist&amp;rbl=San+Diego,+CA&amp;jlid=15daff915f69f903\" rel=\"nofollow\" title=\"San Diego, CA (364)\">San Diego, CA</a> (364)</li>\n",
      "<li class=\"moreLi\" onmousedown=\"rbptk('rb', 'loc', '9');\">\n",
      "<a href=\"/jobs?q=data+scientist&amp;rbl=Los+Angeles,+CA&amp;jlid=d05a4fe50c5af0a8\" rel=\"nofollow\" title=\"Los Angeles, CA (267)\">Los Angeles, CA</a> (267)</li>\n",
      "<li class=\"moreLi\" onmousedown=\"rbptk('rb', 'loc', '10');\">\n",
      "<a href=\"/jobs?q=data+scientist&amp;rbl=Atlanta,+GA&amp;jlid=966e6327a98f7e81\" rel=\"nofollow\" title=\"Atlanta, GA (254)\">Atlanta, GA</a> (254)</li>\n",
      "<li class=\"moreLi\" onmousedown=\"rbptk('rb', 'loc', '11');\">\n",
      "<a href=\"/jobs?q=data+scientist&amp;rbl=Sunnyvale,+CA&amp;jlid=62f8f620fe0679b7\" rel=\"nofollow\" title=\"Sunnyvale, CA (246)\">Sunnyvale, CA</a> (246)</li>\n",
      "<li class=\"moreLi\" onmousedown=\"rbptk('rb', 'loc', '12');\">\n",
      "<a href=\"/jobs?q=data+scientist&amp;rbl=San+Jose,+CA&amp;jlid=4a7e972a82badd7a\" rel=\"nofollow\" title=\"San Jose, CA (245)\">San Jose, CA</a> (245)</li>\n",
      "<li class=\"moreLi\" onmousedown=\"rbptk('rb', 'loc', '13');\">\n",
      "<a href=\"/jobs?q=data+scientist&amp;rbl=Palo+Alto,+CA&amp;jlid=417f86aed2946c16\" rel=\"nofollow\" title=\"Palo Alto, CA (244)\">Palo Alto, CA</a> (244)</li>\n",
      "<li class=\"moreLi\" onmousedown=\"rbptk('rb', 'loc', '14');\">\n",
      "<a href=\"/jobs?q=data+scientist&amp;rbl=Mountain+View,+CA&amp;jlid=b0a70c53f51e95a6\" rel=\"nofollow\" title=\"Mountain View, CA (228)\">Mountain View, CA</a> (228)</li>\n",
      "</ul>\n",
      "<div class=\"more_link\"><span onclick=\"showAllRefinements('rb_Location'); return false;\" onkeyup=\"if (event.keyCode == 13) showAllRefinements('rb_Location'); return false;\" tabindex=\"0\">more »</span></div></div>\n",
      "</div>\n",
      "<div class=\"rbSection rbOpen\" id=\"rb_Company\">\n",
      "<div class=\"rbHeader\">\n",
      "<span aria-level=\"3\" class=\"ws_bold\" role=\"heading\">\n",
      "Company</span>\n",
      "</div>\n",
      "<div class=\"rbsrbo\" id=\"COMPANY_rbo\">\n",
      "<ul class=\"rbList\">\n",
      "<li onmousedown=\"rbptk('rb', 'cmp', '1');\">\n",
      "<a href=\"/jobs?q=data+scientist&amp;rbc=Amazon+Corporate+LLC&amp;jcid=db9f9b9d28743c59\" rel=\"nofollow\" title=\"Amazon Corporate LLC (365)\">Amazon Corporate LLC</a> (365)</li>\n",
      "<li onmousedown=\"rbptk('rb', 'cmp', '2');\">\n",
      "<a href=\"/jobs?q=data+scientist&amp;rbc=NYU+Langone+Health&amp;jcid=00a4dc973a1d04f5\" rel=\"nofollow\" title=\"NYU Langone Health (344)\">NYU Langone Health</a> (344)</li>\n",
      "<li onmousedown=\"rbptk('rb', 'cmp', '3');\">\n",
      "<a href=\"/jobs?q=data+scientist&amp;rbc=Ball+Aerospace&amp;jcid=82c5e27e77990fa2\" rel=\"nofollow\" title=\"Ball Aerospace (322)\">Ball Aerospace</a> (322)</li>\n",
      "<li onmousedown=\"rbptk('rb', 'cmp', '4');\">\n",
      "<a href=\"/jobs?q=data+scientist&amp;rbc=Walmart+eCommerce&amp;jcid=8c49e99f20f89e48\" rel=\"nofollow\" title=\"Walmart eCommerce (311)\">Walmart eCommerce</a> (311)</li>\n",
      "<li onmousedown=\"rbptk('rb', 'cmp', '5');\">\n",
      "<a href=\"/jobs?q=data+scientist&amp;rbc=Presbyterian+Healthcare+Services&amp;jcid=2faa77e8dc712650\" rel=\"nofollow\" title=\"Presbyterian Healthcare Services (243)\">Presbyterian Healthcare Services</a> (243)</li>\n",
      "<li class=\"moreLi\" onmousedown=\"rbptk('rb', 'cmp', '6');\">\n",
      "<a href=\"/jobs?q=data+scientist&amp;rbc=Pfizer+Inc.&amp;jcid=5e118f74384e090a\" rel=\"nofollow\" title=\"Pfizer Inc. (236)\">Pfizer Inc.</a> (236)</li>\n",
      "<li class=\"moreLi\" onmousedown=\"rbptk('rb', 'cmp', '7');\">\n",
      "<a href=\"/jobs?q=data+scientist&amp;rbc=BOEING&amp;jcid=edae4285faf6c2f0\" rel=\"nofollow\" title=\"BOEING (204)\">BOEING</a> (204)</li>\n",
      "<li class=\"moreLi\" onmousedown=\"rbptk('rb', 'cmp', '8');\">\n",
      "<a href=\"/jobs?q=data+scientist&amp;rbc=Microsoft&amp;jcid=734cb5a01ee60f80\" rel=\"nofollow\" title=\"Microsoft (179)\">Microsoft</a> (179)</li>\n",
      "<li class=\"moreLi\" onmousedown=\"rbptk('rb', 'cmp', '9');\">\n",
      "<a href=\"/jobs?q=data+scientist&amp;rbc=University+of+Washington+Medical+Center&amp;jcid=4da4b12db8062858\" rel=\"nofollow\" title=\"University of Washington Medical Center (174)\">University of Washington Medical Center</a> (174)</li>\n",
      "<li class=\"moreLi\" onmousedown=\"rbptk('rb', 'cmp', '10');\">\n",
      "<a href=\"/jobs?q=data+scientist&amp;rbc=Booz+Allen+Hamilton&amp;jcid=4e041af1d0af1bc8\" rel=\"nofollow\" title=\"Booz Allen Hamilton (168)\">Booz Allen Hamilton</a> (168)</li>\n",
      "<li class=\"moreLi\" onmousedown=\"rbptk('rb', 'cmp', '11');\">\n",
      "<a href=\"/jobs?q=data+scientist&amp;rbc=IBM&amp;jcid=de71a49b535e21cb\" rel=\"nofollow\" title=\"IBM (133)\">IBM</a> (133)</li>\n",
      "<li class=\"moreLi\" onmousedown=\"rbptk('rb', 'cmp', '12');\">\n",
      "<a href=\"/jobs?q=data+scientist&amp;rbc=Google&amp;jcid=a5b4499d9e91a5c6\" rel=\"nofollow\" title=\"Google (127)\">Google</a> (127)</li>\n",
      "<li class=\"moreLi\" onmousedown=\"rbptk('rb', 'cmp', '13');\">\n",
      "<a href=\"/jobs?q=data+scientist&amp;rbc=Apple&amp;jcid=c1099851e9794854\" rel=\"nofollow\" title=\"Apple (126)\">Apple</a> (126)</li>\n",
      "<li class=\"moreLi\" onmousedown=\"rbptk('rb', 'cmp', '14');\">\n",
      "<a href=\"/jobs?q=data+scientist&amp;rbc=McKinsey+%26+Company&amp;jcid=6576e7250aa78c3c\" rel=\"nofollow\" title=\"McKinsey &amp; Company (117)\">McKinsey &amp; Company</a> (117)</li>\n",
      "<li class=\"moreLi\" onmousedown=\"rbptk('rb', 'cmp', '15');\">\n",
      "<a href=\"/jobs?q=data+scientist&amp;rbc=Moffitt+Cancer+Center&amp;jcid=28ce112590363228\" rel=\"nofollow\" title=\"Moffitt Cancer Center (111)\">Moffitt Cancer Center</a> (111)</li>\n",
      "</ul>\n",
      "<div class=\"more_link\"><span onclick=\"showAllRefinements('rb_Company'); return false;\" onkeyup=\"if (event.keyCode == 13) showAllRefinements('rb_Company'); return false;\" tabindex=\"0\">more »</span></div></div>\n",
      "</div>\n",
      "<div class=\"rbSection rbOpen\" id=\"rb_Experience Level\">\n",
      "<div class=\"rbHeader\">\n",
      "<span aria-level=\"3\" class=\"ws_bold\" role=\"heading\">\n",
      "Experience Level</span>\n",
      "</div>\n",
      "<div class=\"rbsrbo\" id=\"EXP_LVL_rbo\">\n",
      "<ul class=\"rbList\">\n",
      "<li onmousedown=\"rbptk('rb', 'explvl', '1');\">\n",
      "<a href=\"/jobs?q=data+scientist&amp;explvl=mid_level\" rel=\"nofollow\" title=\"Mid Level (9707)\">Mid Level</a> (9707)</li>\n",
      "<li onmousedown=\"rbptk('rb', 'explvl', '2');\">\n",
      "<a href=\"/jobs?q=data+scientist&amp;explvl=entry_level\" rel=\"nofollow\" title=\"Entry Level (6457)\">Entry Level</a> (6457)</li>\n",
      "<li onmousedown=\"rbptk('rb', 'explvl', '3');\">\n",
      "<a href=\"/jobs?q=data+scientist&amp;explvl=senior_level\" rel=\"nofollow\" title=\"Senior Level (3415)\">Senior Level</a> (3415)</li>\n",
      "</ul>\n",
      "</div>\n",
      "</div>\n",
      "</div>\n",
      "</td>\n",
      "<td id=\"resultsCol\">\n",
      "        <div class=\"messageContainer\">\n",
      "\n",
      "<script type=\"text/javascript\">\n",
      "    function setRefineByCookie(refineByTypes) {\n",
      "        var expires = new Date();\n",
      "        expires.setTime(expires.getTime() + (10 * 1000));\n",
      "        for (var i = 0; i < refineByTypes.length; i++) {\n",
      "            setCookie(refineByTypes[i], \"1\", expires);\n",
      "        }\n",
      "    }\n",
      "</script>\n",
      "\n",
      "<p class=\"message\">Tip: Enter your zip code in the \"where\" box to show results in your area.</p>\n",
      "</div>\n",
      "\n",
      "<style type=\"text/css\">\n",
      "    #increased_radius_result {\n",
      "        font-size: 16px;\n",
      "        font-style: italic;\n",
      "    }\n",
      "    #original_radius_result{\n",
      "        font-size: 13px;\n",
      "        font-style: italic;\n",
      "        color: #666666;\n",
      "    }\n",
      "</style>\n",
      "<div class=\"resultsTop\"><div id=\"searchCount\">\n",
      "        Jobs 1 to 10 of 23,612</div>\n",
      "<div data-tn-section=\"primePromo\" id=\"primePromo\">\n",
      "            <span class=\"new\">New!</span> <a href=\"/promo/prime\" onclick=\"this.href = appendParamsOnce( this.href, '?from=serptop&amp;subfrom=primeprmtop&amp;trk.origin=jobsearch&amp;trk.variant=primeprmtop&amp;trk.tk=1bu6rar4q0k4o3iu&amp;vertical=TECH&amp;x_isid=serptop&amp;x_ikw=data+scientist&amp;x_sid=serptop&amp;x_kw=data+scientist')\">Join Indeed Prime</a> - Get offers from great tech companies</div></div>\n",
      "\n",
      "<a id=\"jobPostingsAnchor\" tabindex=\"-1\"></a>\n",
      "\n",
      "<div class=\" row result\" data-jk=\"976f8a7281298612\" data-tn-component=\"organicJob\" id=\"p_976f8a7281298612\">\n",
      "<h2 class=\"jobtitle\" id=\"jl_976f8a7281298612\">\n",
      "<a class=\"turnstileLink\" data-tn-element=\"jobTitle\" href=\"/company/Numerdox/jobs/Data-Science-Trainee-976f8a7281298612?fccid=80a9b1572566bb76\" onclick=\"setRefineByCookie([]); return rclk(this,jobmap[0],true,0);\" onmousedown=\"return rclk(this,jobmap[0],0);\" rel=\"noopener nofollow\" target=\"_blank\" title=\"Data Science Trainee\"><b>Data</b> Science Trainee</a>\n",
      "</h2>\n",
      "<span class=\"company\">\n",
      "Numerdox</span>\n",
      "\n",
      " - <span class=\"location\">Work at Home</span>\n",
      "<table border=\"0\" cellpadding=\"0\" cellspacing=\"0\">\n",
      "<tbody><tr>\n",
      "<td class=\"snip\">\n",
      "<div class=\"\">\n",
      "<span class=\"summary\">\n",
      "Linear &amp; non-linear regression, Intro to machine learning, Classification, Unsupervised learning, Clustering, Recommendation systems, Statistical Modeling, <b>Data</b>...</span>\n",
      "</div>\n",
      "\n",
      "\n",
      "<div class=\"iaP\">\n",
      "<span class=\"iaLabel\"> Easily apply</span>\n",
      "</div>\n",
      "<div class=\"result-link-bar-container\">\n",
      "<div class=\"result-link-bar\"><span class=\"date\">4 days ago</span> <span class=\"tt_set\" id=\"tt_set_0\">  -  <a class=\"sl resultLink save-job-link \" href=\"#\" id=\"sj_976f8a7281298612\" onclick=\"changeJobState('976f8a7281298612', 'save', 'linkbar', false, ''); return false;\" title=\"Save this job to my.indeed\">save job</a> - <a class=\"sl resultLink more-link \" href=\"#\" id=\"tog_0\" onclick=\"toggleMoreLinks('976f8a7281298612'); return false;\">more...</a></span><div class=\"edit_note_content\" id=\"editsaved2_976f8a7281298612\" style=\"display:none;\"></div><script>if (!window['result_976f8a7281298612']) {window['result_976f8a7281298612'] = {};}window['result_976f8a7281298612']['showSource'] = false; window['result_976f8a7281298612']['source'] = \"Indeed\"; window['result_976f8a7281298612']['loggedIn'] = false; window['result_976f8a7281298612']['showMyJobsLinks'] = false;window['result_976f8a7281298612']['undoAction'] = \"unsave\";window['result_976f8a7281298612']['relativeJobAge'] = \"4 days ago\";window['result_976f8a7281298612']['jobKey'] = \"976f8a7281298612\"; window['result_976f8a7281298612']['myIndeedAvailable'] = true; window['result_976f8a7281298612']['showMoreActionsLink'] = true; window['result_976f8a7281298612']['resultNumber'] = 0; window['result_976f8a7281298612']['jobStateChangedToSaved'] = false; window['result_976f8a7281298612']['searchState'] = \"q=data scientist&amp;\"; window['result_976f8a7281298612']['basicPermaLink'] = \"https://www.indeed.com\"; window['result_976f8a7281298612']['saveJobFailed'] = false; window['result_976f8a7281298612']['removeJobFailed'] = false; window['result_976f8a7281298612']['requestPending'] = false; window['result_976f8a7281298612']['notesEnabled'] = true; window['result_976f8a7281298612']['currentPage'] = \"serp\"; window['result_976f8a7281298612']['sponsored'] = false;window['result_976f8a7281298612']['reportJobButtonEnabled'] = false; window['result_976f8a7281298612']['showMyJobsHired'] = false; window['result_976f8a7281298612']['showSaveForSponsored'] = false; window['result_976f8a7281298612']['showJobAge'] = true;</script></div></div>\n",
      "\n",
      "<div class=\"tab-container\">\n",
      "<div class=\"more-links-container result-tab\" id=\"tt_display_0\" style=\"display:none;\"><a class=\"close-link closeLink\" href=\"#\" onclick=\"toggleMoreLinks('976f8a7281298612'); return false;\" title=\"Close\"></a><div class=\"more_actions\" id=\"more_0\"><ul><li><span class=\"mat\">View all <a href=\"/q-Numerdox-l-Work-at-Home-jobs.html\" rel=\"nofollow\">Numerdox jobs in Work at Home</a> - <a href=\"/l-Work-at-Home-jobs.html\">Work at Home jobs</a></span></li><li><span class=\"mat\">Salary Search: <a href=\"/salaries/Data-Scientist-Salaries,-US\" onmousedown=\"this.href = appendParamsOnce(this.href, '?campaignid=serp-more&amp;fromjk=976f8a7281298612&amp;from=serp-more');\">Data Scientist salaries in Work at Home</a></span></li><li><span class=\"mat\">Related forums: <a href=\"/forum/cmp/Numerdox.html\">Numerdox</a></span></li></ul></div></div><div class=\"dya-container result-tab\"></div>\n",
      "<div class=\"tellafriend-container result-tab email_job_content\"></div>\n",
      "<div class=\"sign-in-container result-tab\"></div>\n",
      "<div class=\"notes-container result-tab\"></div>\n",
      "</div>\n",
      "\n",
      "</td>\n",
      "</tr>\n",
      "</tbody></table>\n",
      "</div>\n",
      "\n",
      "<div class=\" row result\" data-jk=\"646d06b64af288c3\" data-tn-component=\"organicJob\" id=\"p_646d06b64af288c3\">\n",
      "<h2 class=\"jobtitle\" id=\"jl_646d06b64af288c3\">\n",
      "<a class=\"turnstileLink\" data-tn-element=\"jobTitle\" href=\"/rc/clk?jk=646d06b64af288c3&amp;fccid=c1099851e9794854\" onclick=\"setRefineByCookie([]); return rclk(this,jobmap[1],true,0);\" onmousedown=\"return rclk(this,jobmap[1],0);\" rel=\"noopener nofollow\" target=\"_blank\" title=\"Operations Research Data Scientist\">Operations Research <b>Data</b> <b>Scientist</b></a>\n",
      "</h2>\n",
      "<span class=\"company\">\n",
      "<a href=\"/cmp/Apple\" onmousedown=\"this.href = appendParamsOnce(this.href, 'from=SERP&amp;campaignid=serp-linkcompanyname&amp;fromjk=646d06b64af288c3&amp;jcid=c1099851e9794854')\" rel=\"noopener\" target=\"_blank\">\n",
      "Apple</a></span>\n",
      "\n",
      " - <a class=\"turnstileLink slNoUnderline \" data-tn-element=\"reviewStars\" data-tn-variant=\"cmplinktst2\" href=\"/cmp/Apple/reviews\" onmousedown=\"this.href = appendParamsOnce(this.href, '?campaignid=cmplinktst2&amp;from=SERP&amp;jt=Operations+Research+Data+Scientist&amp;fromjk=646d06b64af288c3&amp;jcid=c1099851e9794854');\" rel=\"noopener\" target=\"_blank\" title=\"Apple reviews\">\n",
      "<span class=\"ratings\"><span class=\"rating\" style=\"width:52.2px\"><!-- --></span></span>\n",
      "<span class=\"slNoUnderline\">4,262 reviews</span></a>\n",
      " - <span class=\"location\">Santa Clara Valley, CA</span>\n",
      "<table border=\"0\" cellpadding=\"0\" cellspacing=\"0\">\n",
      "<tbody><tr>\n",
      "<td class=\"snip\">\n",
      "<div class=\"\">\n",
      "<span class=\"summary\">\n",
      "SQL, Apache Spark etc.), large datasets (Hadoop) and <b>data</b> mining. The Worldwide Sales and Operations Advanced Analytics team is looking for a top research...</span>\n",
      "</div>\n",
      "\n",
      "\n",
      "<div class=\"result-link-bar-container\">\n",
      "<div class=\"result-link-bar\"><span class=\"date\">5 days ago</span> <span class=\"tt_set\" id=\"tt_set_1\">  -  <a class=\"sl resultLink save-job-link \" href=\"#\" id=\"sj_646d06b64af288c3\" onclick=\"changeJobState('646d06b64af288c3', 'save', 'linkbar', false, ''); return false;\" title=\"Save this job to my.indeed\">save job</a> - <a class=\"sl resultLink more-link \" href=\"#\" id=\"tog_1\" onclick=\"toggleMoreLinks('646d06b64af288c3'); return false;\">more...</a></span><div class=\"edit_note_content\" id=\"editsaved2_646d06b64af288c3\" style=\"display:none;\"></div><script>if (!window['result_646d06b64af288c3']) {window['result_646d06b64af288c3'] = {};}window['result_646d06b64af288c3']['showSource'] = false; window['result_646d06b64af288c3']['source'] = \"Apple\"; window['result_646d06b64af288c3']['loggedIn'] = false; window['result_646d06b64af288c3']['showMyJobsLinks'] = false;window['result_646d06b64af288c3']['undoAction'] = \"unsave\";window['result_646d06b64af288c3']['relativeJobAge'] = \"5 days ago\";window['result_646d06b64af288c3']['jobKey'] = \"646d06b64af288c3\"; window['result_646d06b64af288c3']['myIndeedAvailable'] = true; window['result_646d06b64af288c3']['showMoreActionsLink'] = true; window['result_646d06b64af288c3']['resultNumber'] = 1; window['result_646d06b64af288c3']['jobStateChangedToSaved'] = false; window['result_646d06b64af288c3']['searchState'] = \"q=data scientist&amp;\"; window['result_646d06b64af288c3']['basicPermaLink'] = \"https://www.indeed.com\"; window['result_646d06b64af288c3']['saveJobFailed'] = false; window['result_646d06b64af288c3']['removeJobFailed'] = false; window['result_646d06b64af288c3']['requestPending'] = false; window['result_646d06b64af288c3']['notesEnabled'] = true; window['result_646d06b64af288c3']['currentPage'] = \"serp\"; window['result_646d06b64af288c3']['sponsored'] = false;window['result_646d06b64af288c3']['reportJobButtonEnabled'] = false; window['result_646d06b64af288c3']['showMyJobsHired'] = false; window['result_646d06b64af288c3']['showSaveForSponsored'] = false; window['result_646d06b64af288c3']['showJobAge'] = true;</script></div></div>\n",
      "\n",
      "<div class=\"tab-container\">\n",
      "<div class=\"more-links-container result-tab\" id=\"tt_display_1\" style=\"display:none;\"><a class=\"close-link closeLink\" href=\"#\" onclick=\"toggleMoreLinks('646d06b64af288c3'); return false;\" title=\"Close\"></a><div class=\"more_actions\" id=\"more_1\"><ul><li><span class=\"mat\">View all <a href=\"/q-Apple-l-Santa-Clara-Valley,-CA-jobs.html\" rel=\"nofollow\">Apple jobs in Santa Clara Valley, CA</a> - <a href=\"/l-Santa-Clara-Valley,-CA-jobs.html\">Santa Clara Valley jobs</a></span></li><li><span class=\"mat\">Salary Search: <a href=\"/salaries/Data-Scientist-Salaries,-Santa-Clara-Valley-CA\" onmousedown=\"this.href = appendParamsOnce(this.href, '?campaignid=serp-more&amp;fromjk=646d06b64af288c3&amp;from=serp-more-nofollow');\" rel='\"nofollow\"'>Data Scientist salaries in Santa Clara Valley, CA</a></span></li><li><span class=\"mat\">Learn more about working at <a href=\"/cmp/Apple\" onmousedown=\"this.href = appendParamsOnce(this.href, '?fromjk=646d06b64af288c3&amp;from=serp-more&amp;campaignid=serp-more&amp;jcid=c1099851e9794854');\">Apple</a></span></li><li><span class=\"mat\"><a href=\"/cmp/Apple/faq\" onmousedown=\"this.href = appendParamsOnce(this.href, '?from=serp-more&amp;campaignid=serp-more&amp;fromjk=646d06b64af288c3&amp;jcid=c1099851e9794854');\">Apple questions about work, benefits, interviews and hiring process:</a><ul><li><a href=\"/cmp/Apple/faq/do-you-need-previous-job-experience-to-work-at-apple?quid=1akheqvhkb86mc2d\" onmousedown=\"this.href = appendParamsOnce(this.href, '?from=serp-more&amp;campaignid=serp-more&amp;fromjk=646d06b64af288c3&amp;jcid=c1099851e9794854');\">Do you need previous job experience to work at Apple?</a></li><li><a href=\"/cmp/Apple/faq/how-long-does-it-take-to-get-hired-from-start-to-finish-what-are-the-steps-along-the-way?quid=1all5rd3hak8haih\" onmousedown=\"this.href = appendParamsOnce(this.href, '?from=serp-more&amp;campaignid=serp-more&amp;fromjk=646d06b64af288c3&amp;jcid=c1099851e9794854');\">How long does it take to get hired from start to finish? What are the st...</a></li></ul></span></li><li><span class=\"mat\">Related forums: <a href=\"/forum/cmp/Apple.html\">Apple</a></span></li></ul></div></div><div class=\"dya-container result-tab\"></div>\n",
      "<div class=\"tellafriend-container result-tab email_job_content\"></div>\n",
      "<div class=\"sign-in-container result-tab\"></div>\n",
      "<div class=\"notes-container result-tab\"></div>\n",
      "</div>\n",
      "\n",
      "</td>\n",
      "</tr>\n",
      "</tbody></table>\n",
      "</div>\n",
      "\n",
      "<div class=\" row result\" data-jk=\"f66c5be2eeade208\" data-tn-component=\"organicJob\" id=\"p_f66c5be2eeade208\">\n",
      "<h2 class=\"jobtitle\" id=\"jl_f66c5be2eeade208\">\n",
      "<a class=\"turnstileLink\" data-tn-element=\"jobTitle\" href=\"/rc/clk?jk=f66c5be2eeade208&amp;fccid=de71a49b535e21cb\" onclick=\"setRefineByCookie([]); return rclk(this,jobmap[2],true,0);\" onmousedown=\"return rclk(this,jobmap[2],0);\" rel=\"noopener nofollow\" target=\"_blank\" title=\"Entry Level Data Scientist\">Entry Level <b>Data</b> <b>Scientist</b></a>\n",
      "</h2>\n",
      "<span class=\"company\">\n",
      "<a href=\"/cmp/IBM\" onmousedown=\"this.href = appendParamsOnce(this.href, 'from=SERP&amp;campaignid=serp-linkcompanyname&amp;fromjk=f66c5be2eeade208&amp;jcid=de71a49b535e21cb')\" rel=\"noopener\" target=\"_blank\">\n",
      "IBM</a></span>\n",
      "\n",
      " - <a class=\"turnstileLink slNoUnderline \" data-tn-element=\"reviewStars\" data-tn-variant=\"cmplinktst2\" href=\"/cmp/IBM/reviews\" onmousedown=\"this.href = appendParamsOnce(this.href, '?campaignid=cmplinktst2&amp;from=SERP&amp;jt=Entry+Level+Data+Scientist&amp;fromjk=f66c5be2eeade208&amp;jcid=de71a49b535e21cb');\" rel=\"noopener\" target=\"_blank\" title=\"IBM reviews\">\n",
      "<span class=\"ratings\"><span class=\"rating\" style=\"width:51.0px\"><!-- --></span></span>\n",
      "<span class=\"slNoUnderline\">18,247 reviews</span></a>\n",
      " - <span class=\"location\">United States</span>\n",
      "<table border=\"0\" cellpadding=\"0\" cellspacing=\"0\">\n",
      "<tbody><tr>\n",
      "<td class=\"snip\">\n",
      "<div class=\"\">\n",
      "<span class=\"summary\">\n",
      "They draw upon the practice of <b>data</b> analysis, using predictive analytics, <b>data</b> mining, pattern recognition, <b>data</b> modeling, machine learning and various...</span>\n",
      "</div>\n",
      "\n",
      "\n",
      "<div class=\"result-link-bar-container\">\n",
      "<div class=\"result-link-bar\"><span class=\"date\">21 days ago</span> <span class=\"tt_set\" id=\"tt_set_2\">  -  <a class=\"sl resultLink save-job-link \" href=\"#\" id=\"sj_f66c5be2eeade208\" onclick=\"changeJobState('f66c5be2eeade208', 'save', 'linkbar', false, ''); return false;\" title=\"Save this job to my.indeed\">save job</a> - <a class=\"sl resultLink more-link \" href=\"#\" id=\"tog_2\" onclick=\"toggleMoreLinks('f66c5be2eeade208'); return false;\">more...</a></span><div class=\"edit_note_content\" id=\"editsaved2_f66c5be2eeade208\" style=\"display:none;\"></div><script>if (!window['result_f66c5be2eeade208']) {window['result_f66c5be2eeade208'] = {};}window['result_f66c5be2eeade208']['showSource'] = false; window['result_f66c5be2eeade208']['source'] = \"IBM\"; window['result_f66c5be2eeade208']['loggedIn'] = false; window['result_f66c5be2eeade208']['showMyJobsLinks'] = false;window['result_f66c5be2eeade208']['undoAction'] = \"unsave\";window['result_f66c5be2eeade208']['relativeJobAge'] = \"21 days ago\";window['result_f66c5be2eeade208']['jobKey'] = \"f66c5be2eeade208\"; window['result_f66c5be2eeade208']['myIndeedAvailable'] = true; window['result_f66c5be2eeade208']['showMoreActionsLink'] = true; window['result_f66c5be2eeade208']['resultNumber'] = 2; window['result_f66c5be2eeade208']['jobStateChangedToSaved'] = false; window['result_f66c5be2eeade208']['searchState'] = \"q=data scientist&amp;\"; window['result_f66c5be2eeade208']['basicPermaLink'] = \"https://www.indeed.com\"; window['result_f66c5be2eeade208']['saveJobFailed'] = false; window['result_f66c5be2eeade208']['removeJobFailed'] = false; window['result_f66c5be2eeade208']['requestPending'] = false; window['result_f66c5be2eeade208']['notesEnabled'] = true; window['result_f66c5be2eeade208']['currentPage'] = \"serp\"; window['result_f66c5be2eeade208']['sponsored'] = false;window['result_f66c5be2eeade208']['reportJobButtonEnabled'] = false; window['result_f66c5be2eeade208']['showMyJobsHired'] = false; window['result_f66c5be2eeade208']['showSaveForSponsored'] = false; window['result_f66c5be2eeade208']['showJobAge'] = true;</script></div></div>\n",
      "\n",
      "<div class=\"tab-container\">\n",
      "<div class=\"more-links-container result-tab\" id=\"tt_display_2\" style=\"display:none;\"><a class=\"close-link closeLink\" href=\"#\" onclick=\"toggleMoreLinks('f66c5be2eeade208'); return false;\" title=\"Close\"></a><div class=\"more_actions\" id=\"more_2\"><ul><li><span class=\"mat\">View all <a href=\"/q-IBM-l-United-States-jobs.html\" rel=\"nofollow\">IBM jobs in United States</a> - <a href=\"/l-United-States-jobs.html\">United States jobs</a></span></li><li><span class=\"mat\">Salary Search: <a href=\"/salaries/Entry-Level-Scientist-Salaries,-US\" onmousedown=\"this.href = appendParamsOnce(this.href, '?campaignid=serp-more&amp;fromjk=f66c5be2eeade208&amp;from=serp-more');\">Entry Level Scientist salaries in United States</a></span></li><li><span class=\"mat\">Learn more about working at <a href=\"/cmp/IBM\" onmousedown=\"this.href = appendParamsOnce(this.href, '?fromjk=f66c5be2eeade208&amp;from=serp-more&amp;campaignid=serp-more&amp;jcid=de71a49b535e21cb');\">IBM</a></span></li><li><span class=\"mat\"><a href=\"/cmp/IBM/faq\" onmousedown=\"this.href = appendParamsOnce(this.href, '?from=serp-more&amp;campaignid=serp-more&amp;fromjk=f66c5be2eeade208&amp;jcid=de71a49b535e21cb');\">IBM questions about work, benefits, interviews and hiring process:</a><ul><li><a href=\"/cmp/IBM/faq/how-long-does-it-take-to-get-hired-from-start-to-finish-what-are-the-steps-along-the-way?quid=1ambua0tv5nbuf10\" onmousedown=\"this.href = appendParamsOnce(this.href, '?from=serp-more&amp;campaignid=serp-more&amp;fromjk=f66c5be2eeade208&amp;jcid=de71a49b535e21cb');\">How long does it take to get hired from start to finish? What are the st...</a></li><li><a href=\"/cmp/IBM/faq/what-would-you-suggest-ibm-management-do-to-prevent-others-from-leaving-for-this-reason?quid=1bbr9jkv7b895e4g\" onmousedown=\"this.href = appendParamsOnce(this.href, '?from=serp-more&amp;campaignid=serp-more&amp;fromjk=f66c5be2eeade208&amp;jcid=de71a49b535e21cb');\">What would you suggest IBM management do to prevent others from leaving ...</a></li></ul></span></li><li><span class=\"mat\">Related forums: <a href=\"/forum/cmp/IBM.html\">IBM</a></span></li></ul></div></div><div class=\"dya-container result-tab\"></div>\n",
      "<div class=\"tellafriend-container result-tab email_job_content\"></div>\n",
      "<div class=\"sign-in-container result-tab\"></div>\n",
      "<div class=\"notes-container result-tab\"></div>\n",
      "</div>\n",
      "\n",
      "</td>\n",
      "</tr>\n",
      "</tbody></table>\n",
      "</div>\n",
      "\n",
      "<div class=\" row result\" data-jk=\"e04a2cbd4f48d2fe\" data-tn-component=\"organicJob\" id=\"p_e04a2cbd4f48d2fe\">\n",
      "<h2 class=\"jobtitle\" id=\"jl_e04a2cbd4f48d2fe\">\n",
      "<a class=\"turnstileLink\" data-tn-element=\"jobTitle\" href=\"/rc/clk?jk=e04a2cbd4f48d2fe&amp;fccid=cba01270e96bb012\" onclick=\"setRefineByCookie([]); return rclk(this,jobmap[3],true,0);\" onmousedown=\"return rclk(this,jobmap[3],0);\" rel=\"noopener nofollow\" target=\"_blank\" title=\"Data Scientist (US)\"><b>Data</b> <b>Scientist</b> (US)</a>\n",
      "</h2>\n",
      "<span class=\"company\">\n",
      "Tiger Analytics</span>\n",
      "\n",
      " - <span class=\"location\">Santa Clara, CA</span>\n",
      "<table border=\"0\" cellpadding=\"0\" cellspacing=\"0\">\n",
      "<tbody><tr>\n",
      "<td class=\"snip\">\n",
      "<div class=\"\">\n",
      "<span class=\"summary\">\n",
      "Focus will be in applying <b>data</b> mining techniques, doing statistical analysis, and building high quality prediction systems integrated with other applications....</span>\n",
      "</div>\n",
      "\n",
      "\n",
      "<div class=\"iaP\">\n",
      "<span class=\"iaLabel\"> Easily apply</span>\n",
      "</div>\n",
      "<div class=\"result-link-bar-container\">\n",
      "<div class=\"result-link-bar\"><span class=\"date\">4 days ago</span> <span class=\"tt_set\" id=\"tt_set_3\">  -  <a class=\"sl resultLink save-job-link \" href=\"#\" id=\"sj_e04a2cbd4f48d2fe\" onclick=\"changeJobState('e04a2cbd4f48d2fe', 'save', 'linkbar', false, ''); return false;\" title=\"Save this job to my.indeed\">save job</a> - <a class=\"sl resultLink more-link \" href=\"#\" id=\"tog_3\" onclick=\"toggleMoreLinks('e04a2cbd4f48d2fe'); return false;\">more...</a></span><div class=\"edit_note_content\" id=\"editsaved2_e04a2cbd4f48d2fe\" style=\"display:none;\"></div><script>if (!window['result_e04a2cbd4f48d2fe']) {window['result_e04a2cbd4f48d2fe'] = {};}window['result_e04a2cbd4f48d2fe']['showSource'] = false; window['result_e04a2cbd4f48d2fe']['source'] = \"Tiger Analytics\"; window['result_e04a2cbd4f48d2fe']['loggedIn'] = false; window['result_e04a2cbd4f48d2fe']['showMyJobsLinks'] = false;window['result_e04a2cbd4f48d2fe']['undoAction'] = \"unsave\";window['result_e04a2cbd4f48d2fe']['relativeJobAge'] = \"4 days ago\";window['result_e04a2cbd4f48d2fe']['jobKey'] = \"e04a2cbd4f48d2fe\"; window['result_e04a2cbd4f48d2fe']['myIndeedAvailable'] = true; window['result_e04a2cbd4f48d2fe']['showMoreActionsLink'] = true; window['result_e04a2cbd4f48d2fe']['resultNumber'] = 3; window['result_e04a2cbd4f48d2fe']['jobStateChangedToSaved'] = false; window['result_e04a2cbd4f48d2fe']['searchState'] = \"q=data scientist&amp;\"; window['result_e04a2cbd4f48d2fe']['basicPermaLink'] = \"https://www.indeed.com\"; window['result_e04a2cbd4f48d2fe']['saveJobFailed'] = false; window['result_e04a2cbd4f48d2fe']['removeJobFailed'] = false; window['result_e04a2cbd4f48d2fe']['requestPending'] = false; window['result_e04a2cbd4f48d2fe']['notesEnabled'] = true; window['result_e04a2cbd4f48d2fe']['currentPage'] = \"serp\"; window['result_e04a2cbd4f48d2fe']['sponsored'] = false;window['result_e04a2cbd4f48d2fe']['reportJobButtonEnabled'] = false; window['result_e04a2cbd4f48d2fe']['showMyJobsHired'] = false; window['result_e04a2cbd4f48d2fe']['showSaveForSponsored'] = false; window['result_e04a2cbd4f48d2fe']['showJobAge'] = true;</script></div></div>\n",
      "\n",
      "<div class=\"tab-container\">\n",
      "<div class=\"more-links-container result-tab\" id=\"tt_display_3\" style=\"display:none;\"><a class=\"close-link closeLink\" href=\"#\" onclick=\"toggleMoreLinks('e04a2cbd4f48d2fe'); return false;\" title=\"Close\"></a><div class=\"more_actions\" id=\"more_3\"><ul><li><span class=\"mat\">View all <a href=\"/q-Tiger-Analytics-l-Santa-Clara,-CA-jobs.html\" rel=\"nofollow\">Tiger Analytics jobs in Santa Clara, CA</a> - <a href=\"/l-Santa-Clara,-CA-jobs.html\">Santa Clara jobs</a></span></li><li><span class=\"mat\">Salary Search: <a href=\"/salaries/Data-Scientist-Salaries,-Santa-Clara-CA\" onmousedown=\"this.href = appendParamsOnce(this.href, '?campaignid=serp-more&amp;fromjk=e04a2cbd4f48d2fe&amp;from=serp-more');\">Data Scientist salaries in Santa Clara, CA</a></span></li><li><span class=\"mat\">Related forums: <a href=\"/forum/cmp/Tiger-Analytics.html\">Tiger Analytics</a> - <a href=\"/forum/loc/Santa-Clara-California.html\">Santa Clara, California</a></span></li></ul></div></div><div class=\"dya-container result-tab\"></div>\n",
      "<div class=\"tellafriend-container result-tab email_job_content\"></div>\n",
      "<div class=\"sign-in-container result-tab\"></div>\n",
      "<div class=\"notes-container result-tab\"></div>\n",
      "</div>\n",
      "\n",
      "</td>\n",
      "</tr>\n",
      "</tbody></table>\n",
      "</div>\n",
      "\n",
      "<div class=\" row result\" data-jk=\"b1fec370ddb59a8b\" data-tn-component=\"organicJob\" id=\"p_b1fec370ddb59a8b\">\n",
      "<h2 class=\"jobtitle\" id=\"jl_b1fec370ddb59a8b\">\n",
      "<a class=\"turnstileLink\" data-tn-element=\"jobTitle\" href=\"/rc/clk?jk=b1fec370ddb59a8b&amp;fccid=ad49423ccbcc9b48\" onclick=\"setRefineByCookie([]); return rclk(this,jobmap[4],true,1);\" onmousedown=\"return rclk(this,jobmap[4],1);\" rel=\"noopener nofollow\" target=\"_blank\" title=\"Data Scientist\"><b>Data</b> <b>Scientist</b></a>\n",
      "</h2>\n",
      "<span class=\"company\">\n",
      "<a href=\"/cmp/Crossover\" onmousedown=\"this.href = appendParamsOnce(this.href, 'from=SERP&amp;campaignid=serp-linkcompanyname&amp;fromjk=b1fec370ddb59a8b&amp;jcid=ad49423ccbcc9b48')\" rel=\"noopener\" target=\"_blank\">\n",
      "Crossover</a></span>\n",
      "\n",
      " - <a class=\"turnstileLink slNoUnderline \" data-tn-element=\"reviewStars\" data-tn-variant=\"cmplinktst2\" href=\"/cmp/Crossover/reviews\" onmousedown=\"this.href = appendParamsOnce(this.href, '?campaignid=cmplinktst2&amp;from=SERP&amp;jt=Data+Scientist&amp;fromjk=b1fec370ddb59a8b&amp;jcid=ad49423ccbcc9b48');\" rel=\"noopener\" target=\"_blank\" title=\"Crossover reviews\">\n",
      "<span class=\"ratings\"><span class=\"rating\" style=\"width:31.2px\"><!-- --></span></span>\n",
      "<span class=\"slNoUnderline\">10 reviews</span></a>\n",
      " - <span class=\"location\">Remote</span>\n",
      "<table border=\"0\" cellpadding=\"0\" cellspacing=\"0\">\n",
      "<tbody><tr>\n",
      "<td class=\"snip\">\n",
      "<div>\n",
      "<span class=\"no-wrap\">\n",
      "$100,000 a year</span>\n",
      "</div>\n",
      "<div class=\"\">\n",
      "<span class=\"summary\">\n",
      "Ignite's FirstRain SaaS-based analytics solution, monitors internal and external business conditions and detects trends, using information extraction, filtering...</span>\n",
      "</div>\n",
      "\n",
      "\n",
      "<div class=\"result-link-bar-container\">\n",
      "<div class=\"result-link-bar\"><span class=\"date\">23 days ago</span> <span class=\"tt_set\" id=\"tt_set_4\">  -  <a class=\"sl resultLink save-job-link \" href=\"#\" id=\"sj_b1fec370ddb59a8b\" onclick=\"changeJobState('b1fec370ddb59a8b', 'save', 'linkbar', false, ''); return false;\" title=\"Save this job to my.indeed\">save job</a> - <a class=\"sl resultLink more-link \" href=\"#\" id=\"tog_4\" onclick=\"toggleMoreLinks('b1fec370ddb59a8b'); return false;\">more...</a></span><div class=\"edit_note_content\" id=\"editsaved2_b1fec370ddb59a8b\" style=\"display:none;\"></div><script>if (!window['result_b1fec370ddb59a8b']) {window['result_b1fec370ddb59a8b'] = {};}window['result_b1fec370ddb59a8b']['showSource'] = false; window['result_b1fec370ddb59a8b']['source'] = \"Crossover\"; window['result_b1fec370ddb59a8b']['loggedIn'] = false; window['result_b1fec370ddb59a8b']['showMyJobsLinks'] = false;window['result_b1fec370ddb59a8b']['undoAction'] = \"unsave\";window['result_b1fec370ddb59a8b']['relativeJobAge'] = \"23 days ago\";window['result_b1fec370ddb59a8b']['jobKey'] = \"b1fec370ddb59a8b\"; window['result_b1fec370ddb59a8b']['myIndeedAvailable'] = true; window['result_b1fec370ddb59a8b']['showMoreActionsLink'] = true; window['result_b1fec370ddb59a8b']['resultNumber'] = 4; window['result_b1fec370ddb59a8b']['jobStateChangedToSaved'] = false; window['result_b1fec370ddb59a8b']['searchState'] = \"q=data scientist&amp;\"; window['result_b1fec370ddb59a8b']['basicPermaLink'] = \"https://www.indeed.com\"; window['result_b1fec370ddb59a8b']['saveJobFailed'] = false; window['result_b1fec370ddb59a8b']['removeJobFailed'] = false; window['result_b1fec370ddb59a8b']['requestPending'] = false; window['result_b1fec370ddb59a8b']['notesEnabled'] = true; window['result_b1fec370ddb59a8b']['currentPage'] = \"serp\"; window['result_b1fec370ddb59a8b']['sponsored'] = false;window['result_b1fec370ddb59a8b']['reportJobButtonEnabled'] = false; window['result_b1fec370ddb59a8b']['showMyJobsHired'] = false; window['result_b1fec370ddb59a8b']['showSaveForSponsored'] = false; window['result_b1fec370ddb59a8b']['showJobAge'] = true;</script></div></div>\n",
      "\n",
      "<div class=\"tab-container\">\n",
      "<div class=\"more-links-container result-tab\" id=\"tt_display_4\" style=\"display:none;\"><a class=\"close-link closeLink\" href=\"#\" onclick=\"toggleMoreLinks('b1fec370ddb59a8b'); return false;\" title=\"Close\"></a><div class=\"more_actions\" id=\"more_4\"><ul><li><span class=\"mat\">View all <a href=\"/q-Crossover-l-Remote-jobs.html\" rel=\"nofollow\">Crossover jobs in Remote</a> - <a href=\"/l-Remote-jobs.html\">Remote jobs</a></span></li><li><span class=\"mat\">Salary Search: <a href=\"/salaries/Data-Scientist-Salaries,-US\" onmousedown=\"this.href = appendParamsOnce(this.href, '?campaignid=serp-more&amp;fromjk=b1fec370ddb59a8b&amp;from=serp-more');\">Data Scientist salaries in Remote</a></span></li><li><span class=\"mat\">Learn more about working at <a href=\"/cmp/Crossover\" onmousedown=\"this.href = appendParamsOnce(this.href, '?fromjk=b1fec370ddb59a8b&amp;from=serp-more&amp;campaignid=serp-more&amp;jcid=ad49423ccbcc9b48');\">Crossover</a></span></li><li><span class=\"mat\"><a href=\"/cmp/Crossover/faq\" onmousedown=\"this.href = appendParamsOnce(this.href, '?from=serp-more&amp;campaignid=serp-more&amp;fromjk=b1fec370ddb59a8b&amp;jcid=ad49423ccbcc9b48');\">Crossover questions about work, benefits, interviews and hiring process:</a><ul><li><a href=\"/cmp/Crossover/faq/what-would-you-suggest-crossover-management-do-to-prevent-others-from-leaving-for-this-reason?quid=1bbll15jpakgsd46\" onmousedown=\"this.href = appendParamsOnce(this.href, '?from=serp-more&amp;campaignid=serp-more&amp;fromjk=b1fec370ddb59a8b&amp;jcid=ad49423ccbcc9b48');\">What would you suggest Crossover management do to prevent others from le...</a></li><li><a href=\"/cmp/Crossover/faq/why-did-you-leave-your-job-at-crossover?quid=1bbll15ibaqgnb19\" onmousedown=\"this.href = appendParamsOnce(this.href, '?from=serp-more&amp;campaignid=serp-more&amp;fromjk=b1fec370ddb59a8b&amp;jcid=ad49423ccbcc9b48');\">Why did you leave your job at Crossover?</a></li></ul></span></li><li><span class=\"mat\">Related forums: <a href=\"/forum/cmp/Crossover.html\">Crossover</a></span></li></ul></div></div><div class=\"dya-container result-tab\"></div>\n",
      "<div class=\"tellafriend-container result-tab email_job_content\"></div>\n",
      "<div class=\"sign-in-container result-tab\"></div>\n",
      "<div class=\"notes-container result-tab\"></div>\n",
      "</div>\n",
      "\n",
      "</td>\n",
      "</tr>\n",
      "</tbody></table>\n",
      "</div>\n",
      "\n",
      "<div class=\" row result\" data-jk=\"ea7de274698e2a3a\" data-tn-component=\"organicJob\" id=\"p_ea7de274698e2a3a\">\n",
      "<h2 class=\"jobtitle\" id=\"jl_ea7de274698e2a3a\">\n",
      "<a class=\"turnstileLink\" data-tn-element=\"jobTitle\" href=\"/rc/clk?jk=ea7de274698e2a3a&amp;fccid=681e47a680e081c9\" onclick=\"setRefineByCookie([]); return rclk(this,jobmap[5],true,0);\" onmousedown=\"return rclk(this,jobmap[5],0);\" rel=\"noopener nofollow\" target=\"_blank\" title=\"Data Scientist\"><b>Data</b> <b>Scientist</b></a>\n",
      "</h2>\n",
      "<span class=\"company\">\n",
      "<a href=\"/cmp/Coca--cola-Refreshments\" onmousedown=\"this.href = appendParamsOnce(this.href, 'from=SERP&amp;campaignid=serp-linkcompanyname&amp;fromjk=ea7de274698e2a3a&amp;jcid=6bb4fc4a8a4cb4d9')\" rel=\"noopener\" target=\"_blank\">\n",
      "The Coca-Cola Company</a></span>\n",
      "\n",
      " - <a class=\"turnstileLink slNoUnderline \" data-tn-element=\"reviewStars\" data-tn-variant=\"cmplinktst2\" href=\"/cmp/Coca--cola-Refreshments/reviews\" onmousedown=\"this.href = appendParamsOnce(this.href, '?campaignid=cmplinktst2&amp;from=SERP&amp;jt=Data+Scientist&amp;fromjk=ea7de274698e2a3a&amp;jcid=6bb4fc4a8a4cb4d9');\" rel=\"noopener\" target=\"_blank\" title=\"The Coca-cola Company reviews\">\n",
      "<span class=\"ratings\"><span class=\"rating\" style=\"width:44.4px\"><!-- --></span></span>\n",
      "<span class=\"slNoUnderline\">6,114 reviews</span></a>\n",
      " - <span class=\"location\">Atlanta, GA 30301 <span style=\"font-size: smaller\">(Buckhead area)</span></span>\n",
      "<table border=\"0\" cellpadding=\"0\" cellspacing=\"0\">\n",
      "<tbody><tr>\n",
      "<td class=\"snip\">\n",
      "<div class=\"\">\n",
      "<span class=\"summary\">\n",
      "Communicate <b>data</b> analysis and insights using rich visualization tools (Tableau/MicroStrategy) and leverage <b>data</b> to present compelling cases to optimize...</span>\n",
      "</div>\n",
      "\n",
      "\n",
      "<div class=\"result-link-bar-container\">\n",
      "<div class=\"result-link-bar\"><span class=\"date\">14 days ago</span> <span class=\"tt_set\" id=\"tt_set_5\">  -  <a class=\"sl resultLink save-job-link \" href=\"#\" id=\"sj_ea7de274698e2a3a\" onclick=\"changeJobState('ea7de274698e2a3a', 'save', 'linkbar', false, ''); return false;\" title=\"Save this job to my.indeed\">save job</a> - <a class=\"sl resultLink more-link \" href=\"#\" id=\"tog_5\" onclick=\"toggleMoreLinks('ea7de274698e2a3a'); return false;\">more...</a></span><div class=\"edit_note_content\" id=\"editsaved2_ea7de274698e2a3a\" style=\"display:none;\"></div><script>if (!window['result_ea7de274698e2a3a']) {window['result_ea7de274698e2a3a'] = {};}window['result_ea7de274698e2a3a']['showSource'] = false; window['result_ea7de274698e2a3a']['source'] = \"The Coca-Cola Company\"; window['result_ea7de274698e2a3a']['loggedIn'] = false; window['result_ea7de274698e2a3a']['showMyJobsLinks'] = false;window['result_ea7de274698e2a3a']['undoAction'] = \"unsave\";window['result_ea7de274698e2a3a']['relativeJobAge'] = \"14 days ago\";window['result_ea7de274698e2a3a']['jobKey'] = \"ea7de274698e2a3a\"; window['result_ea7de274698e2a3a']['myIndeedAvailable'] = true; window['result_ea7de274698e2a3a']['showMoreActionsLink'] = true; window['result_ea7de274698e2a3a']['resultNumber'] = 5; window['result_ea7de274698e2a3a']['jobStateChangedToSaved'] = false; window['result_ea7de274698e2a3a']['searchState'] = \"q=data scientist&amp;\"; window['result_ea7de274698e2a3a']['basicPermaLink'] = \"https://www.indeed.com\"; window['result_ea7de274698e2a3a']['saveJobFailed'] = false; window['result_ea7de274698e2a3a']['removeJobFailed'] = false; window['result_ea7de274698e2a3a']['requestPending'] = false; window['result_ea7de274698e2a3a']['notesEnabled'] = true; window['result_ea7de274698e2a3a']['currentPage'] = \"serp\"; window['result_ea7de274698e2a3a']['sponsored'] = false;window['result_ea7de274698e2a3a']['reportJobButtonEnabled'] = false; window['result_ea7de274698e2a3a']['showMyJobsHired'] = false; window['result_ea7de274698e2a3a']['showSaveForSponsored'] = false; window['result_ea7de274698e2a3a']['showJobAge'] = true;</script></div></div>\n",
      "\n",
      "<div class=\"tab-container\">\n",
      "<div class=\"more-links-container result-tab\" id=\"tt_display_5\" style=\"display:none;\"><a class=\"close-link closeLink\" href=\"#\" onclick=\"toggleMoreLinks('ea7de274698e2a3a'); return false;\" title=\"Close\"></a><div class=\"more_actions\" id=\"more_5\"><ul><li><span class=\"mat\">View all <a href=\"/jobs?q=The+Coca-cola+Company&amp;l=Atlanta,+GA\" rel=\"nofollow\">The Coca-Cola Company jobs in Atlanta, GA</a> - <a href=\"/l-Atlanta,-GA-jobs.html\">Atlanta jobs</a></span></li><li><span class=\"mat\">Salary Search: <a href=\"/salaries/Data-Scientist-Salaries,-Atlanta-GA\" onmousedown=\"this.href = appendParamsOnce(this.href, '?campaignid=serp-more&amp;fromjk=ea7de274698e2a3a&amp;from=serp-more');\">Data Scientist salaries in Atlanta, GA</a></span></li><li><span class=\"mat\">Learn more about working at <a href=\"/cmp/Coca--cola-Refreshments\" onmousedown=\"this.href = appendParamsOnce(this.href, '?fromjk=ea7de274698e2a3a&amp;from=serp-more&amp;campaignid=serp-more&amp;jcid=6bb4fc4a8a4cb4d9');\">The Coca-cola Company</a></span></li><li><span class=\"mat\"><a href=\"/cmp/Coca--cola-Refreshments/faq\" onmousedown=\"this.href = appendParamsOnce(this.href, '?from=serp-more&amp;campaignid=serp-more&amp;fromjk=ea7de274698e2a3a&amp;jcid=6bb4fc4a8a4cb4d9');\">The Coca-cola Company questions about work, benefits, interviews and hiring process:</a><ul><li><a href=\"/cmp/Coca--cola-Refreshments/faq/do-we-get-weekends-off?quid=1ak62jb11b86m8r7\" onmousedown=\"this.href = appendParamsOnce(this.href, '?from=serp-more&amp;campaignid=serp-more&amp;fromjk=ea7de274698e2a3a&amp;jcid=6bb4fc4a8a4cb4d9');\">Do we get weekends off ?</a></li><li><a href=\"/cmp/Coca--cola-Refreshments/faq/why-did-you-leave-your-job-at-coca-cola-refreshments?quid=1bb9que5g0kbt4ln\" onmousedown=\"this.href = appendParamsOnce(this.href, '?from=serp-more&amp;campaignid=serp-more&amp;fromjk=ea7de274698e2a3a&amp;jcid=6bb4fc4a8a4cb4d9');\">Why did you leave your job at Coca-Cola Refreshments?</a></li></ul></span></li><li><span class=\"mat\">Related forums: <a href=\"/forum/cmp/Coca--cola-Refreshments.html\">Coca-Cola Refreshments</a> - <a href=\"/forum/loc/Atlanta-Georgia.html\">Atlanta, Georgia</a></span></li></ul></div></div><div class=\"dya-container result-tab\"></div>\n",
      "<div class=\"tellafriend-container result-tab email_job_content\"></div>\n",
      "<div class=\"sign-in-container result-tab\"></div>\n",
      "<div class=\"notes-container result-tab\"></div>\n",
      "</div>\n",
      "\n",
      "</td>\n",
      "</tr>\n",
      "</tbody></table>\n",
      "</div>\n",
      "\n",
      "<div class=\" row result\" data-jk=\"02ecc871f377f959\" data-tn-component=\"organicJob\" id=\"p_02ecc871f377f959\">\n",
      "<h2 class=\"jobtitle\" id=\"jl_02ecc871f377f959\">\n",
      "<a class=\"turnstileLink\" data-tn-element=\"jobTitle\" href=\"/rc/clk?jk=02ecc871f377f959&amp;fccid=c46d0116f6e69eae\" onclick=\"setRefineByCookie([]); return rclk(this,jobmap[6],true,0);\" onmousedown=\"return rclk(this,jobmap[6],0);\" rel=\"noopener nofollow\" target=\"_blank\" title=\"Data Scientist\"><b>Data</b> <b>Scientist</b></a>\n",
      "</h2>\n",
      "<span class=\"company\">\n",
      "<a href=\"/cmp/JPMorgan-Chase\" onmousedown=\"this.href = appendParamsOnce(this.href, 'from=SERP&amp;campaignid=serp-linkcompanyname&amp;fromjk=02ecc871f377f959&amp;jcid=11ba90543b779766')\" rel=\"noopener\" target=\"_blank\">\n",
      "JP Morgan Chase</a></span>\n",
      "\n",
      " - <a class=\"turnstileLink slNoUnderline \" data-tn-element=\"reviewStars\" data-tn-variant=\"cmplinktst2\" href=\"/cmp/JPMorgan-Chase/reviews\" onmousedown=\"this.href = appendParamsOnce(this.href, '?campaignid=cmplinktst2&amp;from=SERP&amp;jt=Data+Scientist&amp;fromjk=02ecc871f377f959&amp;jcid=11ba90543b779766');\" rel=\"noopener\" target=\"_blank\" title=\"JP Morgan Chase reviews\">\n",
      "<span class=\"ratings\"><span class=\"rating\" style=\"width:44.4px\"><!-- --></span></span>\n",
      "<span class=\"slNoUnderline\">14,976 reviews</span></a>\n",
      " - <span class=\"location\">Columbus, OH 43240 <span style=\"font-size: smaller\">(Far North area)</span></span>\n",
      "\n",
      " <a class=\"more_loc\" href=\"/addlLoc/redirect?tk=1bu6rar4q0k4o3iu&amp;jk=02ecc871f377f959&amp;dest=%2Fjobs%3Fq%3Ddata%2Bscientist%26rbt%3DData%2BScientist%26rbc%3DJP%2BMorgan%2BChase%26jtid%3D1872a3288ede048a%26jcid%3D11ba90543b779766%26grp%3Dtcl\" onmousedown=\"ptk('addlloc');\" rel=\"nofollow\">\n",
      "+3 locations</a><table border=\"0\" cellpadding=\"0\" cellspacing=\"0\">\n",
      "<tbody><tr>\n",
      "<td class=\"snip\">\n",
      "<div class=\"\">\n",
      "<span class=\"summary\">\n",
      "In the role of <b>Data</b> <b>Scientist</b>, you will be responsible for:. Synthesize relevant <b>data</b>, build analytical models and forecasts....</span>\n",
      "</div>\n",
      "\n",
      "\n",
      "<div class=\"result-link-bar-container\">\n",
      "<div class=\"result-link-bar\"><span class=\"result-link-source\">JPMorgan Chase </span>- <span class=\"date\">2 days ago</span> <span class=\"tt_set\" id=\"tt_set_6\">  -  <a class=\"sl resultLink save-job-link \" href=\"#\" id=\"sj_02ecc871f377f959\" onclick=\"changeJobState('02ecc871f377f959', 'save', 'linkbar', false, ''); return false;\" title=\"Save this job to my.indeed\">save job</a> - <a class=\"sl resultLink more-link \" href=\"#\" id=\"tog_6\" onclick=\"toggleMoreLinks('02ecc871f377f959'); return false;\">more...</a></span><div class=\"edit_note_content\" id=\"editsaved2_02ecc871f377f959\" style=\"display:none;\"></div><script>if (!window['result_02ecc871f377f959']) {window['result_02ecc871f377f959'] = {};}window['result_02ecc871f377f959']['showSource'] = true; window['result_02ecc871f377f959']['source'] = \"JPMorgan Chase\"; window['result_02ecc871f377f959']['loggedIn'] = false; window['result_02ecc871f377f959']['showMyJobsLinks'] = false;window['result_02ecc871f377f959']['undoAction'] = \"unsave\";window['result_02ecc871f377f959']['relativeJobAge'] = \"2 days ago\";window['result_02ecc871f377f959']['jobKey'] = \"02ecc871f377f959\"; window['result_02ecc871f377f959']['myIndeedAvailable'] = true; window['result_02ecc871f377f959']['showMoreActionsLink'] = true; window['result_02ecc871f377f959']['resultNumber'] = 6; window['result_02ecc871f377f959']['jobStateChangedToSaved'] = false; window['result_02ecc871f377f959']['searchState'] = \"q=data scientist&amp;\"; window['result_02ecc871f377f959']['basicPermaLink'] = \"https://www.indeed.com\"; window['result_02ecc871f377f959']['saveJobFailed'] = false; window['result_02ecc871f377f959']['removeJobFailed'] = false; window['result_02ecc871f377f959']['requestPending'] = false; window['result_02ecc871f377f959']['notesEnabled'] = true; window['result_02ecc871f377f959']['currentPage'] = \"serp\"; window['result_02ecc871f377f959']['sponsored'] = false;window['result_02ecc871f377f959']['reportJobButtonEnabled'] = false; window['result_02ecc871f377f959']['showMyJobsHired'] = false; window['result_02ecc871f377f959']['showSaveForSponsored'] = false; window['result_02ecc871f377f959']['showJobAge'] = true;</script></div></div>\n",
      "\n",
      "<div class=\"tab-container\">\n",
      "<div class=\"more-links-container result-tab\" id=\"tt_display_6\" style=\"display:none;\"><a class=\"close-link closeLink\" href=\"#\" onclick=\"toggleMoreLinks('02ecc871f377f959'); return false;\" title=\"Close\"></a><div class=\"more_actions\" id=\"more_6\"><ul><li><span class=\"mat\">View all <a href=\"/q-JP-Morgan-Chase-l-Columbus,-OH-jobs.html\" rel=\"nofollow\">JP Morgan Chase jobs in Columbus, OH</a> - <a href=\"/l-Columbus,-OH-jobs.html\">Columbus jobs</a></span></li><li><span class=\"mat\">Salary Search: <a href=\"/salaries/Data-Scientist-Salaries,-Columbus-OH\" onmousedown=\"this.href = appendParamsOnce(this.href, '?campaignid=serp-more&amp;fromjk=02ecc871f377f959&amp;from=serp-more');\">Data Scientist salaries in Columbus, OH</a></span></li><li><span class=\"mat\">Learn more about working at <a href=\"/cmp/JPMorgan-Chase\" onmousedown=\"this.href = appendParamsOnce(this.href, '?fromjk=02ecc871f377f959&amp;from=serp-more&amp;campaignid=serp-more&amp;jcid=11ba90543b779766');\">JP Morgan Chase</a></span></li><li><span class=\"mat\"><a href=\"/cmp/JPMorgan-Chase/faq\" onmousedown=\"this.href = appendParamsOnce(this.href, '?from=serp-more&amp;campaignid=serp-more&amp;fromjk=02ecc871f377f959&amp;jcid=11ba90543b779766');\">JP Morgan Chase questions about work, benefits, interviews and hiring process:</a><ul><li><a href=\"/cmp/JPMorgan-Chase/faq/how-much-does-an-lead-teller-operations-specialist-salary-also-what-do-i-expect-during-the-interview?quid=1absah6sr1d0s7np\" onmousedown=\"this.href = appendParamsOnce(this.href, '?from=serp-more&amp;campaignid=serp-more&amp;fromjk=02ecc871f377f959&amp;jcid=11ba90543b779766');\">How much does an lead teller operations specialist salary? \n",
      "\n",
      "Also, what ...</a></li><li><a href=\"/cmp/JPMorgan-Chase/faq/does-chase-have-a-on-site-daycare?quid=1airhfkuo1bgf3mo\" onmousedown=\"this.href = appendParamsOnce(this.href, '?from=serp-more&amp;campaignid=serp-more&amp;fromjk=02ecc871f377f959&amp;jcid=11ba90543b779766');\">Does Chase have a on site daycare?</a></li></ul></span></li><li><span class=\"mat\">Related forums: <a href=\"/forum/loc/Columbus-Ohio.html\">Columbus, Ohio</a> - <a href=\"/forum/cmp/JPMorgan-Chase.html\">JPMorgan Chase</a></span></li></ul></div></div><div class=\"dya-container result-tab\"></div>\n",
      "<div class=\"tellafriend-container result-tab email_job_content\"></div>\n",
      "<div class=\"sign-in-container result-tab\"></div>\n",
      "<div class=\"notes-container result-tab\"></div>\n",
      "</div>\n",
      "\n",
      "</td>\n",
      "</tr>\n",
      "</tbody></table>\n",
      "</div>\n",
      "\n",
      "<div class=\" row result\" data-jk=\"7bab775ed55be722\" data-tn-component=\"organicJob\" id=\"p_7bab775ed55be722\">\n",
      "<h2 class=\"jobtitle\" id=\"jl_7bab775ed55be722\">\n",
      "<a class=\"turnstileLink\" data-tn-element=\"jobTitle\" href=\"/rc/clk?jk=7bab775ed55be722&amp;fccid=5bd99dfa21c8a490\" onclick=\"setRefineByCookie([]); return rclk(this,jobmap[7],true,0);\" onmousedown=\"return rclk(this,jobmap[7],0);\" rel=\"noopener nofollow\" target=\"_blank\" title=\"Data Scientist\"><b>Data</b> <b>Scientist</b></a>\n",
      "</h2>\n",
      "<span class=\"company\">\n",
      "<a href=\"/cmp/Bank-of-America\" onmousedown=\"this.href = appendParamsOnce(this.href, 'from=SERP&amp;campaignid=serp-linkcompanyname&amp;fromjk=7bab775ed55be722&amp;jcid=5bd99dfa21c8a490')\" rel=\"noopener\" target=\"_blank\">\n",
      "Bank of America</a></span>\n",
      "\n",
      " - <a class=\"turnstileLink slNoUnderline \" data-tn-element=\"reviewStars\" data-tn-variant=\"cmplinktst2\" href=\"/cmp/Bank-of-America/reviews\" onmousedown=\"this.href = appendParamsOnce(this.href, '?campaignid=cmplinktst2&amp;from=SERP&amp;jt=Data+Scientist&amp;fromjk=7bab775ed55be722&amp;jcid=5bd99dfa21c8a490');\" rel=\"noopener\" target=\"_blank\" title=\"Bank of America reviews\">\n",
      "<span class=\"ratings\"><span class=\"rating\" style=\"width:44.4px\"><!-- --></span></span>\n",
      "<span class=\"slNoUnderline\">18,738 reviews</span></a>\n",
      " - <span class=\"location\">Charlotte, NC 28255 <span style=\"font-size: smaller\">(Wilmore area)</span></span>\n",
      "\n",
      " <a class=\"more_loc\" href=\"/addlLoc/redirect?tk=1bu6rar4q0k4o3iu&amp;jk=7bab775ed55be722&amp;dest=%2Fjobs%3Fq%3Ddata%2Bscientist%26rbt%3DData%2BScientist%26rbc%3DBank%2Bof%2BAmerica%26jtid%3D1872a3288ede048a%26jcid%3D5bd99dfa21c8a490%26grp%3Dtcl\" onmousedown=\"ptk('addlloc');\" rel=\"nofollow\">\n",
      "+1 location</a><table border=\"0\" cellpadding=\"0\" cellspacing=\"0\">\n",
      "<tbody><tr>\n",
      "<td class=\"snip\">\n",
      "<div class=\"\">\n",
      "<span class=\"summary\">\n",
      "Your primary focus will be in applying <b>data</b> science techniques, including machine learning, deep learning, natural language processing, statistical analysis,...</span>\n",
      "</div>\n",
      "\n",
      "\n",
      "<div class=\"result-link-bar-container\">\n",
      "<div class=\"result-link-bar\"><span class=\"date\">16 days ago</span> <span class=\"tt_set\" id=\"tt_set_7\">  -  <a class=\"sl resultLink save-job-link \" href=\"#\" id=\"sj_7bab775ed55be722\" onclick=\"changeJobState('7bab775ed55be722', 'save', 'linkbar', false, ''); return false;\" title=\"Save this job to my.indeed\">save job</a> - <a class=\"sl resultLink more-link \" href=\"#\" id=\"tog_7\" onclick=\"toggleMoreLinks('7bab775ed55be722'); return false;\">more...</a></span><div class=\"edit_note_content\" id=\"editsaved2_7bab775ed55be722\" style=\"display:none;\"></div><script>if (!window['result_7bab775ed55be722']) {window['result_7bab775ed55be722'] = {};}window['result_7bab775ed55be722']['showSource'] = false; window['result_7bab775ed55be722']['source'] = \"Bank of America\"; window['result_7bab775ed55be722']['loggedIn'] = false; window['result_7bab775ed55be722']['showMyJobsLinks'] = false;window['result_7bab775ed55be722']['undoAction'] = \"unsave\";window['result_7bab775ed55be722']['relativeJobAge'] = \"16 days ago\";window['result_7bab775ed55be722']['jobKey'] = \"7bab775ed55be722\"; window['result_7bab775ed55be722']['myIndeedAvailable'] = true; window['result_7bab775ed55be722']['showMoreActionsLink'] = true; window['result_7bab775ed55be722']['resultNumber'] = 7; window['result_7bab775ed55be722']['jobStateChangedToSaved'] = false; window['result_7bab775ed55be722']['searchState'] = \"q=data scientist&amp;\"; window['result_7bab775ed55be722']['basicPermaLink'] = \"https://www.indeed.com\"; window['result_7bab775ed55be722']['saveJobFailed'] = false; window['result_7bab775ed55be722']['removeJobFailed'] = false; window['result_7bab775ed55be722']['requestPending'] = false; window['result_7bab775ed55be722']['notesEnabled'] = true; window['result_7bab775ed55be722']['currentPage'] = \"serp\"; window['result_7bab775ed55be722']['sponsored'] = false;window['result_7bab775ed55be722']['reportJobButtonEnabled'] = false; window['result_7bab775ed55be722']['showMyJobsHired'] = false; window['result_7bab775ed55be722']['showSaveForSponsored'] = false; window['result_7bab775ed55be722']['showJobAge'] = true;</script></div></div>\n",
      "\n",
      "<div class=\"tab-container\">\n",
      "<div class=\"more-links-container result-tab\" id=\"tt_display_7\" style=\"display:none;\"><a class=\"close-link closeLink\" href=\"#\" onclick=\"toggleMoreLinks('7bab775ed55be722'); return false;\" title=\"Close\"></a><div class=\"more_actions\" id=\"more_7\"><ul><li><span class=\"mat\">View all <a href=\"/q-Bank-of-America-l-Charlotte,-NC-jobs.html\" rel=\"nofollow\">Bank of America jobs in Charlotte, NC</a> - <a href=\"/l-Charlotte,-NC-jobs.html\">Charlotte jobs</a></span></li><li><span class=\"mat\">Salary Search: <a href=\"/salaries/Data-Scientist-Salaries,-Charlotte-NC\" onmousedown=\"this.href = appendParamsOnce(this.href, '?campaignid=serp-more&amp;fromjk=7bab775ed55be722&amp;from=serp-more');\">Data Scientist salaries in Charlotte, NC</a></span></li><li><span class=\"mat\">Learn more about working at <a href=\"/cmp/Bank-of-America\" onmousedown=\"this.href = appendParamsOnce(this.href, '?fromjk=7bab775ed55be722&amp;from=serp-more&amp;campaignid=serp-more&amp;jcid=5bd99dfa21c8a490');\">Bank of America</a></span></li><li><span class=\"mat\"><a href=\"/cmp/Bank-of-America/faq\" onmousedown=\"this.href = appendParamsOnce(this.href, '?from=serp-more&amp;campaignid=serp-more&amp;fromjk=7bab775ed55be722&amp;jcid=5bd99dfa21c8a490');\">Bank of America questions about work, benefits, interviews and hiring process:</a><ul><li><a href=\"/cmp/Bank-of-America/faq/what-questions-did-they-ask-during-your-interview?quid=1acdc07i552vga2j\" onmousedown=\"this.href = appendParamsOnce(this.href, '?from=serp-more&amp;campaignid=serp-more&amp;fromjk=7bab775ed55be722&amp;jcid=5bd99dfa21c8a490');\">What questions did they ask during your interview?</a></li><li><a href=\"/cmp/Bank-of-America/faq/do-you-have-to-have-good-credit-to-be-considered?quid=1aumc1oju5naaeub\" onmousedown=\"this.href = appendParamsOnce(this.href, '?from=serp-more&amp;campaignid=serp-more&amp;fromjk=7bab775ed55be722&amp;jcid=5bd99dfa21c8a490');\">Do you have to have good credit to be considered?</a></li></ul></span></li><li><span class=\"mat\">Related forums: <a href=\"/forum/cmp/Bank-of-America.html\">Bank Of America</a> - <a href=\"/forum/loc/Charlotte-North-Carolina.html\">Charlotte, North Carolina</a></span></li></ul></div></div><div class=\"dya-container result-tab\"></div>\n",
      "<div class=\"tellafriend-container result-tab email_job_content\"></div>\n",
      "<div class=\"sign-in-container result-tab\"></div>\n",
      "<div class=\"notes-container result-tab\"></div>\n",
      "</div>\n",
      "\n",
      "</td>\n",
      "</tr>\n",
      "</tbody></table>\n",
      "</div>\n",
      "\n",
      "<div class=\" row result\" data-jk=\"75ce0371d05696de\" data-tn-component=\"organicJob\" id=\"p_75ce0371d05696de\">\n",
      "<h2 class=\"jobtitle\" id=\"jl_75ce0371d05696de\">\n",
      "<a class=\"turnstileLink\" data-tn-element=\"jobTitle\" href=\"/rc/clk?jk=75ce0371d05696de&amp;fccid=1dec991c3c01c67d\" onclick=\"setRefineByCookie([]); return rclk(this,jobmap[8],true,0);\" onmousedown=\"return rclk(this,jobmap[8],0);\" rel=\"noopener nofollow\" target=\"_blank\" title=\"Data Scientist\"><b>Data</b> <b>Scientist</b></a>\n",
      "</h2>\n",
      "<span class=\"company\">\n",
      "<a href=\"/cmp/Tumblr\" onmousedown=\"this.href = appendParamsOnce(this.href, 'from=SERP&amp;campaignid=serp-linkcompanyname&amp;fromjk=75ce0371d05696de&amp;jcid=1dec991c3c01c67d')\" rel=\"noopener\" target=\"_blank\">\n",
      "Tumblr</a></span>\n",
      "\n",
      " - <a class=\"turnstileLink slNoUnderline \" data-tn-element=\"reviewStars\" data-tn-variant=\"cmplinktst2\" href=\"/cmp/Tumblr/reviews\" onmousedown=\"this.href = appendParamsOnce(this.href, '?campaignid=cmplinktst2&amp;from=SERP&amp;jt=Data+Scientist&amp;fromjk=75ce0371d05696de&amp;jcid=1dec991c3c01c67d');\" rel=\"noopener\" target=\"_blank\" title=\"Tumblr reviews\">\n",
      "<span class=\"ratings\"><span class=\"rating\" style=\"width:51.0px\"><!-- --></span></span>\n",
      "<span class=\"slNoUnderline\">10 reviews</span></a>\n",
      " - <span class=\"location\">New York, NY</span>\n",
      "<table border=\"0\" cellpadding=\"0\" cellspacing=\"0\">\n",
      "<tbody><tr>\n",
      "<td class=\"snip\">\n",
      "<div class=\"\">\n",
      "<span class=\"summary\">\n",
      "We want <b>data</b> <b>scientists</b> who know how to use their knowledge and skill with <b>data</b> and statistics to create real, actionable product insights....</span>\n",
      "</div>\n",
      "\n",
      "\n",
      "<div class=\"iaP\">\n",
      "<span class=\"iaLabel\"> Easily apply</span>\n",
      "</div>\n",
      "<div class=\"result-link-bar-container\">\n",
      "<div class=\"result-link-bar\"><span class=\"date\">10 days ago</span> <span class=\"tt_set\" id=\"tt_set_8\">  -  <a class=\"sl resultLink save-job-link \" href=\"#\" id=\"sj_75ce0371d05696de\" onclick=\"changeJobState('75ce0371d05696de', 'save', 'linkbar', false, ''); return false;\" title=\"Save this job to my.indeed\">save job</a> - <a class=\"sl resultLink more-link \" href=\"#\" id=\"tog_8\" onclick=\"toggleMoreLinks('75ce0371d05696de'); return false;\">more...</a></span><div class=\"edit_note_content\" id=\"editsaved2_75ce0371d05696de\" style=\"display:none;\"></div><script>if (!window['result_75ce0371d05696de']) {window['result_75ce0371d05696de'] = {};}window['result_75ce0371d05696de']['showSource'] = false; window['result_75ce0371d05696de']['source'] = \"Tumblr\"; window['result_75ce0371d05696de']['loggedIn'] = false; window['result_75ce0371d05696de']['showMyJobsLinks'] = false;window['result_75ce0371d05696de']['undoAction'] = \"unsave\";window['result_75ce0371d05696de']['relativeJobAge'] = \"10 days ago\";window['result_75ce0371d05696de']['jobKey'] = \"75ce0371d05696de\"; window['result_75ce0371d05696de']['myIndeedAvailable'] = true; window['result_75ce0371d05696de']['showMoreActionsLink'] = true; window['result_75ce0371d05696de']['resultNumber'] = 8; window['result_75ce0371d05696de']['jobStateChangedToSaved'] = false; window['result_75ce0371d05696de']['searchState'] = \"q=data scientist&amp;\"; window['result_75ce0371d05696de']['basicPermaLink'] = \"https://www.indeed.com\"; window['result_75ce0371d05696de']['saveJobFailed'] = false; window['result_75ce0371d05696de']['removeJobFailed'] = false; window['result_75ce0371d05696de']['requestPending'] = false; window['result_75ce0371d05696de']['notesEnabled'] = true; window['result_75ce0371d05696de']['currentPage'] = \"serp\"; window['result_75ce0371d05696de']['sponsored'] = false;window['result_75ce0371d05696de']['reportJobButtonEnabled'] = false; window['result_75ce0371d05696de']['showMyJobsHired'] = false; window['result_75ce0371d05696de']['showSaveForSponsored'] = false; window['result_75ce0371d05696de']['showJobAge'] = true;</script></div></div>\n",
      "\n",
      "<div class=\"tab-container\">\n",
      "<div class=\"more-links-container result-tab\" id=\"tt_display_8\" style=\"display:none;\"><a class=\"close-link closeLink\" href=\"#\" onclick=\"toggleMoreLinks('75ce0371d05696de'); return false;\" title=\"Close\"></a><div class=\"more_actions\" id=\"more_8\"><ul><li><span class=\"mat\">View all <a href=\"/q-Tumblr-l-New-York,-NY-jobs.html\" rel=\"nofollow\">Tumblr jobs in New York, NY</a> - <a href=\"/l-New-York,-NY-jobs.html\">New York jobs</a></span></li><li><span class=\"mat\">Salary Search: <a href=\"/salaries/Data-Scientist-Salaries,-New-York-NY\" onmousedown=\"this.href = appendParamsOnce(this.href, '?campaignid=serp-more&amp;fromjk=75ce0371d05696de&amp;from=serp-more');\">Data Scientist salaries in New York, NY</a></span></li><li><span class=\"mat\">Learn more about working at <a href=\"/cmp/Tumblr\" onmousedown=\"this.href = appendParamsOnce(this.href, '?fromjk=75ce0371d05696de&amp;from=serp-more&amp;campaignid=serp-more&amp;jcid=1dec991c3c01c67d');\">Tumblr</a></span></li><li><span class=\"mat\">Related forums: <a href=\"/forum/cmp/Tumblr.html\">Tumblr</a> - <a href=\"/forum/loc/New-York-New-York.html\">New York, New York</a></span></li></ul></div></div><div class=\"dya-container result-tab\"></div>\n",
      "<div class=\"tellafriend-container result-tab email_job_content\"></div>\n",
      "<div class=\"sign-in-container result-tab\"></div>\n",
      "<div class=\"notes-container result-tab\"></div>\n",
      "</div>\n",
      "\n",
      "</td>\n",
      "</tr>\n",
      "</tbody></table>\n",
      "</div>\n",
      "\n",
      "<div class=\"lastRow row result\" data-jk=\"eda999e73ffa9bf2\" data-tn-component=\"organicJob\" id=\"p_eda999e73ffa9bf2\">\n",
      "<h2 class=\"jobtitle\" id=\"jl_eda999e73ffa9bf2\">\n",
      "<a class=\"turnstileLink\" data-tn-element=\"jobTitle\" href=\"/rc/clk?jk=eda999e73ffa9bf2&amp;fccid=0c39fb2c91742dcf\" onclick=\"setRefineByCookie([]); return rclk(this,jobmap[9],true,0);\" onmousedown=\"return rclk(this,jobmap[9],0);\" rel=\"noopener nofollow\" target=\"_blank\" title=\"Associate, Data Scientist\">Associate, <b>Data</b> <b>Scientist</b></a>\n",
      "</h2>\n",
      "<span class=\"company\">\n",
      "<a href=\"/cmp/Morgan-Stanley\" onmousedown=\"this.href = appendParamsOnce(this.href, 'from=SERP&amp;campaignid=serp-linkcompanyname&amp;fromjk=eda999e73ffa9bf2&amp;jcid=0c39fb2c91742dcf')\" rel=\"noopener\" target=\"_blank\">\n",
      "Morgan Stanley</a></span>\n",
      "\n",
      " - <a class=\"turnstileLink slNoUnderline \" data-tn-element=\"reviewStars\" data-tn-variant=\"cmplinktst2\" href=\"/cmp/Morgan-Stanley/reviews\" onmousedown=\"this.href = appendParamsOnce(this.href, '?campaignid=cmplinktst2&amp;from=SERP&amp;jt=Associate%2C+Data+Scientist&amp;fromjk=eda999e73ffa9bf2&amp;jcid=0c39fb2c91742dcf');\" rel=\"noopener\" target=\"_blank\" title=\"Morgan Stanley reviews\">\n",
      "<span class=\"ratings\"><span class=\"rating\" style=\"width:44.4px\"><!-- --></span></span>\n",
      "<span class=\"slNoUnderline\">2,102 reviews</span></a>\n",
      " - <span class=\"location\">New York, NY 10032 <span style=\"font-size: smaller\">(Washington Heights area)</span></span>\n",
      "<table border=\"0\" cellpadding=\"0\" cellspacing=\"0\">\n",
      "<tbody><tr>\n",
      "<td class=\"snip\">\n",
      "<div class=\"\">\n",
      "<span class=\"summary\">\n",
      "Utilize experience in applying Machine Learning techniques to solve business problems such as fraud/anomaly detection, pattern recognition, classification, and...</span>\n",
      "</div>\n",
      "\n",
      "\n",
      "<div class=\"result-link-bar-container\">\n",
      "<div class=\"result-link-bar\"><span class=\"date\">16 days ago</span> <span class=\"tt_set\" id=\"tt_set_9\">  -  <a class=\"sl resultLink save-job-link \" href=\"#\" id=\"sj_eda999e73ffa9bf2\" onclick=\"changeJobState('eda999e73ffa9bf2', 'save', 'linkbar', false, ''); return false;\" title=\"Save this job to my.indeed\">save job</a> - <a class=\"sl resultLink more-link \" href=\"#\" id=\"tog_9\" onclick=\"toggleMoreLinks('eda999e73ffa9bf2'); return false;\">more...</a></span><div class=\"edit_note_content\" id=\"editsaved2_eda999e73ffa9bf2\" style=\"display:none;\"></div><script>if (!window['result_eda999e73ffa9bf2']) {window['result_eda999e73ffa9bf2'] = {};}window['result_eda999e73ffa9bf2']['showSource'] = false; window['result_eda999e73ffa9bf2']['source'] = \"Morgan Stanley\"; window['result_eda999e73ffa9bf2']['loggedIn'] = false; window['result_eda999e73ffa9bf2']['showMyJobsLinks'] = false;window['result_eda999e73ffa9bf2']['undoAction'] = \"unsave\";window['result_eda999e73ffa9bf2']['relativeJobAge'] = \"16 days ago\";window['result_eda999e73ffa9bf2']['jobKey'] = \"eda999e73ffa9bf2\"; window['result_eda999e73ffa9bf2']['myIndeedAvailable'] = true; window['result_eda999e73ffa9bf2']['showMoreActionsLink'] = true; window['result_eda999e73ffa9bf2']['resultNumber'] = 9; window['result_eda999e73ffa9bf2']['jobStateChangedToSaved'] = false; window['result_eda999e73ffa9bf2']['searchState'] = \"q=data scientist&amp;\"; window['result_eda999e73ffa9bf2']['basicPermaLink'] = \"https://www.indeed.com\"; window['result_eda999e73ffa9bf2']['saveJobFailed'] = false; window['result_eda999e73ffa9bf2']['removeJobFailed'] = false; window['result_eda999e73ffa9bf2']['requestPending'] = false; window['result_eda999e73ffa9bf2']['notesEnabled'] = true; window['result_eda999e73ffa9bf2']['currentPage'] = \"serp\"; window['result_eda999e73ffa9bf2']['sponsored'] = false;window['result_eda999e73ffa9bf2']['reportJobButtonEnabled'] = false; window['result_eda999e73ffa9bf2']['showMyJobsHired'] = false; window['result_eda999e73ffa9bf2']['showSaveForSponsored'] = false; window['result_eda999e73ffa9bf2']['showJobAge'] = true;</script></div></div>\n",
      "\n",
      "<div class=\"tab-container\">\n",
      "<div class=\"more-links-container result-tab\" id=\"tt_display_9\" style=\"display:none;\"><a class=\"close-link closeLink\" href=\"#\" onclick=\"toggleMoreLinks('eda999e73ffa9bf2'); return false;\" title=\"Close\"></a><div class=\"more_actions\" id=\"more_9\"><ul><li><span class=\"mat\">View all <a href=\"/q-Morgan-Stanley-l-New-York,-NY-jobs.html\" rel=\"nofollow\">Morgan Stanley jobs in New York, NY</a> - <a href=\"/l-New-York,-NY-jobs.html\">New York jobs</a></span></li><li><span class=\"mat\">Salary Search: <a href=\"/salaries/Data-Scientist-Salaries,-New-York-NY\" onmousedown=\"this.href = appendParamsOnce(this.href, '?campaignid=serp-more&amp;fromjk=eda999e73ffa9bf2&amp;from=serp-more');\">Data Scientist salaries in New York, NY</a></span></li><li><span class=\"mat\">Learn more about working at <a href=\"/cmp/Morgan-Stanley\" onmousedown=\"this.href = appendParamsOnce(this.href, '?fromjk=eda999e73ffa9bf2&amp;from=serp-more&amp;campaignid=serp-more&amp;jcid=0c39fb2c91742dcf');\">Morgan Stanley</a></span></li><li><span class=\"mat\"><a href=\"/cmp/Morgan-Stanley/faq\" onmousedown=\"this.href = appendParamsOnce(this.href, '?from=serp-more&amp;campaignid=serp-more&amp;fromjk=eda999e73ffa9bf2&amp;jcid=0c39fb2c91742dcf');\">Morgan Stanley questions about work, benefits, interviews and hiring process:</a><ul><li><a href=\"/cmp/Morgan-Stanley/faq/what-is-the-interview-process-like?quid=1amcekue5b89h9aa\" onmousedown=\"this.href = appendParamsOnce(this.href, '?from=serp-more&amp;campaignid=serp-more&amp;fromjk=eda999e73ffa9bf2&amp;jcid=0c39fb2c91742dcf');\">What is the interview process like?</a></li><li><a href=\"/cmp/Morgan-Stanley/faq/how-long-it-take-to-get-clear-a-background-check?quid=1biea83k70mt73im\" onmousedown=\"this.href = appendParamsOnce(this.href, '?from=serp-more&amp;campaignid=serp-more&amp;fromjk=eda999e73ffa9bf2&amp;jcid=0c39fb2c91742dcf');\">How long it take to get clear a background check</a></li></ul></span></li><li><span class=\"mat\">Related forums:  - <a href=\"/forum/loc/New-York-New-York.html\">New York, New York</a> - <a href=\"/forum/cmp/Morgan-Stanley.html\">Morgan Stanley</a></span></li></ul></div></div><div class=\"dya-container result-tab\"></div>\n",
      "<div class=\"tellafriend-container result-tab email_job_content\"></div>\n",
      "<div class=\"sign-in-container result-tab\"></div>\n",
      "<div class=\"notes-container result-tab\"></div>\n",
      "</div>\n",
      "\n",
      "</td>\n",
      "</tr>\n",
      "</tbody></table>\n",
      "</div>\n",
      "\n",
      "<script type=\"text/javascript\">\n",
      "function ptk(st,p) {\n",
      "document.cookie = 'PTK=\"tk=&type=jobsearch&subtype=' + st + (p ? '&' + p : '')\n",
      " + (st == 'pagination' ? '&fp=1' : '')\n",
      "+'\"; path=/';\n",
      "}\n",
      "</script>\n",
      "<script type=\"text/javascript\">\n",
      "function pclk(event) {\n",
      "var evt = event || window.event;\n",
      "var target = evt.target || evt.srcElement;\n",
      "var el = target.nodeType == 1 ? target : target.parentNode;\n",
      "var tag = el.tagName.toLowerCase();\n",
      "if (tag == 'span' || tag == 'a') {\n",
      "ptk('pagination');\n",
      "}\n",
      "return true;\n",
      "}\n",
      "function addPPUrlParam(obj) {\n",
      "var pp = obj.getAttribute('data-pp');\n",
      "var href = obj.getAttribute('href');\n",
      "if (pp && href) {\n",
      "obj.setAttribute('href', href + '&pp=' + pp);\n",
      "}\n",
      "}\n",
      "</script>\n",
      "<div class=\"pagination\" onmousedown=\"pclk(event);\">Results Page:  <b>1</b>  <a data-pp=\"AAoAAAAAAAAAAAAAAAEhxvFEAQAt7r6tVMWy0FVtkq6K0rwaoYm4m8OYij8mag\" href=\"/jobs?q=data+scientist&amp;start=10\" onmousedown=\"addPPUrlParam &amp;&amp; addPPUrlParam(this);\"><span class=\"pn\">2</span></a>  <a data-pp=\"ABQAAAAAAAAAAAAAAAEhxvFEAQEBCAYEm5WyAmgJtl4odS87qYq5d939RNbCkoJe12StpcRzTqDKCfxJYwzC6P7Epxw\" href=\"/jobs?q=data+scientist&amp;start=20\" onmousedown=\"addPPUrlParam &amp;&amp; addPPUrlParam(this);\"><span class=\"pn\">3</span></a>  <a data-pp=\"AB4AAAAAAAAAAAAAAAEhxvFEAQEBDAVszitcRqbrkjBWrfAvg-B2Fx6zn98Mso596K3J4oEjxq_o9dqEn7p6-oz_w1ZpF1bedaHG34jjI4E6\" href=\"/jobs?q=data+scientist&amp;start=30\" onmousedown=\"addPPUrlParam &amp;&amp; addPPUrlParam(this);\"><span class=\"pn\">4</span></a>  <a data-pp=\"ACgAAAAAAAAAAAAAAAEhxvFEAQEBDQJSFLWTraqrm7lfQGGVDfXvv8CW_AQ8m95BGrUwgiU7vobE1dTkv65ywU9pE5DP5MIbrSqmw_kkjXQEypwkQDPe9fVUOwExlEbPcbU\" href=\"/jobs?q=data+scientist&amp;start=40\" onmousedown=\"addPPUrlParam &amp;&amp; addPPUrlParam(this);\"><span class=\"pn\">5</span></a>   <a data-pp=\"AAoAAAAAAAAAAAAAAAEhxvFEAQAt7r6tVMWy0FVtkq6K0rwaoYm4m8OYij8mag\" href=\"/jobs?q=data+scientist&amp;start=10\" onmousedown=\"addPPUrlParam &amp;&amp; addPPUrlParam(this);\"><span class=\"pn\"><span class=\"np\">Next »</span></span></a></div>\n",
      "<div class=\"related_searches\">\n",
      "<div class=\"related_searches_list\">\n",
      "<b>People also searched: </b><ul class=\"relatedQueries-listView-pageFirst\"><li class=\"relatedQueries-listItem-pageFirst rightBorder\"><a href=\"/q-Data-Analyst-jobs.html?from=relatedQueries&amp;saIdx=1&amp;rqf=1&amp;parentQnorm=data%2Bscientist\">data analyst</a></li><li class=\"relatedQueries-listItem-pageFirst rightBorder\"><a href=\"/q-Data-Science-jobs.html?from=relatedQueries&amp;saIdx=2&amp;rqf=1&amp;parentQnorm=data%2Bscientist\">data science</a></li><li class=\"relatedQueries-listItem-pageFirst rightBorder\"><a href=\"/q-Machine-Learning-jobs.html?from=relatedQueries&amp;saIdx=3&amp;rqf=1&amp;parentQnorm=data%2Bscientist\">machine learning</a></li><li class=\"relatedQueries-listItem-pageFirst rightBorder\"><a href=\"/q-Data-jobs.html?from=relatedQueries&amp;saIdx=4&amp;rqf=1&amp;parentQnorm=data%2Bscientist\">data</a></li><li class=\"relatedQueries-listItem-pageFirst rightBorder\"><a href=\"/q-Software-Engineer-jobs.html?from=relatedQueries&amp;saIdx=5&amp;rqf=1&amp;parentQnorm=data%2Bscientist\">software engineer</a></li><li class=\"relatedQueries-listItem-pageFirst rightBorder\"><a href=\"/q-Statistics-jobs.html?from=relatedQueries&amp;saIdx=6&amp;rqf=1&amp;parentQnorm=data%2Bscientist\">statistics</a></li><li class=\"relatedQueries-listItem-pageFirst rightBorder\"><a href=\"/q-Business-Analyst-jobs.html?from=relatedQueries&amp;saIdx=7&amp;rqf=1&amp;parentQnorm=data%2Bscientist\">business analyst</a></li><li class=\"relatedQueries-listItem-pageFirst rightBorder\"><a href=\"/q-Python-jobs.html?from=relatedQueries&amp;saIdx=8&amp;rqf=1&amp;parentQnorm=data%2Bscientist\">python</a></li><li class=\"relatedQueries-listItem-pageFirst rightBorder\"><a href=\"/q-Statistician-jobs.html?from=relatedQueries&amp;saIdx=9&amp;rqf=1&amp;parentQnorm=data%2Bscientist\">statistician</a></li><li class=\"relatedQueries-listItem-pageFirst\"><a href=\"/q-Analyst-jobs.html?from=relatedQueries&amp;saIdx=10&amp;rqf=1&amp;parentQnorm=data%2Bscientist\">analyst</a></li></ul></div>\n",
      "<style type=\"text/css\">\n",
      ".relatedQueries-listView-pageFirst {\n",
      "list-style-type: none;\n",
      "margin: 0;\n",
      "padding: 0;\n",
      "}\n",
      ".relatedQueries-listItem-pageFirst {\n",
      "display: inline-block;\n",
      "}\n",
      ".rightBorder {\n",
      "border-right: 1px solid #77c;\n",
      "margin-right: 5px;\n",
      "padding-right: 5px;\n",
      "}\n",
      ".related_searches_list > * {\n",
      "display: inline;\n",
      "}\n",
      "</style>\n",
      "</div> </td>\n",
      "<td id=\"auxCol\" role=\"complementary\">\n",
      "<div id=\"jobalertswrapper\">\n",
      "<div class=\"open jaui \" id=\"jobalerts\">\n",
      "<div class=\"jobalertlabel\">\n",
      "<span class=\"jobalerts_title\" id=\"jobalertlabel\"><span aria-label=\"alert icon\" class=\"ico\" role=\"img\"></span>Be the first to see new <b>data scientist jobs</b></span>\n",
      "</div>\n",
      "<div class=\"jaform\" id=\"jobalertform\">\n",
      "<span class=\"ja_checkmark_ui\" id=\"jobalerttext\"></span><span id=\"jobalertsending\"></span>\n",
      "<div id=\"jobalertmessage\">\n",
      "<form action=\"/alert\" method=\"POST\" onsubmit=\"return addalertdelegate('data+scientist','','',this.email.value,'1bu6rar4q0k4o3iu', this.verified.value, true, '661982', 'US', '7ca425bc97a332cad97ebe5c6a8334ce', this.recjobalert.checked, false, false, true);\">\n",
      "<input name=\"a\" type=\"hidden\" value=\"add\"/>\n",
      "<input name=\"q\" type=\"hidden\" value=\"data scientist\"/>\n",
      "<input name=\"l\" type=\"hidden\" value=\"\"/>\n",
      "<input name=\"radius\" type=\"hidden\" value=\"25\"/>\n",
      "<input name=\"noscript\" type=\"hidden\" value=\"1\"/>\n",
      "<input name=\"tk\" type=\"hidden\" value=\"1bu6rar4q0k4o3iu\"/>\n",
      "<input id=\"alertverified\" name=\"verified\" type=\"hidden\" value=\"0\"/>\n",
      "<input name=\"alertparams\" type=\"hidden\" value=\"\"/>\n",
      "<label for=\"alertemail\">My email:</label> <input id=\"alertemail\" maxlength=\"100\" name=\"email\" size=\"25\" type=\"text\" value=\"\"/>\n",
      "<label for=\"recjobalert\" id=\"recjobalertlabel\">\n",
      "<input checked=\"\" id=\"recjobalert\" name=\"recjobalert\" type=\"checkbox\"/>\n",
      "<span>Also get an email with jobs recommended just for me</span>\n",
      "</label>\n",
      "<span class=\"indeed-serp-button\"><span class=\"indeed-serp-button-inner\"><input class=\"indeed-serp-button-label\" id=\"alertsubmit\" type=\"submit\" value=\"Activate\"/></span></span>\n",
      "<style type=\"text/css\">\n",
      ".indeed-serp-button { cursor : pointer !important; display : inline-block !important; padding : 1px !important; height : 31px !important; -moz-border-radius : 7px !important; border-radius : 7px !important; position : relative !important; text-decoration : none !important;background-color:#79788B; filter:progid:DXImageTransform.Microsoft.gradient(startColorstr='#BCBBCD', endColorstr='#79788B', GradientType=0);background-image: -webkit-gradient(linear, center top, center bottom, from(#BCBBCD), to(#79788B)) !important;background-image: -webkit-linear-gradient(top, #BCBBCD, #79788B) !important;background-image: -moz-linear-gradient(top, #BCBBCD, #79788B) !important;background-image: -o-linear-gradient(top, #BCBBCD, #79788B) !important;background-image: -ms-linear-gradient(top, #BCBBCD, #79788B) !important;background-image: linear-gradient(top, #BCBBCD, #79788B) !important;-webkit-box-shadow: 0 1px 2px rgba(0,0,0,0.2) !important;-moz-box-shadow: 0 1px 2px rgba(0,0,0,0.2) !important;box-shadow: 0 1px 2px rgba(0,0,0,0.2) !important; } #indeed-ia-1329175190441-0:link, #indeed-ia-1329175190441-0:visited, #indeed-ia-1329175190441-0:hover, #indeed-ia-1329175190441-0:active { border : 0 !important; text-decoration : none !important; }\n",
      "\n",
      ".indeed-serp-button:hover { filter:progid:DXImageTransform.Microsoft.gradient(startColorstr='#6D99F6', endColorstr='#1B45A3', GradientType=0);background-image: -webkit-gradient(linear, center top, center bottom, from(#6D99F6), to(#1B45A3)) !important;background-image: -webkit-linear-gradient(top, #6D99F6, #1B45A3) !important;background-image: -moz-linear-gradient(top, #6D99F6, #1B45A3) !important;background-image: -o-linear-gradient(top, #6D99F6, #1B45A3) !important;background-image: -ms-linear-gradient(top, #6D99F6, #1B45A3) !important;background-image: linear-gradient(top, #6D99F6, #1B45A3) !important; }\n",
      "\n",
      ".indeed-apply-state-clicked .indeed-serp-button,\n",
      ".indeed-serp-button:active { filter:progid:DXImageTransform.Microsoft.gradient(startColorstr='#B3BACA', endColorstr='#7C8493', GradientType=0);background-image: -webkit-gradient(linear, center top, center bottom, from(#B3BACA), to(#7C8493)) !important;background-image: -webkit-linear-gradient(top, #B3BACA, #7C8493) !important;background-image: -moz-linear-gradient(top, #B3BACA, #7C8493) !important;background-image: -o-linear-gradient(top, #B3BACA, #7C8493) !important;background-image: -ms-linear-gradient(top, #B3BACA, #7C8493) !important;background-image: linear-gradient(top, #B3BACA, #7C8493) !important;-webkit-box-shadow: none !important;-moz-box-shadow: none !important;box-shadow: none !important; }\n",
      "\n",
      ".indeed-serp-button-inner { display : inline-block !important; height : 31px !important; -moz-border-radius : 6px !important; border-radius : 6px !important; font : 18px 'Helvetica Neue','Helvetica',Arial !important; font-weight : 200 !important; text-decoration : none !important; text-shadow : 0px 1px #F1F1F4 !important;background-color:#D9D9E2;  color: #FF6703;filter:progid:DXImageTransform.Microsoft.gradient(startColorstr='#FAFAFB', endColorstr='#D9D9E2', GradientType=0);background-image: -webkit-gradient(linear, center top, center bottom, from(#FAFAFB), to(#D9D9E2)) !important;background-image: -webkit-linear-gradient(top, #FAFAFB, #D9D9E2) !important;background-image: -moz-linear-gradient(top, #FAFAFB, #D9D9E2) !important;background-image: -o-linear-gradient(top, #FAFAFB, #D9D9E2) !important;background-image: -ms-linear-gradient(top, #FAFAFB, #D9D9E2) !important;background-image: linear-gradient(top, #FAFAFB, #D9D9E2) !important; }\n",
      "\n",
      ".indeed-serp-button:active .indeed-serp-button-inner { filter:progid:DXImageTransform.Microsoft.gradient(startColorstr='#E8E8E9', endColorstr='#CBCBD3', GradientType=0);background-image: -webkit-gradient(linear, center top, center bottom, from(#E8E8E9), to(#CBCBD3)) !important;background-image: -webkit-linear-gradient(top, #E8E8E9, #CBCBD3) !important;background-image: -moz-linear-gradient(top, #E8E8E9, #CBCBD3) !important;background-image: -o-linear-gradient(top, #E8E8E9, #CBCBD3) !important;background-image: -ms-linear-gradient(top, #E8E8E9, #CBCBD3) !important;background-image: linear-gradient(top, #E8E8E9, #CBCBD3) !important; }\n",
      "\n",
      ".indeed-serp-button-label {cursor: pointer; text-align : center !important; border:0; background: transparent;font-size: 12px; font-family: Arial, sans-serif; padding:3px 14px 2px 12px; margin:0; line-height: 26px; }\n",
      "\n",
      ".indeed-serp-button:active .indeed-serp-button-label,\n",
      ".indeed-apply-state-clicked .indeed-serp-button-label { -ms-filter: \"progid:DXImageTransform.Microsoft.Alpha(Opacity=0.75)\" !important;filter: alpha(opacity=75) !important;-moz-opacity: 0.75 !important;-khtml-opacity: 0.75 !important;opacity: 0.75 !important; }\n",
      "\n",
      "#alertemail {  height: 27px; line-height: 24px; padding-left: 6px; padding-right: 6px; font-size: 14px; font-family: Arial, sans-serif; }\n",
      "\n",
      ".jobalertform-terms-outer-wrapper label {  position: fixed;  font-size: 1px;  transform: scale(0.3);  }\n",
      "\n",
      ".jobalertform-terms-inner-wrapper {  position: relative;  z-index: 20;  width: 50%;  background: #ebebeb;  height: 12px;  }\n",
      "</style>\n",
      "</form>\n",
      "</div>\n",
      "</div>\n",
      "</div>\n",
      "</div><div id=\"univsrch-salary-v3\"><div id=\"univsrch-salary-info\"><div id=\"univsrch-salary-title\">Data Scientist salaries in United States</div><div id=\"univsrch-salary-eval\"><div class=\"v3\" id=\"univsrch-salary-rates\"><p class=\"v3\" id=\"univsrch-salary-currentsalary\"><b>$130,543</b> per year</p></div><div class=\"v3\" id=\"univsrch-salary-stats\"><p class=\"v3\" id=\"univsrch-salary-stats-para\">Based on 40,689 salaries</p></div><div id=\"univsrch-sal-distribution\"><ul><li style=\"height:66.11168827994148%; width:9.2%; left:0.0%;\"></li><li style=\"height:81.97290266627483%; width:9.2%; left:10.088999999999999%;\"></li><li style=\"height:89.98902734863815%; width:9.2%; left:20.177999999999997%;\"></li><li class=\"univsrch-sal-highlight\" style=\"height:90.0%; width:9.2%; left:30.266999999999996%;\"></li><li style=\"height:83.72566274464384%; width:9.2%; left:40.355999999999995%;\"></li><li style=\"height:73.57857067206763%; width:9.2%; left:50.44499999999999%;\"></li><li style=\"height:61.80238820682595%; width:9.2%; left:60.53399999999999%;\"></li><li style=\"height:50.06487510036338%; width:9.2%; left:70.62299999999999%;\"></li><li style=\"height:39.390222880761705%; width:9.2%; left:80.71199999999999%;\"></li><li style=\"height:30.26797322472475%; width:9.2%; left:90.80099999999999%;\"></li></ul><div class=\"univsrch-sal-min univsrch-sal-caption float-left\"><div class=\"float-left\" style=\"width: 13.07px;\"></div><span>Min<br/>$45,000</span></div><div class=\"univsrch-sal-max univsrch-sal-caption float-right\"><div class=\"float-right\" style=\"width: 13.07px;\"></div><span>Max<br/>$258,000</span></div></div><div id=\"univsrch-salary-link\"><a href=\"/salaries/Data-Scientist-Salaries\" onmousedown=\"this.href = appendParamsOnce(this.href, 'from=serpsalaryblock');\" title=\"Data Scientist salaries by company in United States\">Data Scientist salaries by company in United States</a></div></div></div></div><script type=\"text/javascript\">usBindSalaryWidgetLoggingNew();</script></td></tr>\n",
      "</tbody></table>\n",
      "\n",
      "<div class=\"prime-popover\" id=\"prime-popover-background\">\n",
      "</div>\n",
      "\n",
      "<div class=\"prime-popover\" data-logging-url=\"https://www.indeed.com/imgping?type=primepromo&amp;keyword=data scientist&amp;location=&amp;vertical=TECH&amp;promo=primepopover&amp;tk=1bu6rar4q0k4o3iu\" id=\"prime-popover-div\">\n",
      "<div id=\"prime-popover-x\">\n",
      "<button aria-label=\"close\" id=\"prime-popover-close-button\"><span>×</span></button>\n",
      "</div>\n",
      "<style type=\"text/css\">\n",
      "#prime_promo_logos {\n",
      "width: 620px;\n",
      "height: 436px;\n",
      "}\n",
      "\n",
      "#prime_promo_logos .heading_logo_div {\n",
      "margin: 30px 0 24px 0;\n",
      "text-align: center;\n",
      "}\n",
      "\n",
      "#prime_promo_logos .heading_logo_div .heading_logo {\n",
      "max-height: 50px;\n",
      "vertical-align: middle;\n",
      "}\n",
      "\n",
      "#prime_promo_logos .heading {\n",
      "font-size: 24px;\n",
      "color: #ff6600;\n",
      "text-align: center;\n",
      "line-height: 26px;\n",
      "}\n",
      "\n",
      "#prime_promo_logos .subheading {\n",
      "font-size: 15px;\n",
      "color: #666666;\n",
      "text-align: center;\n",
      "margin-top: 15px;\n",
      "margin-bottom: 25px;\n",
      "}\n",
      "\n",
      "#prime_promo_logos .content {\n",
      "background: #F8F8F8;\n",
      "}\n",
      "\n",
      "#prime_promo_logos .content .legal {\n",
      "font-size: 11px;\n",
      "color: #666666;\n",
      "padding-top: 15px;\n",
      "padding-bottom: 20px;\n",
      "text-align: center;\n",
      "}\n",
      "\n",
      "#prime_promo_logos .apply_div {\n",
      "margin-top: 22px;\n",
      "margin-bottom: 31px;\n",
      "}\n",
      "\n",
      "#learnMore {\n",
      "color: #FFFFFF;\n",
      "text-decoration: none !important;\n",
      "font-size: 18px;\n",
      "font-weight: bold;\n",
      "}\n",
      "\n",
      "#learnMore:hover,  #learnMore:focus {\n",
      "text-decoration: none !important;\n",
      "}\n",
      "\n",
      "#prime_promo_logos .logo_div div {\n",
      "display: inline-block;\n",
      "width: 144px;\n",
      "height: 35px;\n",
      "text-align: center;\n",
      "}\n",
      "\n",
      "#prime_promo_logos .logo {\n",
      "padding: 0 22.5px 0 22.5px;\n",
      "max-width: 576px;\n",
      "max-height: 94px;\n",
      "}\n",
      "\n",
      "#prime_promo_logos .logo_center_helper {\n",
      "display: inline-block;\n",
      "height: 100%;\n",
      "vertical-align: middle;\n",
      "}\n",
      "\n",
      "#learnMore_div {\n",
      "text-align: center;\n",
      "}\n",
      "#hiddenPrimeButton {\n",
      "height: 0;\n",
      "border: 0;\n",
      "width: 0;\n",
      "padding: 0;\n",
      "}\n",
      "</style>\n",
      "<div id=\"prime_promo_logos\">\n",
      "<div class=\"heading_logo_div\">\n",
      "<span class=\"logo_center_helper\"></span>\n",
      "<img alt=\"Indeed Prime\" class=\"heading_logo\" src=\"/images/prime/indeed_prime_logo.png\"/>\n",
      "</div>\n",
      "<div class=\"heading\"><b>3 minutes</b> could get you</div>\n",
      "<div class=\"heading\"><b>10 offers</b> from top tech companies</div>\n",
      "<div class=\"apply_div\" id=\"learnMore_div\">\n",
      "<button autofocus=\"\" id=\"hiddenPrimeButton\" tabindex=\"-1\"></button>\n",
      "<a class=\"roundedCorner indeedblue\" href=\"/promo/prime\" id=\"learnMore\" onclick=\"this.href = appendParamsOnce( this.href, '?from=primepopover&amp;subfrom=primepopover&amp;trk.origin=jobsearch&amp;trk.variant=primepopover&amp;trk.tk=1bu6rar4q0k4o3iu&amp;vertical=TECH&amp;x_isid=primepopover&amp;x_ikw=data+scientist&amp;x_sid=primepopover&amp;x_kw=data+scientist')\" role=\"button\">Learn More</a>\n",
      "</div>\n",
      "<div class=\"content\">\n",
      "<div class=\"logo_div\">\n",
      "<div>\n",
      "<span class=\"logo_center_helper\"></span>\n",
      "<img alt=\"Dropbox, Evernote, Facebook, Redfin, Twilio, Uber, Slack... and more!\" class=\"logo\" src=\"/images/prime/cmp-logos.png\"/>\n",
      "</div>\n",
      "</div>\n",
      "<div class=\"legal\">Representative Companies Using Indeed Prime</div>\n",
      "</div>\n",
      "</div>\n",
      "</div>\n",
      "\n",
      "<style type=\"text/css\">\n",
      "#prime-popover-background {\n",
      "z-index: 2;\n",
      "background: #000000;\n",
      "width: 100%;\n",
      "height: 100%;\n",
      "opacity: .30;\n",
      "filter: alpha(opacity=30);\n",
      "top: 0;\n",
      "}\n",
      "#prime-popover-x {\n",
      "float: right;\n",
      "margin: 1px 1px 0 0;\n",
      "cursor: pointer;\n",
      "font-weight: bold;\n",
      "font-size: 18px;\n",
      "color: #666;\n",
      "}\n",
      "#prime-popover-close-button {\n",
      "background:none;\n",
      "border:none;\n",
      "font-weight: bold;\n",
      "font-size: 18px;\n",
      "color: #666;\n",
      "}\n",
      "#prime-popover-close-button:hover {\n",
      "cursor: pointer;\n",
      "}\n",
      ".prime-popover {\n",
      "position: fixed;\n",
      "display: none;\n",
      "}\n",
      "#prime-popover-div {\n",
      "z-index: 3;\n",
      "height: auto;\n",
      "width: auto;\n",
      "background: #ffffff;\n",
      "display: none; /*hide before the cookie check*/\n",
      "max-width: 620px;\n",
      "}\n",
      "\n",
      "#prime_promo {\n",
      "background:#ffffff\n",
      "}\n",
      "</style>\n",
      "<script type=\"text/javascript\">\n",
      "window['primePopoverShown'] = 'popover';\n",
      "</script>\n",
      "<script>\n",
      "var focusHandlers = [];\n",
      "var linkHighlighter = new LinkHighlighter();\n",
      "focusHandlers.push(googBind(linkHighlighter.fadeToOriginalColor, linkHighlighter));\n",
      "var lostFocusHandlers = [];\n",
      "lostFocusHandlers.push(googBind(linkHighlighter.clickedAway, linkHighlighter, \"#551a8b\"));\n",
      "\n",
      "if (!showVjOnSerp) {\n",
      "    var didYouApplyPrompt = new DidYouApplyPrompt('1bu6rar4q0k4o3iu', 60, 'serp',\n",
      "        false);\n",
      "    focusHandlers.push(googBind(didYouApplyPrompt.returnedToPage, didYouApplyPrompt));\n",
      "    lostFocusHandlers.push(googBind(didYouApplyPrompt.leftPage, didYouApplyPrompt));\n",
      "    didYouApplyPrompt.dyaChangeFromCookie();\n",
      "}\n",
      "var clickTime = new ClickTime(window.tk, 'serp', 'jobtitle', focusHandlers, lostFocusHandlers);\n",
      "</script>\n",
      "\n",
      "<script>usBindRightRailLogging();</script>\n",
      "<script type=\"text/javascript\">\n",
      "    floatJobAlert();\n",
      "</script>\n",
      "<style type=\"text/css\">\n",
      "#secondary_nav a,#secondary_nav a:link,#secondary_nav a:visited{color:#77c;text-decoration:none}#secondary_nav a:hover{text-decoration:underline}</style>\n",
      "<!-- jobs -->\n",
      "<div id=\"footerWrapper\" role=\"contentinfo\" style=\"text-align:center;\">\n",
      "\n",
      "<div id=\"footer\" style=\"text-align:left;\">\n",
      "\n",
      "<div class=\"separator_bottom\"></div>\n",
      "<div id=\"secondary_nav\">\n",
      "\n",
      "<div style=\"margin: 1em;\"><span class=\"gaj_heading\">Indeed helps people get jobs:</span> <a class=\"sl\" href=\"/promo/gotajob\" onmousedown=\"null\">Over 10 million stories shared</a></div><div style=\"text-align:center; padding:1em;\">For jobs in the Czech Republic, visit <a href=\"http://cz.indeed.com/\">cz.indeed.com</a></div><a href=\"/\" id=\"jobs_product_link\" title=\"Jobs\">Jobs</a> - <a href=\"/jobtrends/category-trends\">Job Category Trends</a> - <a href=\"/career-advice?isid=jasx_us-en&amp;ikw=jsfooter\" id=\"careeradvice_product_link\" title=\"Career Advice\">Career Advice</a> - <script type=\"text/javascript\">\n",
      "var jobsProductLink = document.getElementById('jobs_product_link');\n",
      "</script>\n",
      "\n",
      "<a href=\"http://www.hiringlab.org\">Hiring Lab</a> - <a href=\"/find-jobs.jsp\">Browse Jobs</a> - <a href=\"/tools/jobseeker/\">Tools</a> - <a href=\"http://www.indeed.jobs\">Work at Indeed</a> - <a href=\"/publisher\">API</a> - <a href=\"/intl/en/about.html\"><span style=\"white-space: nowrap;\">About</span></a> - <a href=\"https://indeed.zendesk.com/hc/en-us\">Help Center</a>\n",
      "<style type=\"text/css\">\n",
      "#footer-legal {\n",
      "margin-top: 10px;\n",
      "font-size: 9pt;\n",
      "}\n",
      "</style>\n",
      "<div id=\"footer-legal\">\n",
      "<div class=\"legal-footer\">©2017 Indeed - <a href=\"/legal\">Cookies, Privacy and Terms</a></div></div>\n",
      "</div>\n",
      "</div>\n",
      "\n",
      "<div id=\"resumeCtaFooter\" style=\"height:64px;\"><div style=\"position:absolute;width:100%;\"><link href=\"/styles/indeed-component-library/Button.css\" rel=\"stylesheet\"/><style type=\"text/css\">\n",
      "        .footerCta {\n",
      "            text-align:center;\n",
      "            margin:0px;\n",
      "            font-size:15px;\n",
      "            width:100%;\n",
      "        }\n",
      "\n",
      "        .footerCta.blueBar {\n",
      "            background-color:#2164f3;\n",
      "            color:#ffffff;\n",
      "        }\n",
      "\n",
      "        .footerCta.greyBar {\n",
      "            background-color:#ebebeb;\n",
      "            color:#000000;\n",
      "        }\n",
      "\n",
      "        div.content >table {\n",
      "            margin-bottom: 4em;\n",
      "        }\n",
      "    </style><script type=\"text/javascript\">if(null !== call_when_jsall_loaded) {call_when_jsall_loaded(function() {if(!!window.logPromoImpression) {window.logPromoImpression('trk.origin=jobsearch&trk.variant=FooterGrayBelow&trk.pos=below&trk.tk=1bu6rar4q0k4o3iu', 'resume');}})}</script><div class=\"footerCta greyBar\">Let Employers Find You  <style type=\"text/css\">\n",
      "        .cta_button {\n",
      "            text-decoration:none !important;\n",
      "            margin: 12px !important;\n",
      "        }\n",
      "\n",
      "        .cta_button.blue  {\n",
      "            color: #f8f8f9 !important;\n",
      "        }\n",
      "\n",
      "        .cta_button.grey {\n",
      "            color: #000000 !important;\n",
      "        }\n",
      "        </style><span dir=\"ltr\"><a class=\"icl-Button icl-Button--primary icl-Button--sm cta_button blue\" href=\"/promo/resume?from=bottomResumeCTAjobsearch&amp;trk.origin=jobsearch\" onclick=\"if(!!window.logPromoClick) {window.logPromoClick('trk.origin=jobsearch&amp;trk.variant=FooterGrayBelow&amp;trk.pos=below&amp;trk.tk=1bu6rar4q0k4o3iu', 'resume','/promo/resume?from=bottomResumeCTAjobsearch&amp;trk.origin=jobsearch');}\">Upload Your Resume</a></span></div></div></div></div>\n",
      "</td></tr></tbody></table>\n",
      "\n",
      "<script type=\"text/javascript\">\n",
      "function sm_cv_tag(activityId) {\n",
      "var ebRand = Math.random()+'';\n",
      "ebRand = ebRand * 1000000;\n",
      "\n",
      "var tagContainer = document.body.appendChild(document.createElement(\"div\"));\n",
      "tagContainer.style.position=\"absolute\";\n",
      "tagContainer.style.top=\"0\";\n",
      "tagContainer.style.left=\"0\";\n",
      "tagContainer.style.width=\"1px\";\n",
      "tagContainer.style.height=\"1px\";\n",
      "tagContainer.style.display=\"none\";\n",
      "\n",
      "var jsTag = document.createElement('script');\n",
      "jsTag.src = '//bs.serving-sys.com/Serving/ActivityServer.bs?cn=as&ActivityID=' + activityId + '&rnd=' + ebRand;\n",
      "jsTag.setAttribute('crossorigin', 'anonymous');\n",
      "jsTag.style.width=\"1px\";\n",
      "jsTag.style.height=\"1px\";\n",
      "jsTag.style.border=\"0\";\n",
      "jsTag.async = 1;\n",
      "\n",
      "var noScript = document.createElement(\"noscript\");\n",
      "var noScriptText = '<img width=\"1\" height=\"1\" style=\"border:0\" src=\"//bs.serving-sys.com/Serving/ActivityServer.bs?cn=as&ActivityID=' + activityId + '&ns=1\"/>';\n",
      "\n",
      "// IE less than 9 and RCs do not support innerHTML on some DOM elements, but supports .text for it\n",
      "if (((typeof noScript.canHaveHTML) === \"boolean\") && (noScript.canHaveHTML === false)) { // canHaveHTML only exists for IE\n",
      "noScript.text = noScriptText;\n",
      "} else {\n",
      "noScript.innerHTML = noScriptText;\n",
      "}\n",
      "\n",
      "tagContainer.appendChild(jsTag);\n",
      "tagContainer.appendChild(noScript);\n",
      "}\n",
      "</script>\n",
      "<script type=\"text/javascript\">\n",
      "<!--\n",
      "(function ( tk ) { if ( tk && document.images ) { var s=\"/\", q=\"?\", a=\"&\", e=\"=\"; rpc(s+\"rpc\"+s+\"log\"+q+\"a\"+e+\"jsv\"+a+\"tk\"+e+tk); } })('1bu6rar4q0k4o3iu');\n",
      "function jsall_loaded() {\n",
      "\n",
      "\n",
      "initProcessLeftoverDwellEntries();\n",
      "\n",
      "detectBrowserState('jobsearch', '1bu6rar4q0k4o3iu');\n",
      "\n",
      "initLogTiming('jobsearch', '1bu6rar4q0k4o3iu');\n",
      "\n",
      "attachSjBlock('');\n",
      "attachJaBlock('');\n",
      "}\n",
      "if (window['closureReady'] === true) {\n",
      "jsall_loaded();\n",
      "}\n",
      "//-->\n",
      "</script>\n",
      "<!-- Salary disclaimer (a hidden full screen modal) should be in the level of body. -->\n",
      "<script type=\"text/javascript\">\n",
      "PENDING_ANALYTICS_VARS = window.PENDING_ANALYTICS_VARS || [];\n",
      "PENDING_ANALYTICS_VARS[PENDING_ANALYTICS_VARS.length] = ['_setCustomVar', 5, 'loggedIn', 'false', 3];\n",
      "</script>\n",
      "<script type=\"text/javascript\">\n",
      "var ga_domains = [];\n",
      "ga_domains.push('indeed.co.in');ga_domains.push('indeed.lu');ga_domains.push('indeed.fr');ga_domains.push('indeed.de');ga_domains.push('indeed.com.br');ga_domains.push('indeed.co.uk');ga_domains.push('indeed.hk');ga_domains.push('indeed.fi');ga_domains.push('indeed.pt');ga_domains.push('indeed.jp');ga_domains.push('indeed.com');ga_domains.push('indeed.com.sg');ga_domains.push('indeed.nl');ga_domains.push('indeed.com.pk');ga_domains.push('indeed.cl');ga_domains.push('indeed.es');ga_domains.push('indeed.co.ve');ga_domains.push('indeed.ae');ga_domains.push('indeed.com.mx');ga_domains.push('indeed.com.my');ga_domains.push('indeed.ch');ga_domains.push('indeed.com.co');ga_domains.push('indeed.com.ph');ga_domains.push('indeed.co.za');ga_domains.push('indeed.ie');ga_domains.push('indeed.com.au');ga_domains.push('indeed.ca');ga_domains.push('indeed.com.pe');\n",
      "\n",
      "(function (i, s, o, g, r, a, m) {\n",
      "i['GoogleAnalyticsObject'] = r;\n",
      "i[r] = i[r] || function () {\n",
      "(i[r].q = i[r].q || []).push(arguments)\n",
      "}, i[r].l = 1 * new Date();\n",
      "a = s.createElement(o),\n",
      "m = s.getElementsByTagName(o)[0];\n",
      "a.async = 1;\n",
      "a.src = g;\n",
      "m.parentNode.insertBefore(a, m)\n",
      "})(window, document, 'script', '//www.google-analytics.com/analytics.js', 'ga');\n",
      "\n",
      "var ga = ga || [];\n",
      "ga('create', 'UA-90780-1', 'auto', {\n",
      "'allowLinker': true\n",
      "});\n",
      "ga('require', 'linkid');\n",
      "ga('require', 'linker');\n",
      "ga('linker:autoLink', ga_domains, false, true);\n",
      "ga('require', 'displayfeatures');\n",
      "ga('send', 'pageview');\n",
      "\n",
      "\n",
      "(function () {\n",
      "if (window.PENDING_ANALYTICS_VARS && window.PENDING_ANALYTICS_VARS.length > 0) {\n",
      "for (var i in PENDING_ANALYTICS_VARS) {\n",
      "ga('set', PENDING_ANALYTICS_VARS[i][2], PENDING_ANALYTICS_VARS[i][3]);\n",
      "}\n",
      "}\n",
      "})();\n",
      "</script>\n",
      "<script>\n",
      "!function(f,b,e,v,n,t,s){if(f.fbq)return;n=f.fbq=function(){n.callMethod?\n",
      "n.callMethod.apply(n,arguments):n.queue.push(arguments)};if(!f._fbq)f._fbq=n;\n",
      "n.push=n;n.loaded=!0;n.version='2.0';n.queue=[];t=b.createElement(e);t.async=!0;\n",
      "t.src=v;s=b.getElementsByTagName(e)[0];s.parentNode.insertBefore(t,s)}(window,\n",
      "document,'script','https://connect.facebook.net/en_US/fbevents.js');\n",
      "\n",
      "fbq('init', '579216298929618');\n",
      "fbq('track', \"PageView\");</script>\n",
      "<noscript><img height=\"1\" src=\"https://www.facebook.com/tr?id=579216298929618&amp;ev=PageView&amp;noscript=1\" style=\"display:none\" width=\"1\"/></noscript>\n",
      "<script>\n",
      "var _comscore = _comscore || [];\n",
      "_comscore.push({ c1: \"2\", c2: \"6486505\", c4:\"www.indeed.com/q-data-scientist-jobs.html\", c15:\"1bu6rar4m0k4o0uq\"});\n",
      "(function() { var s = document.createElement(\"script\"), el = document.getElementsByTagName(\"script\")[0]; s.async = true; s.src = (document.location.protocol == \"https:\" ? \"https://sb\" : \"http://b\") + \".scorecardresearch.com/beacon.js\"; el.parentNode.insertBefore(s, el); })();\n",
      "</script>\n",
      "<noscript>\n",
      "<img alt=\"\" height=\"0\" src=\"http://b.scorecardresearch.com/p?c1=2&amp;c2=6486505&amp;c4=www.indeed.com%2Fq-data-scientist-jobs.html&amp;c15=1bu6rar4m0k4o0uq&amp;cv=2.0&amp;cj=1\" style=\"display:none\" width=\"0\"/>\n",
      "</noscript>\n",
      "<script>(function(){\n",
      "})();</script>\n",
      "\n",
      "\n",
      "</body></html>\n"
     ]
    }
   ],
   "source": [
    "# Fixed url for job postings containing data scientist\n",
    "url = 'http://www.indeed.com/jobs?q=data+scientist&l='\n",
    "# read the website\n",
    "source = urllib.request.urlopen(url).read()\n",
    "# parse html code\n",
    "bs_tree = bs4.BeautifulSoup(source, \"html5lib\")\n",
    "print(bs_tree)"
   ]
  },
  {
   "cell_type": "code",
   "execution_count": 187,
   "metadata": {
    "slideshow": {
     "slide_type": "slide"
    }
   },
   "outputs": [
    {
     "name": "stdout",
     "output_type": "stream",
     "text": [
      "Search yielded 23,626 hits.\n",
      "<class 'int'>\n",
      "23626\n"
     ]
    }
   ],
   "source": [
    "# see how many job postings we found\n",
    "job_count_string = bs_tree.find(id = 'searchCount').contents[0]\n",
    "job_count_string = job_count_string.split()[-1]\n",
    "print(\"Search yielded %s hits.\" % (job_count_string))\n",
    "\n",
    "# not that job_count so far is still a string, \n",
    "# not an integer, and the , separator prevents \n",
    "# us from just casting it to int\n",
    "\n",
    "job_count_digits = [int(d) for d in job_count_string if d.isdigit()]\n",
    "job_count = np.sum([digit*(10**exponent) for digit, exponent in \n",
    "                    zip(job_count_digits[::-1], range(len(job_count_digits)))])\n",
    "\n",
    "#print(job_count)\n",
    "# Much easier way.\n",
    "test =int(job_count_string.replace(\",\",\"\"))\n",
    "print(type(test))\n",
    "print(test)"
   ]
  },
  {
   "cell_type": "code",
   "execution_count": 189,
   "metadata": {
    "slideshow": {
     "slide_type": "slide"
    }
   },
   "outputs": [
    {
     "name": "stdout",
     "output_type": "stream",
     "text": [
      "2363\n",
      "2353\n",
      "We found a lot of jobs:  180\n"
     ]
    }
   ],
   "source": [
    "# The website is only listing 10 results per page, \n",
    "# so we need to scrape them page after page\n",
    "num_pages = int(np.ceil(job_count/10.0))\n",
    "\n",
    "base_url = 'http://www.indeed.com'\n",
    "job_links = []\n",
    "for i in range(20): #do range(num_pages) if you want them all\n",
    "    if i%10==0:\n",
    "        print(num_pages-i)\n",
    "    url = 'http://www.indeed.com/jobs?q=data+scientist&start=' + str(i*10)\n",
    "    html_page = urllib.request.urlopen(url).read() \n",
    "    bs_tree = bs4.BeautifulSoup(html_page, \"html5lib\")\n",
    "    job_link_area = bs_tree.find(id = 'resultsCol')\n",
    "    job_postings = job_link_area.findAll(\"div\")\n",
    "    job_postings = [jp for jp in job_postings if not jp.get('class') is None \n",
    "                    and ''.join(jp.get('class')) ==\"rowresult\"]\n",
    "    job_ids = [jp.get('data-jk') for jp in job_postings]\n",
    "    \n",
    "    # go after each link\n",
    "    for id in job_ids:\n",
    "        job_links.append(base_url + '/rc/clk?jk=' + id)\n",
    "\n",
    "    time.sleep(1)\n",
    "\n",
    "print(\"We found a lot of jobs: \", len(job_links))"
   ]
  },
  {
   "cell_type": "markdown",
   "metadata": {
    "slideshow": {
     "slide_type": "slide"
    }
   },
   "source": [
    "Some precautions to enable us to restart our search\n",
    "========================="
   ]
  },
  {
   "cell_type": "code",
   "execution_count": 204,
   "metadata": {
    "collapsed": true,
    "slideshow": {
     "slide_type": "-"
    }
   },
   "outputs": [],
   "source": [
    "# Save the scraped links\n",
    "#with open('scraped_links.pkl', 'wb') as f:\n",
    "#    cPickle.dump(job_links, f)\n",
    "    \n",
    "# Read canned scraped links\n",
    "with open('data/scraped_links.pkl',  'rb') as f:\n",
    "    job_links = cPickle.load(f)    "
   ]
  },
  {
   "cell_type": "code",
   "execution_count": 205,
   "metadata": {
    "collapsed": true,
    "slideshow": {
     "slide_type": "slide"
    }
   },
   "outputs": [],
   "source": [
    "skill_set = {'mapreduce': 0, 'spark': 0}\n",
    "\n",
    "## write initialization into a file, so we can restart later\n",
    "#with open('scraped_links_restart.pkl', 'wb') as f:\n",
    "#    cPickle.dump((skill_set, 0),f)    "
   ]
  },
  {
   "cell_type": "markdown",
   "metadata": {
    "slideshow": {
     "slide_type": "slide"
    }
   },
   "source": [
    "Python Dictonaries\n",
    "==================\n",
    "\n",
    "* build in data type\n",
    "* uses key: value pairs"
   ]
  },
  {
   "cell_type": "code",
   "execution_count": 206,
   "metadata": {
    "slideshow": {
     "slide_type": "slide"
    }
   },
   "outputs": [
    {
     "name": "stdout",
     "output_type": "stream",
     "text": [
      "{'a': 1, 'b': 2}\n",
      "dict_keys(['a', 'b'])\n",
      "dict_values([1, 2])\n",
      "a 1\n",
      "b 2\n",
      "a 1\n",
      "b 2\n"
     ]
    }
   ],
   "source": [
    "a = {'a': 1, 'b':2}\n",
    "print(a)\n",
    "\n",
    "#show keys\n",
    "print(a.keys())\n",
    "\n",
    "#show values\n",
    "print(a.values())\n",
    "\n",
    "#show for loop over all entries\n",
    "# option 1 using zip\n",
    "# this works also for iterating over any\n",
    "# other two lists\n",
    "for k,v in zip(a.keys(), a.values()):\n",
    "    print(k,v)\n",
    "\n",
    "# option 2 using the dictionary `iteritems()` function\n",
    "for k,v in a.items():\n",
    "    print(k,v)"
   ]
  },
  {
   "cell_type": "code",
   "execution_count": 210,
   "metadata": {
    "slideshow": {
     "slide_type": "slide"
    }
   },
   "outputs": [
    {
     "name": "stdout",
     "output_type": "stream",
     "text": [
      "How many websites still to go?  0\n"
     ]
    }
   ],
   "source": [
    "# This code below does the trick, but could be optimized for speed if necessary\n",
    "# e.g. skills are typically listed at the end of the webpage\n",
    "# might not need to split/join the whole webpage, as we already know\n",
    "# which words we are looking for \n",
    "# and could stop after the first occurance of each word\n",
    "\n",
    "with open('data/scraped_links_restart.pkl', 'rb') as f:\n",
    "    skill_set, index = cPickle.load(f)\n",
    "    print(\"How many websites still to go? \", len(job_links) - index)\n",
    "    \n",
    "    "
   ]
  },
  {
   "cell_type": "code",
   "execution_count": 217,
   "metadata": {
    "collapsed": true,
    "slideshow": {
     "slide_type": "slide"
    }
   },
   "outputs": [],
   "source": [
    "counter = 0\n",
    "\n",
    "for link in job_links[index:]:\n",
    "    counter +=1  \n",
    "    \n",
    "    try:\n",
    "        html_page = urllib.request.urlopen(link).read()\n",
    "        print(\"OK\")\n",
    "    except urllib2.HTTPError:\n",
    "        print(\"HTTPError:\")\n",
    "        continue\n",
    "    except urllib2.URLError:\n",
    "        print(\"URLError:\")\n",
    "        continue\n",
    "    except socket.error as error:\n",
    "        print(\"Connection closed\")\n",
    "        continue\n",
    "\n",
    "    html_text = re.sub(\"[^a-z.+3]\",\" \", html_page.lower()) # replace all but the listed characters\n",
    "        \n",
    "    for key in skill_set.keys():\n",
    "        if key in html_text:  \n",
    "            skill_set[key] +=1\n",
    "            \n",
    "    if counter % 5 == 0:\n",
    "        print(len(job_links) - counter - index)\n",
    "        print(skill_set)\n",
    "        with open('data/scraped_links_restart.pkl','wb') as f:\n",
    "            cPickle.dump((skill_set, index+counter),f)"
   ]
  },
  {
   "cell_type": "code",
   "execution_count": 218,
   "metadata": {
    "slideshow": {
     "slide_type": "slide"
    }
   },
   "outputs": [
    {
     "name": "stdout",
     "output_type": "stream",
     "text": [
      "{'spark': 31, 'mapreduce': 16}\n"
     ]
    }
   ],
   "source": [
    "print(skill_set)"
   ]
  },
  {
   "cell_type": "code",
   "execution_count": 224,
   "metadata": {
    "slideshow": {
     "slide_type": "slide"
    }
   },
   "outputs": [
    {
     "data": {
      "image/png": "[encoded data removed]",
      "text/plain": [
       "<matplotlib.figure.Figure at 0x13ea7c50>"
      ]
     },
     "metadata": {},
     "output_type": "display_data"
    }
   ],
   "source": [
    "pseries = pd.Series(skill_set)\n",
    "pseries.sort_values(ascending = False)\n",
    "\n",
    "pseries.plot(kind = 'bar')\n",
    "## set the title to Score Comparison\n",
    "plt.title('Data Science Skills')\n",
    "plt.xlabel('Skills')\n",
    "plt.ylabel('Count')\n",
    "plt.show()"
   ]
  },
  {
   "cell_type": "markdown",
   "metadata": {},
   "source": [
    "Some more regular expressions:\n",
    "================="
   ]
  },
  {
   "cell_type": "code",
   "execution_count": null,
   "metadata": {
    "collapsed": true
   },
   "outputs": [],
   "source": []
  },
  {
   "cell_type": "markdown",
   "metadata": {
    "slideshow": {
     "slide_type": "slide"
    }
   },
   "source": [
    "Another Example\n",
    "================\n",
    "\n",
    "Designed by Katharine Jarmul\n",
    "----------------------------\n",
    "\n",
    "https://github.com/kjam/python-web-scraping-tutorial\n",
    "\n",
    "\n"
   ]
  },
  {
   "cell_type": "markdown",
   "metadata": {
    "slideshow": {
     "slide_type": "slide"
    }
   },
   "source": [
    "Scraping Happy Hours\n",
    "====================\n",
    "\n",
    "Scrape the happy hour list of LA for personal preferences\n",
    "\n",
    "http://www.downtownla.com/3_10_happyHours.asp?action=ALL\n",
    "\n",
    "This example is part of her talk about data scraping at PyCon2014. She is a really good speaker and I enjoyed watching her talk. Check it out: http://www.youtube.com/watch?v=p1iX0uxM1w8"
   ]
  },
  {
   "cell_type": "code",
   "execution_count": 233,
   "metadata": {
    "slideshow": {
     "slide_type": "-"
    }
   },
   "outputs": [
    {
     "ename": "HTTPError",
     "evalue": "HTTP Error 404: Not Found",
     "output_type": "error",
     "traceback": [
      "\u001b[1;31m---------------------------------------------------------------------------\u001b[0m",
      "\u001b[1;31mHTTPError\u001b[0m                                 Traceback (most recent call last)",
      "\u001b[1;32m<ipython-input-233-08e783f8779e>\u001b[0m in \u001b[0;36m<module>\u001b[1;34m()\u001b[0m\n\u001b[0;32m      4\u001b[0m \u001b[1;31m# First, I'm going to identify the areas of the page I want to look at\u001b[0m\u001b[1;33m\u001b[0m\u001b[1;33m\u001b[0m\u001b[0m\n\u001b[0;32m      5\u001b[0m \u001b[0murl\u001b[0m \u001b[1;33m=\u001b[0m \u001b[1;34m'https://www.downtownla.com/3_10_happyHours.asp?action=ALL'\u001b[0m\u001b[1;33m\u001b[0m\u001b[0m\n\u001b[1;32m----> 6\u001b[1;33m \u001b[0msource\u001b[0m \u001b[1;33m=\u001b[0m \u001b[0murllib\u001b[0m\u001b[1;33m.\u001b[0m\u001b[0mrequest\u001b[0m\u001b[1;33m.\u001b[0m\u001b[0murlopen\u001b[0m\u001b[1;33m(\u001b[0m\u001b[0murl\u001b[0m\u001b[1;33m)\u001b[0m\u001b[1;33m.\u001b[0m\u001b[0mread\u001b[0m\u001b[1;33m(\u001b[0m\u001b[1;33m)\u001b[0m\u001b[1;33m\u001b[0m\u001b[0m\n\u001b[0m\u001b[0;32m      7\u001b[0m \u001b[0mtables\u001b[0m \u001b[1;33m=\u001b[0m \u001b[0mbs4\u001b[0m\u001b[1;33m.\u001b[0m\u001b[0mBeautifulSoup\u001b[0m\u001b[1;33m(\u001b[0m\u001b[0msource\u001b[0m\u001b[1;33m)\u001b[0m\u001b[1;33m\u001b[0m\u001b[0m\n",
      "\u001b[1;32mc:\\users\\honza\\appdata\\local\\programs\\python\\python36-32\\lib\\urllib\\request.py\u001b[0m in \u001b[0;36murlopen\u001b[1;34m(url, data, timeout, cafile, capath, cadefault, context)\u001b[0m\n\u001b[0;32m    221\u001b[0m     \u001b[1;32melse\u001b[0m\u001b[1;33m:\u001b[0m\u001b[1;33m\u001b[0m\u001b[0m\n\u001b[0;32m    222\u001b[0m         \u001b[0mopener\u001b[0m \u001b[1;33m=\u001b[0m \u001b[0m_opener\u001b[0m\u001b[1;33m\u001b[0m\u001b[0m\n\u001b[1;32m--> 223\u001b[1;33m     \u001b[1;32mreturn\u001b[0m \u001b[0mopener\u001b[0m\u001b[1;33m.\u001b[0m\u001b[0mopen\u001b[0m\u001b[1;33m(\u001b[0m\u001b[0murl\u001b[0m\u001b[1;33m,\u001b[0m \u001b[0mdata\u001b[0m\u001b[1;33m,\u001b[0m \u001b[0mtimeout\u001b[0m\u001b[1;33m)\u001b[0m\u001b[1;33m\u001b[0m\u001b[0m\n\u001b[0m\u001b[0;32m    224\u001b[0m \u001b[1;33m\u001b[0m\u001b[0m\n\u001b[0;32m    225\u001b[0m \u001b[1;32mdef\u001b[0m \u001b[0minstall_opener\u001b[0m\u001b[1;33m(\u001b[0m\u001b[0mopener\u001b[0m\u001b[1;33m)\u001b[0m\u001b[1;33m:\u001b[0m\u001b[1;33m\u001b[0m\u001b[0m\n",
      "\u001b[1;32mc:\\users\\honza\\appdata\\local\\programs\\python\\python36-32\\lib\\urllib\\request.py\u001b[0m in \u001b[0;36mopen\u001b[1;34m(self, fullurl, data, timeout)\u001b[0m\n\u001b[0;32m    530\u001b[0m         \u001b[1;32mfor\u001b[0m \u001b[0mprocessor\u001b[0m \u001b[1;32min\u001b[0m \u001b[0mself\u001b[0m\u001b[1;33m.\u001b[0m\u001b[0mprocess_response\u001b[0m\u001b[1;33m.\u001b[0m\u001b[0mget\u001b[0m\u001b[1;33m(\u001b[0m\u001b[0mprotocol\u001b[0m\u001b[1;33m,\u001b[0m \u001b[1;33m[\u001b[0m\u001b[1;33m]\u001b[0m\u001b[1;33m)\u001b[0m\u001b[1;33m:\u001b[0m\u001b[1;33m\u001b[0m\u001b[0m\n\u001b[0;32m    531\u001b[0m             \u001b[0mmeth\u001b[0m \u001b[1;33m=\u001b[0m \u001b[0mgetattr\u001b[0m\u001b[1;33m(\u001b[0m\u001b[0mprocessor\u001b[0m\u001b[1;33m,\u001b[0m \u001b[0mmeth_name\u001b[0m\u001b[1;33m)\u001b[0m\u001b[1;33m\u001b[0m\u001b[0m\n\u001b[1;32m--> 532\u001b[1;33m             \u001b[0mresponse\u001b[0m \u001b[1;33m=\u001b[0m \u001b[0mmeth\u001b[0m\u001b[1;33m(\u001b[0m\u001b[0mreq\u001b[0m\u001b[1;33m,\u001b[0m \u001b[0mresponse\u001b[0m\u001b[1;33m)\u001b[0m\u001b[1;33m\u001b[0m\u001b[0m\n\u001b[0m\u001b[0;32m    533\u001b[0m \u001b[1;33m\u001b[0m\u001b[0m\n\u001b[0;32m    534\u001b[0m         \u001b[1;32mreturn\u001b[0m \u001b[0mresponse\u001b[0m\u001b[1;33m\u001b[0m\u001b[0m\n",
      "\u001b[1;32mc:\\users\\honza\\appdata\\local\\programs\\python\\python36-32\\lib\\urllib\\request.py\u001b[0m in \u001b[0;36mhttp_response\u001b[1;34m(self, request, response)\u001b[0m\n\u001b[0;32m    640\u001b[0m         \u001b[1;32mif\u001b[0m \u001b[1;32mnot\u001b[0m \u001b[1;33m(\u001b[0m\u001b[1;36m200\u001b[0m \u001b[1;33m<=\u001b[0m \u001b[0mcode\u001b[0m \u001b[1;33m<\u001b[0m \u001b[1;36m300\u001b[0m\u001b[1;33m)\u001b[0m\u001b[1;33m:\u001b[0m\u001b[1;33m\u001b[0m\u001b[0m\n\u001b[0;32m    641\u001b[0m             response = self.parent.error(\n\u001b[1;32m--> 642\u001b[1;33m                 'http', request, response, code, msg, hdrs)\n\u001b[0m\u001b[0;32m    643\u001b[0m \u001b[1;33m\u001b[0m\u001b[0m\n\u001b[0;32m    644\u001b[0m         \u001b[1;32mreturn\u001b[0m \u001b[0mresponse\u001b[0m\u001b[1;33m\u001b[0m\u001b[0m\n",
      "\u001b[1;32mc:\\users\\honza\\appdata\\local\\programs\\python\\python36-32\\lib\\urllib\\request.py\u001b[0m in \u001b[0;36merror\u001b[1;34m(self, proto, *args)\u001b[0m\n\u001b[0;32m    568\u001b[0m         \u001b[1;32mif\u001b[0m \u001b[0mhttp_err\u001b[0m\u001b[1;33m:\u001b[0m\u001b[1;33m\u001b[0m\u001b[0m\n\u001b[0;32m    569\u001b[0m             \u001b[0margs\u001b[0m \u001b[1;33m=\u001b[0m \u001b[1;33m(\u001b[0m\u001b[0mdict\u001b[0m\u001b[1;33m,\u001b[0m \u001b[1;34m'default'\u001b[0m\u001b[1;33m,\u001b[0m \u001b[1;34m'http_error_default'\u001b[0m\u001b[1;33m)\u001b[0m \u001b[1;33m+\u001b[0m \u001b[0morig_args\u001b[0m\u001b[1;33m\u001b[0m\u001b[0m\n\u001b[1;32m--> 570\u001b[1;33m             \u001b[1;32mreturn\u001b[0m \u001b[0mself\u001b[0m\u001b[1;33m.\u001b[0m\u001b[0m_call_chain\u001b[0m\u001b[1;33m(\u001b[0m\u001b[1;33m*\u001b[0m\u001b[0margs\u001b[0m\u001b[1;33m)\u001b[0m\u001b[1;33m\u001b[0m\u001b[0m\n\u001b[0m\u001b[0;32m    571\u001b[0m \u001b[1;33m\u001b[0m\u001b[0m\n\u001b[0;32m    572\u001b[0m \u001b[1;31m# XXX probably also want an abstract factory that knows when it makes\u001b[0m\u001b[1;33m\u001b[0m\u001b[1;33m\u001b[0m\u001b[0m\n",
      "\u001b[1;32mc:\\users\\honza\\appdata\\local\\programs\\python\\python36-32\\lib\\urllib\\request.py\u001b[0m in \u001b[0;36m_call_chain\u001b[1;34m(self, chain, kind, meth_name, *args)\u001b[0m\n\u001b[0;32m    502\u001b[0m         \u001b[1;32mfor\u001b[0m \u001b[0mhandler\u001b[0m \u001b[1;32min\u001b[0m \u001b[0mhandlers\u001b[0m\u001b[1;33m:\u001b[0m\u001b[1;33m\u001b[0m\u001b[0m\n\u001b[0;32m    503\u001b[0m             \u001b[0mfunc\u001b[0m \u001b[1;33m=\u001b[0m \u001b[0mgetattr\u001b[0m\u001b[1;33m(\u001b[0m\u001b[0mhandler\u001b[0m\u001b[1;33m,\u001b[0m \u001b[0mmeth_name\u001b[0m\u001b[1;33m)\u001b[0m\u001b[1;33m\u001b[0m\u001b[0m\n\u001b[1;32m--> 504\u001b[1;33m             \u001b[0mresult\u001b[0m \u001b[1;33m=\u001b[0m \u001b[0mfunc\u001b[0m\u001b[1;33m(\u001b[0m\u001b[1;33m*\u001b[0m\u001b[0margs\u001b[0m\u001b[1;33m)\u001b[0m\u001b[1;33m\u001b[0m\u001b[0m\n\u001b[0m\u001b[0;32m    505\u001b[0m             \u001b[1;32mif\u001b[0m \u001b[0mresult\u001b[0m \u001b[1;32mis\u001b[0m \u001b[1;32mnot\u001b[0m \u001b[1;32mNone\u001b[0m\u001b[1;33m:\u001b[0m\u001b[1;33m\u001b[0m\u001b[0m\n\u001b[0;32m    506\u001b[0m                 \u001b[1;32mreturn\u001b[0m \u001b[0mresult\u001b[0m\u001b[1;33m\u001b[0m\u001b[0m\n",
      "\u001b[1;32mc:\\users\\honza\\appdata\\local\\programs\\python\\python36-32\\lib\\urllib\\request.py\u001b[0m in \u001b[0;36mhttp_error_default\u001b[1;34m(self, req, fp, code, msg, hdrs)\u001b[0m\n\u001b[0;32m    648\u001b[0m \u001b[1;32mclass\u001b[0m \u001b[0mHTTPDefaultErrorHandler\u001b[0m\u001b[1;33m(\u001b[0m\u001b[0mBaseHandler\u001b[0m\u001b[1;33m)\u001b[0m\u001b[1;33m:\u001b[0m\u001b[1;33m\u001b[0m\u001b[0m\n\u001b[0;32m    649\u001b[0m     \u001b[1;32mdef\u001b[0m \u001b[0mhttp_error_default\u001b[0m\u001b[1;33m(\u001b[0m\u001b[0mself\u001b[0m\u001b[1;33m,\u001b[0m \u001b[0mreq\u001b[0m\u001b[1;33m,\u001b[0m \u001b[0mfp\u001b[0m\u001b[1;33m,\u001b[0m \u001b[0mcode\u001b[0m\u001b[1;33m,\u001b[0m \u001b[0mmsg\u001b[0m\u001b[1;33m,\u001b[0m \u001b[0mhdrs\u001b[0m\u001b[1;33m)\u001b[0m\u001b[1;33m:\u001b[0m\u001b[1;33m\u001b[0m\u001b[0m\n\u001b[1;32m--> 650\u001b[1;33m         \u001b[1;32mraise\u001b[0m \u001b[0mHTTPError\u001b[0m\u001b[1;33m(\u001b[0m\u001b[0mreq\u001b[0m\u001b[1;33m.\u001b[0m\u001b[0mfull_url\u001b[0m\u001b[1;33m,\u001b[0m \u001b[0mcode\u001b[0m\u001b[1;33m,\u001b[0m \u001b[0mmsg\u001b[0m\u001b[1;33m,\u001b[0m \u001b[0mhdrs\u001b[0m\u001b[1;33m,\u001b[0m \u001b[0mfp\u001b[0m\u001b[1;33m)\u001b[0m\u001b[1;33m\u001b[0m\u001b[0m\n\u001b[0m\u001b[0;32m    651\u001b[0m \u001b[1;33m\u001b[0m\u001b[0m\n\u001b[0;32m    652\u001b[0m \u001b[1;32mclass\u001b[0m \u001b[0mHTTPRedirectHandler\u001b[0m\u001b[1;33m(\u001b[0m\u001b[0mBaseHandler\u001b[0m\u001b[1;33m)\u001b[0m\u001b[1;33m:\u001b[0m\u001b[1;33m\u001b[0m\u001b[0m\n",
      "\u001b[1;31mHTTPError\u001b[0m: HTTP Error 404: Not Found"
     ]
    }
   ],
   "source": [
    "stuff_i_like = ['burger', 'sushi', 'sweet potato fries', 'BBQ','beer']\n",
    "found_happy_hours = []\n",
    "my_happy_hours = []\n",
    "# First, I'm going to identify the areas of the page I want to look at\n",
    "url = 'https://www.downtownla.com/3_10_happyHours.asp?action=ALL'\n",
    "source = urllib.request.urlopen(url).read()\n",
    "tables = bs4.BeautifulSoup(source)"
   ]
  },
  {
   "cell_type": "code",
   "execution_count": 43,
   "metadata": {
    "slideshow": {
     "slide_type": "slide"
    }
   },
   "outputs": [
    {
     "name": "stdout",
     "output_type": "stream",
     "text": [
      "The scraper found 63 happy hours!\n"
     ]
    }
   ],
   "source": [
    "# Then, I'm going to sort out the *exact* parts of the page\n",
    "# that match what I'm looking for...\n",
    "for t in tables.findAll('p', {'class': 'calendar_EventTitle'}):\n",
    "    text = t.text\n",
    "    for s in t.findNextSiblings():\n",
    "        text += '\\n' + s.text\n",
    "    found_happy_hours.append(text)\n",
    "\n",
    "print \"The scraper found %d happy hours!\" % len(found_happy_hours)"
   ]
  },
  {
   "cell_type": "code",
   "execution_count": 44,
   "metadata": {
    "slideshow": {
     "slide_type": "slide"
    }
   },
   "outputs": [
    {
     "name": "stdout",
     "output_type": "stream",
     "text": [
      "YAY! I found some burger!\n",
      "YAY! I found some burger!\n",
      "YAY! I found some sushi!\n",
      "YAY! I found some sushi!\n",
      "YAY! I found some beer!\n",
      "YAY! I found some beer!\n",
      "YAY! I found some beer!\n",
      "YAY! I found some beer!\n",
      "YAY! I found some beer!\n",
      "YAY! I found some beer!\n",
      "YAY! I found some beer!\n",
      "YAY! I found some beer!\n",
      "I think you might like 12 of them, yipeeeee!\n"
     ]
    }
   ],
   "source": [
    "# Now I'm going to loop through the food I like\n",
    "# and see if any of the happy hour descriptions match\n",
    "for food in stuff_i_like:\n",
    "    for hh in found_happy_hours:\n",
    "        # checking for text AND making sure I don't have duplicates\n",
    "        if food in hh and hh not in my_happy_hours:\n",
    "            print \"YAY! I found some %s!\" % food\n",
    "            my_happy_hours.append(hh)\n",
    "\n",
    "print \"I think you might like %d of them, yipeeeee!\" % len(my_happy_hours)"
   ]
  },
  {
   "cell_type": "code",
   "execution_count": 45,
   "metadata": {
    "collapsed": true,
    "slideshow": {
     "slide_type": "slide"
    }
   },
   "outputs": [],
   "source": [
    "# Now, let's make a mail message we can read:\n",
    "message = 'Hey Katharine,\\n\\n\\n'\n",
    "message += 'OMG, I found some stuff for you in Downtown, take a look.\\n\\n'\n",
    "message += '==============================\\n'.join(my_happy_hours)\n",
    "message = message.encode('utf-8')\n",
    "# To read more about encoding:\n",
    "# http://diveintopython.org/xml_processing/unicode.html\n",
    "message = message.replace('\\t', '').replace('\\r', '')\n",
    "message += '\\n\\nXOXO,\\n Your Py Script'\n",
    "\n",
    "#print message"
   ]
  },
  {
   "cell_type": "markdown",
   "metadata": {
    "slideshow": {
     "slide_type": "slide"
    }
   },
   "source": [
    "Getting Data with an API\n",
    "=========================\n",
    "\n",
    "* API: application programming interface\n",
    "* some sites try to make your life easier\n",
    "* Twitter, New York Times, ImDB, rotten Tomatoes, Yelp, ..."
   ]
  },
  {
   "cell_type": "markdown",
   "metadata": {
    "slideshow": {
     "slide_type": "slide"
    }
   },
   "source": [
    "Rotten Tomatoes\n",
    "===============\n",
    "\n",
    "![The Wizard of Oz](images/wiz_oz.png \"The wizard of Oz\")\n",
    "\n",
    "http://www.rottentomatoes.com/top/\n"
   ]
  },
  {
   "cell_type": "markdown",
   "metadata": {
    "slideshow": {
     "slide_type": "slide"
    }
   },
   "source": [
    "API keys\n",
    "=========\n",
    "\n",
    "* required for data access\n",
    "* identifies application (you)\n",
    "* monitors usage\n",
    "* limits rates"
   ]
  },
  {
   "cell_type": "markdown",
   "metadata": {
    "slideshow": {
     "slide_type": "slide"
    }
   },
   "source": [
    "Rotten Tomatoes Key\n",
    "===================\n",
    "\n",
    "http://developer.rottentomatoes.com/member/register"
   ]
  },
  {
   "cell_type": "code",
   "execution_count": 235,
   "metadata": {
    "slideshow": {
     "slide_type": "slide"
    }
   },
   "outputs": [
    {
     "name": "stdout",
     "output_type": "stream",
     "text": [
      "Collecting requests\n",
      "  Downloading requests-2.18.4-py2.py3-none-any.whl (88kB)\n",
      "Collecting urllib3<1.23,>=1.21.1 (from requests)\n",
      "  Downloading urllib3-1.22-py2.py3-none-any.whl (132kB)\n",
      "Collecting idna<2.7,>=2.5 (from requests)\n",
      "  Downloading idna-2.6-py2.py3-none-any.whl (56kB)\n",
      "Collecting chardet<3.1.0,>=3.0.2 (from requests)\n",
      "  Downloading chardet-3.0.4-py2.py3-none-any.whl (133kB)\n",
      "Collecting certifi>=2017.4.17 (from requests)\n",
      "  Downloading certifi-2017.11.5-py2.py3-none-any.whl (330kB)\n",
      "Installing collected packages: urllib3, idna, chardet, certifi, requests\n",
      "Successfully installed certifi-2017.11.5 chardet-3.0.4 idna-2.6 requests-2.18.4 urllib3-1.22\n"
     ]
    },
    {
     "ename": "NameError",
     "evalue": "name 'rottenTomatoes_key' is not defined",
     "output_type": "error",
     "traceback": [
      "\u001b[1;31m---------------------------------------------------------------------------\u001b[0m",
      "\u001b[1;31mNameError\u001b[0m                                 Traceback (most recent call last)",
      "\u001b[1;32m<ipython-input-235-57d7e3f3781b>\u001b[0m in \u001b[0;36m<module>\u001b[1;34m()\u001b[0m\n\u001b[0;32m      3\u001b[0m \u001b[1;32mimport\u001b[0m \u001b[0mrequests\u001b[0m\u001b[1;33m\u001b[0m\u001b[0m\n\u001b[0;32m      4\u001b[0m \u001b[1;33m\u001b[0m\u001b[0m\n\u001b[1;32m----> 5\u001b[1;33m \u001b[0mapi_key\u001b[0m \u001b[1;33m=\u001b[0m \u001b[0mrottenTomatoes_key\u001b[0m\u001b[1;33m(\u001b[0m\u001b[1;33m)\u001b[0m\u001b[1;33m\u001b[0m\u001b[0m\n\u001b[0m\u001b[0;32m      6\u001b[0m \u001b[1;33m\u001b[0m\u001b[0m\n\u001b[0;32m      7\u001b[0m \u001b[0murl\u001b[0m \u001b[1;33m=\u001b[0m \u001b[1;34m'http://api.rottentomatoes.com/api/public/v1.0/lists/dvds/top_rentals.json?apikey='\u001b[0m \u001b[1;33m+\u001b[0m \u001b[0mapi_key\u001b[0m\u001b[1;33m\u001b[0m\u001b[0m\n",
      "\u001b[1;31mNameError\u001b[0m: name 'rottenTomatoes_key' is not defined"
     ]
    }
   ],
   "source": [
    "!pip3 install requests\n",
    "import json\n",
    "import requests\n",
    "\n",
    "api_key = rottenTomatoes_key()\n",
    "\n",
    "url = 'http://api.rottentomatoes.com/api/public/v1.0/lists/dvds/top_rentals.json?apikey=' + api_key\n",
    "data = urllib.request.urlopen(url).read()\n",
    "#print data"
   ]
  },
  {
   "cell_type": "markdown",
   "metadata": {
    "slideshow": {
     "slide_type": "slide"
    }
   },
   "source": [
    "JSON\n",
    "======\n",
    "\n",
    "* JavaScript Object Notation\n",
    "* human readable\n",
    "* transmit attribute-value pairs"
   ]
  },
  {
   "cell_type": "code",
   "execution_count": 236,
   "metadata": {
    "slideshow": {
     "slide_type": "slide"
    }
   },
   "outputs": [
    {
     "name": "stdout",
     "output_type": "stream",
     "text": [
      "{'a': 1, 'b': 2}\n",
      "{\"a\": 1, \"b\": 2}\n",
      "{'a': 1, 'b': 2}\n"
     ]
    }
   ],
   "source": [
    "a = {'a': 1, 'b':2}\n",
    "s = json.dumps(a)\n",
    "a2 = json.loads(s)\n",
    "\n",
    "## a is a dictionary\n",
    "print(a)\n",
    "## vs s is a string containing a in JSON encoding\n",
    "print(s)\n",
    "## reading back the keys are now in unicode\n",
    "print(a2)"
   ]
  },
  {
   "cell_type": "code",
   "execution_count": 70,
   "metadata": {
    "slideshow": {
     "slide_type": "slide"
    }
   },
   "outputs": [
    {
     "name": "stdout",
     "output_type": "stream",
     "text": [
      "Starting keys:\n",
      "[u'movies', u'link_template', u'links']\n",
      "\n",
      "Movie keys:\n",
      "[u'ratings', u'links', u'title', u'critics_consensus', u'release_dates', u'abridged_cast', u'synopsis', u'mpaa_rating', u'year', u'alternate_ids', u'posters', u'runtime', u'id']\n",
      "\n"
     ]
    }
   ],
   "source": [
    "## create dictionary from JSON \n",
    "dataDict = json.loads(data)\n",
    "\n",
    "## explore dictionary\n",
    "print \"Starting keys:\"\n",
    "print dataDict.keys()\n",
    "print\n",
    "\n",
    "## there is a key named `movies` containing a list of movies as a value\n",
    "movies = dataDict['movies']\n",
    "\n",
    "## each element of the list `movies` is a dictionary\n",
    "print \"Movie keys:\"\n",
    "print movies[0].keys()\n",
    "print"
   ]
  },
  {
   "cell_type": "code",
   "execution_count": 71,
   "metadata": {
    "slideshow": {
     "slide_type": "slide"
    }
   },
   "outputs": [
    {
     "name": "stdout",
     "output_type": "stream",
     "text": [
      "Movie rating keys:\n",
      "[u'critics_score', u'audience_score', u'critics_rating', u'audience_rating']\n",
      "\n",
      "Movie critics score rating:\n",
      "30\n",
      "\n"
     ]
    }
   ],
   "source": [
    "## one of the keys is called `ratings`\n",
    "## the value is yet another dictionary\n",
    "print \"Movie rating keys:\"\n",
    "print movies[0]['ratings'].keys()\n",
    "print\n",
    "\n",
    "## so we made it all the way to find the critics score\n",
    "print \"Movie critics score rating:\"\n",
    "print movies[0]['ratings']['critics_score']\n",
    "print"
   ]
  },
  {
   "cell_type": "markdown",
   "metadata": {
    "slideshow": {
     "slide_type": "slide"
    }
   },
   "source": [
    "Quiz\n",
    "=====\n",
    "\n",
    "* build a list with critics scores\n",
    "* build a list with audience scores"
   ]
  },
  {
   "cell_type": "code",
   "execution_count": 49,
   "metadata": {
    "collapsed": true,
    "slideshow": {
     "slide_type": "slide"
    }
   },
   "outputs": [],
   "source": [
    "# critics scores list\n",
    "critics_scores = [m['ratings']['critics_score'] for m in movies]\n",
    "\n",
    "# audience scores list\n",
    "audience_scores = [m['ratings']['audience_score'] for m in movies]"
   ]
  },
  {
   "cell_type": "markdown",
   "metadata": {
    "slideshow": {
     "slide_type": "skip"
    }
   },
   "source": [
    "The following code shows how to create a pandas data frame with the data we gathered from the webpage.\n",
    "Beware of the `set_index()` function in pandas. Per default it does not change the actual data frame! You need to either reassign the output or set the `inplace` argument to `True`."
   ]
  },
  {
   "cell_type": "code",
   "execution_count": 50,
   "metadata": {
    "slideshow": {
     "slide_type": "slide"
    }
   },
   "outputs": [
    {
     "data": {
      "text/html": [
       "<div>\n",
       "<table border=\"1\" class=\"dataframe\">\n",
       "  <thead>\n",
       "    <tr style=\"text-align: right;\">\n",
       "      <th></th>\n",
       "      <th>critics</th>\n",
       "      <th>audience</th>\n",
       "    </tr>\n",
       "  </thead>\n",
       "  <tbody>\n",
       "    <tr>\n",
       "      <th>Insurgent</th>\n",
       "      <td>30</td>\n",
       "      <td>62</td>\n",
       "    </tr>\n",
       "    <tr>\n",
       "      <th>Mad Max: Fury Road</th>\n",
       "      <td>97</td>\n",
       "      <td>88</td>\n",
       "    </tr>\n",
       "    <tr>\n",
       "      <th>Home</th>\n",
       "      <td>45</td>\n",
       "      <td>65</td>\n",
       "    </tr>\n",
       "  </tbody>\n",
       "</table>\n",
       "</div>"
      ],
      "text/plain": [
       "                    critics  audience\n",
       "Insurgent                30        62\n",
       "Mad Max: Fury Road       97        88\n",
       "Home                     45        65"
      ]
     },
     "execution_count": 50,
     "metadata": {},
     "output_type": "execute_result"
    }
   ],
   "source": [
    "## create pandas data frame with critics and audience score\n",
    "scores = pd.DataFrame(data=[critics_scores, audience_scores]).transpose()\n",
    "scores.columns = ['critics', 'audience']\n",
    "\n",
    "## also create a list with all movie titles\n",
    "movie_titles = [m['title'] for m in movies]\n",
    "\n",
    "## set index of dataFrame BEWARE of inplace!\n",
    "scores.set_index([movie_titles])\n",
    "\n",
    "## the line above does not changes scores!\n",
    "## You need to either reassign\n",
    "\n",
    "scores = scores.set_index([movie_titles])\n",
    "\n",
    "## or set the inplace argument to True\n",
    "scores.set_index([movie_titles], inplace=True)\n",
    "scores.head(3)"
   ]
  },
  {
   "cell_type": "code",
   "execution_count": 51,
   "metadata": {
    "slideshow": {
     "slide_type": "slide"
    }
   },
   "outputs": [
    {
     "data": {
      "text/plain": [
       "<matplotlib.text.Text at 0x141dd4b0>"
      ]
     },
     "execution_count": 51,
     "metadata": {},
     "output_type": "execute_result"
    },
    {
     "data": {
      "image/png": "[encoded data removed]",
      "text/plain": [
       "<matplotlib.figure.Figure at 0x141b8ab0>"
      ]
     },
     "metadata": {},
     "output_type": "display_data"
    }
   ],
   "source": [
    "## create a bar plot with the data\n",
    "## notice that we are using the data frame itself and call its plot function\n",
    "scores.plot(kind = 'bar')\n",
    "\n",
    "## set the title to Score Comparison\n",
    "plt.title('Score Comparison')\n",
    "\n",
    "## set the x label\n",
    "plt.xlabel('Movies')\n",
    "\n",
    "## set the y label\n",
    "plt.ylabel('Scores')"
   ]
  },
  {
   "cell_type": "code",
   "execution_count": 52,
   "metadata": {
    "collapsed": true,
    "slideshow": {
     "slide_type": "slide"
    }
   },
   "outputs": [],
   "source": [
    "## show the plot\n",
    "plt.show()"
   ]
  },
  {
   "cell_type": "markdown",
   "metadata": {
    "slideshow": {
     "slide_type": "slide"
    }
   },
   "source": [
    "Twitter Example:\n",
    "================\n",
    "\n",
    "* API a bit more complicated\n",
    "* libraries make life easier\n",
    "* python-twitter\n",
    "\n",
    "https://github.com/bear/python-twitter\n",
    "\n",
    "What we are going to do is scrape Joe's twitter account, and then filter it for the interesting tweets. Defining interesting as tweets that have be re-tweeted at least 10 times. \n"
   ]
  },
  {
   "cell_type": "code",
   "execution_count": 53,
   "metadata": {
    "collapsed": true,
    "slideshow": {
     "slide_type": "slide"
    }
   },
   "outputs": [],
   "source": [
    "import twitter\n",
    "\n",
    "## define the necessary keys\n",
    "cKey = twitterAPI_key()\n",
    "cSecret = twitterAPI_secret()\n",
    "aKey = twitterAPI_access_token_key()\n",
    "aSecret = twitterAPI_access_token_secret()\n",
    "\n",
    "## create the api object with the twitter-python library\n",
    "api = twitter.Api(consumer_key=cKey, consumer_secret=cSecret, access_token_key=aKey, access_token_secret=aSecret)\n"
   ]
  },
  {
   "cell_type": "code",
   "execution_count": 54,
   "metadata": {
    "slideshow": {
     "slide_type": "slide"
    }
   },
   "outputs": [
    {
     "data": {
      "text/html": [
       "<div>\n",
       "<table border=\"1\" class=\"dataframe\">\n",
       "  <thead>\n",
       "    <tr style=\"text-align: right;\">\n",
       "      <th></th>\n",
       "      <th>created_at</th>\n",
       "      <th>favorite_count</th>\n",
       "      <th>favorited</th>\n",
       "      <th>hashtags</th>\n",
       "      <th>id</th>\n",
       "      <th>in_reply_to_screen_name</th>\n",
       "      <th>in_reply_to_status_id</th>\n",
       "      <th>in_reply_to_user_id</th>\n",
       "      <th>lang</th>\n",
       "      <th>media</th>\n",
       "      <th>retweet_count</th>\n",
       "      <th>retweeted</th>\n",
       "      <th>retweeted_status</th>\n",
       "      <th>source</th>\n",
       "      <th>text</th>\n",
       "      <th>truncated</th>\n",
       "      <th>urls</th>\n",
       "      <th>user</th>\n",
       "      <th>user_mentions</th>\n",
       "    </tr>\n",
       "  </thead>\n",
       "  <tbody>\n",
       "    <tr>\n",
       "      <th>0</th>\n",
       "      <td>Mon Sep 07 22:17:04 +0000 2015</td>\n",
       "      <td>2</td>\n",
       "      <td>False</td>\n",
       "      <td>NaN</td>\n",
       "      <td>641012335738421248</td>\n",
       "      <td>lallen1618</td>\n",
       "      <td>6.409978e+17</td>\n",
       "      <td>2355874964</td>\n",
       "      <td>en</td>\n",
       "      <td>NaN</td>\n",
       "      <td>NaN</td>\n",
       "      <td>False</td>\n",
       "      <td>NaN</td>\n",
       "      <td>&lt;a href=\"http://twitter.com\" rel=\"nofollow\"&gt;Tw...</td>\n",
       "      <td>@lallen1618 @wzchen @AriBFriedman Good luck wi...</td>\n",
       "      <td>False</td>\n",
       "      <td>NaN</td>\n",
       "      <td>{u'id': 184543773, u'profile_sidebar_fill_colo...</td>\n",
       "      <td>[{u'screen_name': u'lallen1618', u'id': 235587...</td>\n",
       "    </tr>\n",
       "    <tr>\n",
       "      <th>1</th>\n",
       "      <td>Mon Sep 07 18:51:12 +0000 2015</td>\n",
       "      <td>NaN</td>\n",
       "      <td>False</td>\n",
       "      <td>NaN</td>\n",
       "      <td>640960524784640001</td>\n",
       "      <td>albertocairo</td>\n",
       "      <td>6.409594e+17</td>\n",
       "      <td>34255829</td>\n",
       "      <td>en</td>\n",
       "      <td>NaN</td>\n",
       "      <td>NaN</td>\n",
       "      <td>False</td>\n",
       "      <td>NaN</td>\n",
       "      <td>&lt;a href=\"http://twitter.com/download/iphone\" r...</td>\n",
       "      <td>@albertocairo @Sulliview @NateSilver538 But a ...</td>\n",
       "      <td>False</td>\n",
       "      <td>NaN</td>\n",
       "      <td>{u'id': 184543773, u'profile_sidebar_fill_colo...</td>\n",
       "      <td>[{u'screen_name': u'albertocairo', u'id': 3425...</td>\n",
       "    </tr>\n",
       "  </tbody>\n",
       "</table>\n",
       "</div>"
      ],
      "text/plain": [
       "                       created_at  favorite_count favorited hashtags  \\\n",
       "0  Mon Sep 07 22:17:04 +0000 2015               2     False      NaN   \n",
       "1  Mon Sep 07 18:51:12 +0000 2015             NaN     False      NaN   \n",
       "\n",
       "                   id in_reply_to_screen_name  in_reply_to_status_id  \\\n",
       "0  641012335738421248              lallen1618           6.409978e+17   \n",
       "1  640960524784640001            albertocairo           6.409594e+17   \n",
       "\n",
       "   in_reply_to_user_id lang media  retweet_count retweeted retweeted_status  \\\n",
       "0           2355874964   en   NaN            NaN     False              NaN   \n",
       "1             34255829   en   NaN            NaN     False              NaN   \n",
       "\n",
       "                                              source  \\\n",
       "0  <a href=\"http://twitter.com\" rel=\"nofollow\">Tw...   \n",
       "1  <a href=\"http://twitter.com/download/iphone\" r...   \n",
       "\n",
       "                                                text truncated urls  \\\n",
       "0  @lallen1618 @wzchen @AriBFriedman Good luck wi...     False  NaN   \n",
       "1  @albertocairo @Sulliview @NateSilver538 But a ...     False  NaN   \n",
       "\n",
       "                                                user  \\\n",
       "0  {u'id': 184543773, u'profile_sidebar_fill_colo...   \n",
       "1  {u'id': 184543773, u'profile_sidebar_fill_colo...   \n",
       "\n",
       "                                       user_mentions  \n",
       "0  [{u'screen_name': u'lallen1618', u'id': 235587...  \n",
       "1  [{u'screen_name': u'albertocairo', u'id': 3425...  "
      ]
     },
     "execution_count": 54,
     "metadata": {},
     "output_type": "execute_result"
    }
   ],
   "source": [
    "## get the user timeline with screen_name = 'stat110'\n",
    "twitter_statuses = api.GetUserTimeline(screen_name = 'stat110')\n",
    "\n",
    "## create a data frame\n",
    "## first get a list of panda Series or dict\n",
    "pdSeriesList = [pd.Series(t.AsDict()) for t in twitter_statuses]\n",
    "\n",
    "## then create the data frame\n",
    "data = pd.DataFrame(pdSeriesList)\n",
    "\n",
    "data.head(2)"
   ]
  },
  {
   "cell_type": "code",
   "execution_count": 55,
   "metadata": {
    "slideshow": {
     "slide_type": "slide"
    }
   },
   "outputs": [
    {
     "name": "stdout",
     "output_type": "stream",
     "text": [
      "######\n",
      "RT @NateSilver538: .@Sulliview: The fundamental sin is cherry-picking evidence to fit a narrative. Can happen in both \"reported\" and \"data-…\n",
      "######\n",
      "RT @Agent_Analytics: Watch out #datascientist 's. Always read the #job decscription. #data #DataScience #BigData #analytics #jokes http://t…\n",
      "######\n",
      "RT @rasbt: just felt like writing this morning ;) \"Python, Machine Learning &amp; Language Wars. A Highly Subjective Point of View\" http://t.co…\n",
      "######\n",
      "RT @ericcolson: Linear Algebra: took this course by G Strang years ago. Excellent and free! via @ajinkyakale \n",
      "http://t.co/UAqeHMzs4a http:/…\n"
     ]
    }
   ],
   "source": [
    "## filter tweets with enough retweet_count\n",
    "maybe_interesting = data[data.retweet_count>20]\n",
    "\n",
    "## get the text of these tweets\n",
    "tweet_text = maybe_interesting.text\n",
    "\n",
    "## print them out\n",
    "text = tweet_text.values\n",
    "\n",
    "for t in text:\n",
    "    print '######'\n",
    "    print t"
   ]
  },
  {
   "cell_type": "markdown",
   "metadata": {
    "slideshow": {
     "slide_type": "skip"
    }
   },
   "source": [
    "Extracting columns:\n",
    "===================\n",
    "\n",
    "__Warning:__ The returned column `tweet_text` is a `view` on the data\n",
    "    \n",
    "* it is not a copy\n",
    "* you change the Series => you change the DataFrame\n",
    "\n",
    "Below is another example of such a view:"
   ]
  },
  {
   "cell_type": "code",
   "execution_count": 56,
   "metadata": {
    "slideshow": {
     "slide_type": "skip"
    }
   },
   "outputs": [
    {
     "name": "stderr",
     "output_type": "stream",
     "text": [
      "C:\\Python27\\lib\\site-packages\\ipykernel\\__main__.py:7: SettingWithCopyWarning: \n",
      "A value is trying to be set on a copy of a slice from a DataFrame\n",
      "\n",
      "See the the caveats in the documentation: http://pandas.pydata.org/pandas-docs/stable/indexing.html#indexing-view-versus-copy\n",
      "C:\\Python27\\lib\\site-packages\\pandas\\core\\series.py:664: SettingWithCopyWarning: \n",
      "A value is trying to be set on a copy of a slice from a DataFrame\n",
      "\n",
      "See the the caveats in the documentation: http://pandas.pydata.org/pandas-docs/stable/indexing.html#indexing-view-versus-copy\n",
      "  self.loc[key] = value\n"
     ]
    },
    {
     "name": "stdout",
     "output_type": "stream",
     "text": [
      "-----------------\n",
      "This is view:\n",
      "3   NaN\n",
      "5   NaN\n",
      "6   NaN\n",
      "7   NaN\n",
      "Name: favorite_count, dtype: float64\n",
      "-----------------\n",
      "This is view after changing view[8]\n",
      "3     NaN\n",
      "5     NaN\n",
      "6     NaN\n",
      "7     NaN\n",
      "8    9999\n",
      "Name: favorite_count, dtype: float64\n",
      "-----------------\n",
      "This is maybe_interesting after changing view[8]\n",
      "It changed too!\n",
      "3     NaN\n",
      "5     NaN\n",
      "6     NaN\n",
      "7     NaN\n",
      "8    9999\n",
      "Name: favorite_count, dtype: float64\n",
      "-----------------\n",
      "This is independent_data after changed at 10:\n",
      "3      NaN\n",
      "5      NaN\n",
      "6      NaN\n",
      "7      NaN\n",
      "8     9999\n",
      "10     999\n",
      "Name: favorite_count, dtype: float64\n",
      "-----------------\n",
      "This is maybe_interesting after changing independent_data:\n",
      "It did not change because we only changed a copy of it\n",
      "3     NaN\n",
      "5     NaN\n",
      "6     NaN\n",
      "7     NaN\n",
      "8    9999\n",
      "Name: favorite_count, dtype: float64\n"
     ]
    },
    {
     "name": "stderr",
     "output_type": "stream",
     "text": [
      "C:\\Python27\\lib\\site-packages\\IPython\\core\\interactiveshell.py:3066: SettingWithCopyWarning: \n",
      "A value is trying to be set on a copy of a slice from a DataFrame\n",
      "\n",
      "See the the caveats in the documentation: http://pandas.pydata.org/pandas-docs/stable/indexing.html#indexing-view-versus-copy\n",
      "  exec(code_obj, self.user_global_ns, self.user_ns)\n"
     ]
    }
   ],
   "source": [
    "## create a view for favorite_count on maybe_interesting\n",
    "view = maybe_interesting['favorite_count']\n",
    "print '-----------------'\n",
    "print \"This is view:\"\n",
    "print view\n",
    "## change a value\n",
    "view[8] = 9999\n",
    "\n",
    "## look at original frame\n",
    "print '-----------------'\n",
    "print \"This is view after changing view[8]\"\n",
    "print view\n",
    "\n",
    "print '-----------------'\n",
    "print \"This is maybe_interesting after changing view[8]\"\n",
    "print \"It changed too!\"\n",
    "print maybe_interesting['favorite_count']\n",
    "\n",
    "## to avoid this you can use copy\n",
    "independent_data = maybe_interesting['favorite_count'].copy()\n",
    "independent_data[10] = 999\n",
    "print '-----------------'\n",
    "print \"This is independent_data after changed at 10:\"\n",
    "print independent_data\n",
    "print '-----------------'\n",
    "print \"This is maybe_interesting after changing independent_data:\"\n",
    "print \"It did not change because we only changed a copy of it\"\n",
    "print maybe_interesting['favorite_count']"
   ]
  },
  {
   "cell_type": "markdown",
   "metadata": {
    "collapsed": true,
    "slideshow": {
     "slide_type": "slide"
    }
   },
   "source": [
    "What we covered today:\n",
    "============\n",
    "\n",
    "* Pandas data frames\n",
    "* Guidelines for friendly scraping\n",
    "* Scraping html sites\n",
    "* Scraping with Api's\n",
    "* Basic data cleanup\n"
   ]
  },
  {
   "cell_type": "markdown",
   "metadata": {
    "slideshow": {
     "slide_type": "slide"
    }
   },
   "source": [
    "Further material\n",
    "================\n",
    "\n",
    "* I highly recommend Katharine Jarmul's scraping tutorials\n",
    "* For example [this one](https://www.youtube.com/watch?v=p1iX0uxM1w8)\n",
    "* Pandas has extensive [documentation](http://pandas.pydata.org/pandas-docs/stable/)\n",
    "* Especially the [tem minutes to pandas chapter](http://pandas.pydata.org/pandas-docs/stable/10min.html)\n",
    "\n",
    "* [Greg Reda](http://www.gregreda.com/2013/10/26/using-pandas-on-the-movielens-dataset/) did a lot more pandas examples for the movie lens data set"
   ]
  },
  {
   "cell_type": "code",
   "execution_count": null,
   "metadata": {
    "collapsed": true
   },
   "outputs": [],
   "source": []
  },
  {
   "cell_type": "code",
   "execution_count": null,
   "metadata": {
    "collapsed": true
   },
   "outputs": [],
   "source": []
  }
 ],
 "metadata": {
  "celltoolbar": "Slideshow",
  "kernelspec": {
   "display_name": "Python 3",
   "language": "python",
   "name": "python3"
  },
  "language_info": {
   "codemirror_mode": {
    "name": "ipython",
    "version": 3
   },
   "file_extension": ".py",
   "mimetype": "text/x-python",
   "name": "python",
   "nbconvert_exporter": "python",
   "pygments_lexer": "ipython3",
   "version": "3.6.2"
  }
 },
 "nbformat": 4,
 "nbformat_minor": 1
}
